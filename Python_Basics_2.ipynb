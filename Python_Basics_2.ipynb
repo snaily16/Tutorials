{
  "nbformat": 4,
  "nbformat_minor": 0,
  "metadata": {
    "colab": {
      "name": "Python-Basics-2.ipynb",
      "provenance": [],
      "toc_visible": true,
      "authorship_tag": "ABX9TyOcD2p+KB9Lahzmoza3Lgbk",
      "include_colab_link": true
    },
    "kernelspec": {
      "name": "python3",
      "display_name": "Python 3"
    },
    "language_info": {
      "name": "python"
    }
  },
  "cells": [
    {
      "cell_type": "markdown",
      "metadata": {
        "id": "view-in-github",
        "colab_type": "text"
      },
      "source": [
        "<a href=\"https://colab.research.google.com/github/snaily16/Tutorials/blob/master/Python_Basics_2.ipynb\" target=\"_parent\"><img src=\"https://colab.research.google.com/assets/colab-badge.svg\" alt=\"Open In Colab\"/></a>"
      ]
    },
    {
      "cell_type": "markdown",
      "source": [
        "# Data Types in Python\n",
        "\n",
        "Python has the following data types built-in by default, in these categories:\n",
        "\n",
        "    Text Type:          str\n",
        "    Numeric Types:      int, float, complex\n",
        "    Sequence Types: \tlist, tuple, range\n",
        "    Mapping Type:       dict\n",
        "    Set Types:          set, frozenset\n",
        "    Boolean Type:       bool\n",
        "    Binary Types:       bytes, bytearray, memoryview"
      ],
      "metadata": {
        "id": "qhbXB7ek8kyH"
      }
    },
    {
      "cell_type": "markdown",
      "source": [
        "## Strings\n",
        "\n",
        "*   Can be enclosed in single quotes ('...') or double quotes (\"...\") with the same result \n",
        "*   \\ can be used to escape quotes\n"
      ],
      "metadata": {
        "id": "TNagKq3Emo65"
      }
    },
    {
      "cell_type": "code",
      "source": [
        "s=\"this is a string\""
      ],
      "metadata": {
        "id": "e4AW6eNGG2_D"
      },
      "execution_count": null,
      "outputs": []
    },
    {
      "cell_type": "code",
      "source": [
        "\"doesn't\""
      ],
      "metadata": {
        "colab": {
          "base_uri": "https://localhost:8080/",
          "height": 36
        },
        "id": "-KWu80vQItSX",
        "outputId": "fd31c85c-e0f5-4b2a-95a2-a4daddf20189"
      },
      "execution_count": null,
      "outputs": [
        {
          "output_type": "execute_result",
          "data": {
            "application/vnd.google.colaboratory.intrinsic+json": {
              "type": "string"
            },
            "text/plain": [
              "\"doesn't\""
            ]
          },
          "metadata": {},
          "execution_count": 51
        }
      ]
    },
    {
      "cell_type": "code",
      "execution_count": null,
      "metadata": {
        "id": "SeltBYlRqAyT"
      },
      "outputs": [],
      "source": [
        "'doesn\\'t'"
      ]
    },
    {
      "cell_type": "code",
      "source": [
        "\"\\\"Yes,\\\" they said.\""
      ],
      "metadata": {
        "colab": {
          "base_uri": "https://localhost:8080/",
          "height": 36
        },
        "id": "OeL3RySbnCq0",
        "outputId": "edf04c60-5c92-42af-ce83-3cf5e0caa4b6"
      },
      "execution_count": null,
      "outputs": [
        {
          "output_type": "execute_result",
          "data": {
            "application/vnd.google.colaboratory.intrinsic+json": {
              "type": "string"
            },
            "text/plain": [
              "'\"Yes,\" they said.'"
            ]
          },
          "metadata": {},
          "execution_count": 52
        }
      ]
    },
    {
      "cell_type": "code",
      "source": [
        "s='First line.\\nSecond line.'\n",
        "print(s)"
      ],
      "metadata": {
        "colab": {
          "base_uri": "https://localhost:8080/"
        },
        "id": "SMqfrMa1nID3",
        "outputId": "5ec84845-30b9-40f3-a701-6cb5c28e640f"
      },
      "execution_count": null,
      "outputs": [
        {
          "output_type": "stream",
          "name": "stdout",
          "text": [
            "First line.\n",
            "Second line.\n"
          ]
        }
      ]
    },
    {
      "cell_type": "code",
      "source": [
        "print('C:\\some\\name')  # here \\n means newline!"
      ],
      "metadata": {
        "colab": {
          "base_uri": "https://localhost:8080/"
        },
        "id": "JZQyzDclnlrZ",
        "outputId": "6175e13c-ce76-4032-9e5c-7879cfb8d113"
      },
      "execution_count": null,
      "outputs": [
        {
          "output_type": "stream",
          "name": "stdout",
          "text": [
            "C:\\some\n",
            "ame\n"
          ]
        }
      ]
    },
    {
      "cell_type": "markdown",
      "source": [
        "If you don’t want characters prefaced by \\ to be interpreted as special characters, you can use raw strings by adding an r before the first quote"
      ],
      "metadata": {
        "id": "hrpal3pgniYL"
      }
    },
    {
      "cell_type": "code",
      "source": [
        "print(r'C:\\some\\name') "
      ],
      "metadata": {
        "colab": {
          "base_uri": "https://localhost:8080/"
        },
        "id": "Udb7BFACnPv6",
        "outputId": "a171addb-d588-4026-c660-3e71f17367dd"
      },
      "execution_count": null,
      "outputs": [
        {
          "output_type": "stream",
          "name": "stdout",
          "text": [
            "C:\\some\\name\n"
          ]
        }
      ]
    },
    {
      "cell_type": "markdown",
      "source": [
        "### Multiline Strings\n",
        "Using triple-quotes: `\"\"\"...\"\"\"` or `'''...'''`\n",
        "\n",
        "End of lines are automatically included in the string, but it’s possible to prevent this by adding a **`\\`** at the end of the line"
      ],
      "metadata": {
        "id": "fTIpKS_LnxTn"
      }
    },
    {
      "cell_type": "code",
      "source": [
        "print(''' abc\n",
        "''')"
      ],
      "metadata": {
        "id": "gF9_ZyuPJl1m"
      },
      "execution_count": null,
      "outputs": []
    },
    {
      "cell_type": "code",
      "source": [
        "print(\"\"\"abc\\\n",
        "Usage: thingy [OPTIONS]\n",
        "     -h                        Display this usage message\n",
        "     -H hostname               Hostname to connect to\n",
        "\"\"\")"
      ],
      "metadata": {
        "colab": {
          "base_uri": "https://localhost:8080/"
        },
        "id": "pwSXm5JMnpiI",
        "outputId": "e5be3c88-554a-40d0-cc9c-0ef5ae87d1a1"
      },
      "execution_count": null,
      "outputs": [
        {
          "output_type": "stream",
          "name": "stdout",
          "text": [
            "abcUsage: thingy [OPTIONS]\n",
            "     -h                        Display this usage message\n",
            "     -H hostname               Hostname to connect to\n",
            "\n"
          ]
        }
      ]
    },
    {
      "cell_type": "markdown",
      "source": [
        "### Concatenation "
      ],
      "metadata": {
        "id": "atflEUONqY5-"
      }
    },
    {
      "cell_type": "code",
      "source": [
        "s = 'Hello ' + 'World'\n",
        "print(s)"
      ],
      "metadata": {
        "colab": {
          "base_uri": "https://localhost:8080/"
        },
        "id": "RFhM_wF7qYK7",
        "outputId": "5c06a9d6-0223-4148-85c3-877319ee19ce"
      },
      "execution_count": null,
      "outputs": [
        {
          "output_type": "stream",
          "name": "stdout",
          "text": [
            "Hello World\n"
          ]
        }
      ]
    },
    {
      "cell_type": "markdown",
      "source": [
        "Two or more string literals (i.e. the ones enclosed between quotes) next to each other are automatically concatenated."
      ],
      "metadata": {
        "id": "BXzk5j3dqoMU"
      }
    },
    {
      "cell_type": "code",
      "source": [
        "'py' 'thon' ' is super'"
      ],
      "metadata": {
        "colab": {
          "base_uri": "https://localhost:8080/",
          "height": 36
        },
        "id": "TER4JAYkn0yU",
        "outputId": "cbca202a-3bcd-4075-893c-c57ed36aa56d"
      },
      "execution_count": null,
      "outputs": [
        {
          "output_type": "execute_result",
          "data": {
            "application/vnd.google.colaboratory.intrinsic+json": {
              "type": "string"
            },
            "text/plain": [
              "'python is super'"
            ]
          },
          "metadata": {},
          "execution_count": 62
        }
      ]
    },
    {
      "cell_type": "code",
      "source": [
        "prefix = 'Py'\n",
        "print(prefix + 'thon')        # This only works with two literals though, not with variables or expressions"
      ],
      "metadata": {
        "colab": {
          "base_uri": "https://localhost:8080/"
        },
        "id": "lyLHfN6Hqkru",
        "outputId": "ec602576-9244-4ccc-d2e5-495230030892"
      },
      "execution_count": null,
      "outputs": [
        {
          "output_type": "stream",
          "name": "stdout",
          "text": [
            "Python\n"
          ]
        }
      ]
    },
    {
      "cell_type": "markdown",
      "source": [
        "### Repetition\n",
        "\n",
        "Using * operator"
      ],
      "metadata": {
        "id": "xeq1meEPrIds"
      }
    },
    {
      "cell_type": "code",
      "source": [
        "'py'*5"
      ],
      "metadata": {
        "colab": {
          "base_uri": "https://localhost:8080/",
          "height": 36
        },
        "id": "iB1xqeN9q7lf",
        "outputId": "02c0eb9a-1f60-4a14-998a-512082cf936b"
      },
      "execution_count": null,
      "outputs": [
        {
          "output_type": "execute_result",
          "data": {
            "application/vnd.google.colaboratory.intrinsic+json": {
              "type": "string"
            },
            "text/plain": [
              "'pypypypypy'"
            ]
          },
          "metadata": {},
          "execution_count": 66
        }
      ]
    },
    {
      "cell_type": "code",
      "source": [
        "prefix='py'\n",
        "suffix='thon'\n",
        "print(prefix*3+suffix)"
      ],
      "metadata": {
        "colab": {
          "base_uri": "https://localhost:8080/"
        },
        "id": "ez85zDLjrT0s",
        "outputId": "723a8887-55b1-48cf-842e-a8347f304a6d"
      },
      "execution_count": null,
      "outputs": [
        {
          "output_type": "stream",
          "name": "stdout",
          "text": [
            "pypypython\n"
          ]
        }
      ]
    },
    {
      "cell_type": "markdown",
      "source": [
        "### Indexing\n",
        "\n",
        "Just like arrays in C or C++, strings can be indexed (subscripted), with the first character having index 0\n",
        "\n",
        "     | P | y | t | h | o | n |\n",
        "       0   1   2   3   4   5   6\n",
        "       -6  -5  -4  -3  -2  -1"
      ],
      "metadata": {
        "id": "Gui8gO_erugO"
      }
    },
    {
      "cell_type": "code",
      "source": [
        "s = 'Python' \n",
        "print(s[0])\n",
        "print(s[5])"
      ],
      "metadata": {
        "colab": {
          "base_uri": "https://localhost:8080/"
        },
        "id": "6Np6DMhHrbNx",
        "outputId": "397ad338-80e3-46f8-9f64-e0865595807a"
      },
      "execution_count": null,
      "outputs": [
        {
          "output_type": "stream",
          "name": "stdout",
          "text": [
            "P\n",
            "n\n"
          ]
        }
      ]
    },
    {
      "cell_type": "markdown",
      "source": [
        "Indices may also be negative numbers, to start counting from the right"
      ],
      "metadata": {
        "id": "EzAdhej1tTMI"
      }
    },
    {
      "cell_type": "code",
      "source": [
        "print(s[-1])\n",
        "print(s[-5])"
      ],
      "metadata": {
        "colab": {
          "base_uri": "https://localhost:8080/"
        },
        "id": "GQaOqalksBR2",
        "outputId": "a7b33c4e-f90b-4940-b938-327776ed5da7"
      },
      "execution_count": null,
      "outputs": [
        {
          "output_type": "stream",
          "name": "stdout",
          "text": [
            "n\n",
            "y\n"
          ]
        }
      ]
    },
    {
      "cell_type": "code",
      "source": [
        "'helloworld'"
      ],
      "metadata": {
        "id": "pLRaSFm4LMQY"
      },
      "execution_count": null,
      "outputs": []
    },
    {
      "cell_type": "markdown",
      "source": [
        "### Slicing\n",
        "\n",
        "While indexing is used to obtain individual characters, slicing allows you to obtain substring\n",
        "\n",
        "    string_name[start index : end index]"
      ],
      "metadata": {
        "id": "8Ob7Eo65tgsV"
      }
    },
    {
      "cell_type": "code",
      "source": [
        "s='watermelon'\n",
        "print(s[0:5])   # can also write s[:5] > 0 to 4th\n",
        "print(s[5:])    # similar to s[5:10]"
      ],
      "metadata": {
        "colab": {
          "base_uri": "https://localhost:8080/"
        },
        "id": "I7j9zr6NtN7x",
        "outputId": "c9484fc9-1f8d-462a-a10a-03ec2db0177f"
      },
      "execution_count": null,
      "outputs": [
        {
          "output_type": "stream",
          "name": "stdout",
          "text": [
            "water\n",
            "melon\n"
          ]
        }
      ]
    },
    {
      "cell_type": "code",
      "source": [
        "print(s[2:6])   # characters from position 2 to position 6 (excluded)"
      ],
      "metadata": {
        "colab": {
          "base_uri": "https://localhost:8080/"
        },
        "id": "06xS18IEttzB",
        "outputId": "dd8b5164-1131-4197-defd-e54288ebc511"
      },
      "execution_count": null,
      "outputs": [
        {
          "output_type": "stream",
          "name": "stdout",
          "text": [
            "term\n"
          ]
        }
      ]
    },
    {
      "cell_type": "code",
      "source": [
        "print(s[-2:])   # characters from the second-last (included) to the end"
      ],
      "metadata": {
        "colab": {
          "base_uri": "https://localhost:8080/"
        },
        "id": "pfWKPpYUL66N",
        "outputId": "7c746cf0-0053-4232-f890-a87e0cf2aecb"
      },
      "execution_count": null,
      "outputs": [
        {
          "output_type": "stream",
          "name": "stdout",
          "text": [
            "on\n"
          ]
        }
      ]
    },
    {
      "cell_type": "markdown",
      "source": [
        "We can concatenate this sliced strings"
      ],
      "metadata": {
        "id": "zkj1prlUA0GH"
      }
    },
    {
      "cell_type": "code",
      "source": [
        "s[5:]+s[:5]"
      ],
      "metadata": {
        "colab": {
          "base_uri": "https://localhost:8080/",
          "height": 36
        },
        "id": "8n15IvjtAgJn",
        "outputId": "adfdc2fd-87a1-4989-a4b6-ac5d31343e0f"
      },
      "execution_count": null,
      "outputs": [
        {
          "output_type": "execute_result",
          "data": {
            "application/vnd.google.colaboratory.intrinsic+json": {
              "type": "string"
            },
            "text/plain": [
              "'melonwater'"
            ]
          },
          "metadata": {},
          "execution_count": 73
        }
      ]
    },
    {
      "cell_type": "markdown",
      "source": [
        "Python strings cannot be changed — they are **immutable.**"
      ],
      "metadata": {
        "id": "jU841Amf_mYm"
      }
    },
    {
      "cell_type": "code",
      "source": [
        "s='bello'\n",
        "s[0]='h'"
      ],
      "metadata": {
        "colab": {
          "base_uri": "https://localhost:8080/",
          "height": 193
        },
        "id": "2VgvpQ4dt_2O",
        "outputId": "30f86a7f-39c4-4a29-98fd-158de5611f59"
      },
      "execution_count": null,
      "outputs": [
        {
          "output_type": "error",
          "ename": "TypeError",
          "evalue": "ignored",
          "traceback": [
            "\u001b[0;31m---------------------------------------------------------------------------\u001b[0m",
            "\u001b[0;31mTypeError\u001b[0m                                 Traceback (most recent call last)",
            "\u001b[0;32m<ipython-input-74-2b01b1ed379a>\u001b[0m in \u001b[0;36m<module>\u001b[0;34m()\u001b[0m\n\u001b[1;32m      1\u001b[0m \u001b[0ms\u001b[0m\u001b[0;34m=\u001b[0m\u001b[0;34m'bello'\u001b[0m\u001b[0;34m\u001b[0m\u001b[0;34m\u001b[0m\u001b[0m\n\u001b[0;32m----> 2\u001b[0;31m \u001b[0ms\u001b[0m\u001b[0;34m[\u001b[0m\u001b[0;36m0\u001b[0m\u001b[0;34m]\u001b[0m\u001b[0;34m=\u001b[0m\u001b[0;34m'h'\u001b[0m\u001b[0;34m\u001b[0m\u001b[0;34m\u001b[0m\u001b[0m\n\u001b[0m",
            "\u001b[0;31mTypeError\u001b[0m: 'str' object does not support item assignment"
          ]
        }
      ]
    },
    {
      "cell_type": "markdown",
      "source": [
        "So if we want to replace this character we can use string slicing and concatenation"
      ],
      "metadata": {
        "id": "iaQyZw3XAEa9"
      }
    },
    {
      "cell_type": "code",
      "source": [
        "s[1:]"
      ],
      "metadata": {
        "colab": {
          "base_uri": "https://localhost:8080/",
          "height": 36
        },
        "id": "uYQu7wFmMkuv",
        "outputId": "1e7c2d8c-aad7-442e-e32b-177cac742ba2"
      },
      "execution_count": null,
      "outputs": [
        {
          "output_type": "execute_result",
          "data": {
            "application/vnd.google.colaboratory.intrinsic+json": {
              "type": "string"
            },
            "text/plain": [
              "'ello'"
            ]
          },
          "metadata": {},
          "execution_count": 76
        }
      ]
    },
    {
      "cell_type": "code",
      "source": [
        "'h'+s[1:]"
      ],
      "metadata": {
        "colab": {
          "base_uri": "https://localhost:8080/",
          "height": 36
        },
        "id": "hHKiDe3B_5H7",
        "outputId": "8542f55d-1ad2-4548-86d7-370575940fd7"
      },
      "execution_count": null,
      "outputs": [
        {
          "output_type": "execute_result",
          "data": {
            "application/vnd.google.colaboratory.intrinsic+json": {
              "type": "string"
            },
            "text/plain": [
              "'hello'"
            ]
          },
          "metadata": {},
          "execution_count": 77
        }
      ]
    },
    {
      "cell_type": "markdown",
      "source": [
        "Or we can use replace function\n",
        "\n",
        "    string.replace(old, new, count)\n",
        "Only the first count occurrences are replaced"
      ],
      "metadata": {
        "id": "G204tz5KB14c"
      }
    },
    {
      "cell_type": "code",
      "source": [
        "s='bello'\n",
        "s.replace('l', 'v')"
      ],
      "metadata": {
        "colab": {
          "base_uri": "https://localhost:8080/",
          "height": 36
        },
        "id": "tK0HFMoUBpWb",
        "outputId": "cf526729-d583-4552-885a-2ce5f17012f7"
      },
      "execution_count": null,
      "outputs": [
        {
          "output_type": "execute_result",
          "data": {
            "application/vnd.google.colaboratory.intrinsic+json": {
              "type": "string"
            },
            "text/plain": [
              "'bevvo'"
            ]
          },
          "metadata": {},
          "execution_count": 80
        }
      ]
    },
    {
      "cell_type": "code",
      "source": [
        "s"
      ],
      "metadata": {
        "colab": {
          "base_uri": "https://localhost:8080/",
          "height": 36
        },
        "id": "nD9rPqcONFoc",
        "outputId": "e12725fb-06c6-4bea-bd57-493b5dfba34c"
      },
      "execution_count": null,
      "outputs": [
        {
          "output_type": "execute_result",
          "data": {
            "application/vnd.google.colaboratory.intrinsic+json": {
              "type": "string"
            },
            "text/plain": [
              "'bello'"
            ]
          },
          "metadata": {},
          "execution_count": 82
        }
      ]
    },
    {
      "cell_type": "code",
      "source": [
        "s=s.replace('l','v',1)"
      ],
      "metadata": {
        "id": "_4pAKWeAD0px"
      },
      "execution_count": null,
      "outputs": []
    },
    {
      "cell_type": "markdown",
      "source": [
        "### Length of String"
      ],
      "metadata": {
        "id": "Pzgg8iwmAPIj"
      }
    },
    {
      "cell_type": "code",
      "source": [
        "a = 'supercalifragilisticexpialidocious'\n",
        "len(a)"
      ],
      "metadata": {
        "colab": {
          "base_uri": "https://localhost:8080/"
        },
        "id": "w2jJK1S2AC5D",
        "outputId": "2e640dcb-ddd2-408c-b73f-28a10b0042cf"
      },
      "execution_count": null,
      "outputs": [
        {
          "output_type": "execute_result",
          "data": {
            "text/plain": [
              "34"
            ]
          },
          "metadata": {},
          "execution_count": 87
        }
      ]
    },
    {
      "cell_type": "markdown",
      "source": [
        "### Some Built-in string methods"
      ],
      "metadata": {
        "id": "-UQq42uxBD23"
      }
    },
    {
      "cell_type": "code",
      "source": [
        "s='My_Notebook_123'\n",
        "print(s.upper())    # converts string to upper case\n",
        "print(s.lower())    # converts string to lowercase\n",
        "print(s.count('o')) # counts the occurence of letter 'o' in string"
      ],
      "metadata": {
        "colab": {
          "base_uri": "https://localhost:8080/"
        },
        "id": "y_RECRevAVVR",
        "outputId": "c73112dd-c171-4bcf-9c7e-04d44065f996"
      },
      "execution_count": null,
      "outputs": [
        {
          "output_type": "stream",
          "name": "stdout",
          "text": [
            "MY_NOTEBOOK_123\n",
            "my_notebook_123\n",
            "3\n"
          ]
        }
      ]
    },
    {
      "cell_type": "markdown",
      "source": [
        "## Lists\n",
        "\n",
        "Lists are used to store multiple items in a single variable.\n",
        "\n",
        "Used to store collections of data"
      ],
      "metadata": {
        "id": "rIjHGt8IEqkt"
      }
    },
    {
      "cell_type": "code",
      "source": [
        "my_list = [1,2,3,4]\n",
        "print(my_list, type(my_list))"
      ],
      "metadata": {
        "colab": {
          "base_uri": "https://localhost:8080/"
        },
        "id": "bUOdeucPBZ2a",
        "outputId": "0fed25b2-5b14-4adb-afb0-4e4a22becaa8"
      },
      "execution_count": null,
      "outputs": [
        {
          "output_type": "stream",
          "name": "stdout",
          "text": [
            "[1, 2, 3, 4] <class 'list'>\n"
          ]
        }
      ]
    },
    {
      "cell_type": "markdown",
      "source": [
        "Lists might contain items of different types, but usually the items all have the same type."
      ],
      "metadata": {
        "id": "QtOpZVB5FGGf"
      }
    },
    {
      "cell_type": "code",
      "source": [
        "mixed_list = [1, 2, 'hi', 'bye', 3.14, [2,3]]\n",
        "print(mixed_list)"
      ],
      "metadata": {
        "colab": {
          "base_uri": "https://localhost:8080/"
        },
        "id": "OjYi7nyBFCG0",
        "outputId": "5ea4f30e-1d5c-47cf-e127-0995a1e87a05"
      },
      "execution_count": null,
      "outputs": [
        {
          "output_type": "stream",
          "name": "stdout",
          "text": [
            "[1, 2, 'hi', 'bye', 3.14, [2, 3]]\n"
          ]
        }
      ]
    },
    {
      "cell_type": "markdown",
      "source": [
        "Similar to strings, we can do indexing and slicing in lists"
      ],
      "metadata": {
        "id": "7v-ajFVAFbJQ"
      }
    },
    {
      "cell_type": "code",
      "source": [
        "numbers = [0,1,2,3,4,5]\n",
        "print(numbers[1], numbers[-2])\n",
        "print(numbers[0:3])"
      ],
      "metadata": {
        "colab": {
          "base_uri": "https://localhost:8080/"
        },
        "id": "fX4FtCN6FV4O",
        "outputId": "517c3cbe-121d-4fc0-e2b3-86cde298589f"
      },
      "execution_count": null,
      "outputs": [
        {
          "output_type": "stream",
          "name": "stdout",
          "text": [
            "1 4\n",
            "[0, 1, 2]\n"
          ]
        }
      ]
    },
    {
      "cell_type": "markdown",
      "source": [
        "Lists also support concatenation and repetition"
      ],
      "metadata": {
        "id": "NVvDDFZaH8x6"
      }
    },
    {
      "cell_type": "code",
      "source": [
        "a = [1,2,3,4,5]\n",
        "b =[6,7,8,9,10]\n",
        "a+b*2"
      ],
      "metadata": {
        "colab": {
          "base_uri": "https://localhost:8080/"
        },
        "id": "_jrHUqLoH1DW",
        "outputId": "bef2df98-343f-4985-b64d-ac62ad1793f0"
      },
      "execution_count": null,
      "outputs": [
        {
          "output_type": "execute_result",
          "data": {
            "text/plain": [
              "[1, 2, 3, 4, 5, 6, 7, 8, 9, 10, 6, 7, 8, 9, 10]"
            ]
          },
          "metadata": {},
          "execution_count": 93
        }
      ]
    },
    {
      "cell_type": "markdown",
      "source": [
        "Lists are **mutable**"
      ],
      "metadata": {
        "id": "EQae_-LWHrEE"
      }
    },
    {
      "cell_type": "code",
      "source": [
        "a[3]=400\n",
        "a"
      ],
      "metadata": {
        "colab": {
          "base_uri": "https://localhost:8080/"
        },
        "id": "mJZhHMzvFr54",
        "outputId": "d393d1d6-02f9-41e9-db75-4a5b10bacc96"
      },
      "execution_count": null,
      "outputs": [
        {
          "output_type": "execute_result",
          "data": {
            "text/plain": [
              "[1, 2, 3, 400, 5]"
            ]
          },
          "metadata": {},
          "execution_count": 94
        }
      ]
    },
    {
      "cell_type": "markdown",
      "source": [
        "The built-in function len() also applies to lists"
      ],
      "metadata": {
        "id": "Xt-5F_PjI51p"
      }
    },
    {
      "cell_type": "code",
      "source": [
        "len(a)"
      ],
      "metadata": {
        "colab": {
          "base_uri": "https://localhost:8080/"
        },
        "id": "V1M2zL03IWvh",
        "outputId": "588f025f-121f-44d4-a166-be274b5a34c5"
      },
      "execution_count": null,
      "outputs": [
        {
          "output_type": "execute_result",
          "data": {
            "text/plain": [
              "5"
            ]
          },
          "metadata": {},
          "execution_count": 95
        }
      ]
    },
    {
      "cell_type": "markdown",
      "source": [
        "### append()\n",
        "\n",
        "We can add new items at the end of the list, by using the append() method"
      ],
      "metadata": {
        "id": "-4v5EktuIJmu"
      }
    },
    {
      "cell_type": "code",
      "source": [
        "squares = [1,4,9,16]"
      ],
      "metadata": {
        "id": "dzKhSB5pIIxS"
      },
      "execution_count": null,
      "outputs": []
    },
    {
      "cell_type": "code",
      "source": [
        "squares.append(25)\n",
        "squares"
      ],
      "metadata": {
        "colab": {
          "base_uri": "https://localhost:8080/"
        },
        "id": "_wZZXmDPIECk",
        "outputId": "84ba4990-3eaa-4925-d4ec-08ad814724be"
      },
      "execution_count": null,
      "outputs": [
        {
          "output_type": "execute_result",
          "data": {
            "text/plain": [
              "[1, 4, 9, 16, 25]"
            ]
          },
          "metadata": {},
          "execution_count": 97
        }
      ]
    },
    {
      "cell_type": "markdown",
      "source": [
        "### pop()\n",
        "\n",
        "Removes the element at the specified position.\n",
        "\n",
        "    list.pop(position)\n"
      ],
      "metadata": {
        "id": "bK_SEVy5JVaf"
      }
    },
    {
      "cell_type": "code",
      "source": [
        "squares.pop(1)"
      ],
      "metadata": {
        "colab": {
          "base_uri": "https://localhost:8080/"
        },
        "id": "aUFc4CmRI2QS",
        "outputId": "1380de7c-1fbd-47fb-efa4-47b35b935e47"
      },
      "execution_count": null,
      "outputs": [
        {
          "output_type": "execute_result",
          "data": {
            "text/plain": [
              "9"
            ]
          },
          "metadata": {},
          "execution_count": 100
        }
      ]
    },
    {
      "cell_type": "code",
      "source": [
        "squares"
      ],
      "metadata": {
        "colab": {
          "base_uri": "https://localhost:8080/"
        },
        "id": "CJhy7u0AJgFv",
        "outputId": "941f969b-b352-4565-f4a9-ac86956c1c7b"
      },
      "execution_count": null,
      "outputs": [
        {
          "output_type": "execute_result",
          "data": {
            "text/plain": [
              "[4, 16, 25]"
            ]
          },
          "metadata": {},
          "execution_count": 101
        }
      ]
    },
    {
      "cell_type": "markdown",
      "source": [
        "### index()\n",
        "Returns the position at the first occurrence of the specified value.\n",
        "\n",
        "    list.index(element)"
      ],
      "metadata": {
        "id": "_QUghJjxJrrN"
      }
    },
    {
      "cell_type": "code",
      "source": [
        "squares.index(16)"
      ],
      "metadata": {
        "colab": {
          "base_uri": "https://localhost:8080/"
        },
        "id": "sOb1o2mBJhSq",
        "outputId": "47a9292b-9e2f-48f1-9d18-a03733da28a8"
      },
      "execution_count": null,
      "outputs": [
        {
          "output_type": "execute_result",
          "data": {
            "text/plain": [
              "1"
            ]
          },
          "metadata": {},
          "execution_count": 102
        }
      ]
    },
    {
      "cell_type": "markdown",
      "source": [
        "### min() and max()"
      ],
      "metadata": {
        "id": "-2nsLDBcNDa8"
      }
    },
    {
      "cell_type": "code",
      "source": [
        "a = [1, 34, 342, 4647, 123, -45, -462, 0, 959]\n",
        "print(min(a))\n",
        "print(max(a))"
      ],
      "metadata": {
        "colab": {
          "base_uri": "https://localhost:8080/"
        },
        "id": "yaXmFMdgNFz6",
        "outputId": "d5e613b9-4cca-431b-aee0-49d987622b74"
      },
      "execution_count": null,
      "outputs": [
        {
          "output_type": "stream",
          "name": "stdout",
          "text": [
            "-462\n",
            "4647\n"
          ]
        }
      ]
    },
    {
      "cell_type": "markdown",
      "source": [
        "### Sort a list"
      ],
      "metadata": {
        "id": "NW6LvanHZl7y"
      }
    },
    {
      "cell_type": "code",
      "source": [
        "sort_a = sorted(a)\n",
        "print(sort_a)"
      ],
      "metadata": {
        "colab": {
          "base_uri": "https://localhost:8080/"
        },
        "id": "0MPUNqH0Zn-t",
        "outputId": "4d0e7a7d-137c-40d8-fc3e-d7200a1e8698"
      },
      "execution_count": null,
      "outputs": [
        {
          "output_type": "stream",
          "name": "stdout",
          "text": [
            "[-462, -45, 0, 1, 34, 123, 342, 959, 4647]\n"
          ]
        }
      ]
    },
    {
      "cell_type": "code",
      "source": [
        "a"
      ],
      "metadata": {
        "colab": {
          "base_uri": "https://localhost:8080/"
        },
        "id": "I4VpZAKWQLpf",
        "outputId": "f76c13c4-aee2-4da3-8fff-11fd5eaae644"
      },
      "execution_count": null,
      "outputs": [
        {
          "output_type": "execute_result",
          "data": {
            "text/plain": [
              "[1, 34, 342, 4647, 123, -45, -462, 0, 959]"
            ]
          },
          "metadata": {},
          "execution_count": 105
        }
      ]
    },
    {
      "cell_type": "code",
      "source": [
        "a.sort()\n",
        "print(a)"
      ],
      "metadata": {
        "id": "vqgFN7deZyP7",
        "outputId": "530293bd-92c9-4187-c2a0-df3344166f43",
        "colab": {
          "base_uri": "https://localhost:8080/"
        }
      },
      "execution_count": null,
      "outputs": [
        {
          "output_type": "stream",
          "name": "stdout",
          "text": [
            "[-462, -45, 0, 1, 34, 123, 342, 959, 4647]\n"
          ]
        }
      ]
    },
    {
      "cell_type": "code",
      "source": [
        "a.reverse()"
      ],
      "metadata": {
        "id": "BFFoLvyrQXyV"
      },
      "execution_count": null,
      "outputs": []
    },
    {
      "cell_type": "code",
      "source": [
        "a.clear()\n",
        "a"
      ],
      "metadata": {
        "colab": {
          "base_uri": "https://localhost:8080/"
        },
        "id": "G0SXqRrvQm3A",
        "outputId": "37232921-fa19-4775-9bd3-6f68fb8ddefb"
      },
      "execution_count": null,
      "outputs": [
        {
          "output_type": "execute_result",
          "data": {
            "text/plain": [
              "[]"
            ]
          },
          "metadata": {},
          "execution_count": 114
        }
      ]
    },
    {
      "cell_type": "code",
      "source": [
        "a.extend([1,23,4])\n",
        "a"
      ],
      "metadata": {
        "colab": {
          "base_uri": "https://localhost:8080/"
        },
        "id": "py3E5l4aQ838",
        "outputId": "6f6481f9-9366-4eda-9ad3-dd6c067ecd8c"
      },
      "execution_count": null,
      "outputs": [
        {
          "output_type": "execute_result",
          "data": {
            "text/plain": [
              "[1, 23, 4]"
            ]
          },
          "metadata": {},
          "execution_count": 115
        }
      ]
    },
    {
      "cell_type": "code",
      "source": [
        "a+[2,3,4]"
      ],
      "metadata": {
        "colab": {
          "base_uri": "https://localhost:8080/"
        },
        "id": "T0hn34yjRHdk",
        "outputId": "3e0bc96a-4701-45d3-d0b7-c239e0a38b5f"
      },
      "execution_count": null,
      "outputs": [
        {
          "output_type": "execute_result",
          "data": {
            "text/plain": [
              "[1, 23, 4, 2, 3, 4]"
            ]
          },
          "metadata": {},
          "execution_count": 116
        }
      ]
    },
    {
      "cell_type": "markdown",
      "source": [
        "## Tuple\n",
        "\n",
        "Tuples are used to store multiple items in a single variable.\n",
        "\n",
        "A tuple is a collection which is ordered and unchangeable.\n",
        "\n",
        "Tuples are **immutable**\n",
        "\n",
        "Tuples are unchangeable, so you cannot add or remove items from it"
      ],
      "metadata": {
        "id": "GEDzvK3dMpwi"
      }
    },
    {
      "cell_type": "code",
      "source": [
        "tup = 1234, 'hello', 3.12, 34\n",
        "print(tup, type(tup))"
      ],
      "metadata": {
        "colab": {
          "base_uri": "https://localhost:8080/"
        },
        "id": "bGEx5XzZJ1YZ",
        "outputId": "3e4405f2-f659-4963-b4c7-177e40bd7dd6"
      },
      "execution_count": null,
      "outputs": [
        {
          "output_type": "stream",
          "name": "stdout",
          "text": [
            "(1234, 'hello', 3.12, 34) <class 'tuple'>\n"
          ]
        }
      ]
    },
    {
      "cell_type": "code",
      "source": [
        "t = (1,2,3)\n",
        "print(t, type(t))"
      ],
      "metadata": {
        "colab": {
          "base_uri": "https://localhost:8080/"
        },
        "id": "BsaPbMwQNk3V",
        "outputId": "5c4bb392-90fc-4007-d207-2c1f7815b358"
      },
      "execution_count": null,
      "outputs": [
        {
          "output_type": "stream",
          "name": "stdout",
          "text": [
            "(1, 2, 3) <class 'tuple'>\n"
          ]
        }
      ]
    },
    {
      "cell_type": "markdown",
      "source": [
        "Tuples also support concatenation and repetition and len() function"
      ],
      "metadata": {
        "id": "WnGCpkPWQYC-"
      }
    },
    {
      "cell_type": "code",
      "source": [
        "v = (4,5)\n",
        "t+v"
      ],
      "metadata": {
        "colab": {
          "base_uri": "https://localhost:8080/"
        },
        "id": "j9uj1DEtQbT2",
        "outputId": "80c923ed-45e2-4c0d-82be-36b16183502e"
      },
      "execution_count": null,
      "outputs": [
        {
          "output_type": "execute_result",
          "data": {
            "text/plain": [
              "(1, 2, 3, 4, 5)"
            ]
          },
          "metadata": {},
          "execution_count": 119
        }
      ]
    },
    {
      "cell_type": "code",
      "source": [
        "t[0]=3"
      ],
      "metadata": {
        "colab": {
          "base_uri": "https://localhost:8080/",
          "height": 174
        },
        "id": "EbJvEOwIRr-M",
        "outputId": "7a3afd8c-a32f-4d39-8b9b-adf483b1059b"
      },
      "execution_count": null,
      "outputs": [
        {
          "output_type": "error",
          "ename": "TypeError",
          "evalue": "ignored",
          "traceback": [
            "\u001b[0;31m---------------------------------------------------------------------------\u001b[0m",
            "\u001b[0;31mTypeError\u001b[0m                                 Traceback (most recent call last)",
            "\u001b[0;32m<ipython-input-121-3f0d58aacce6>\u001b[0m in \u001b[0;36m<module>\u001b[0;34m()\u001b[0m\n\u001b[0;32m----> 1\u001b[0;31m \u001b[0mt\u001b[0m\u001b[0;34m[\u001b[0m\u001b[0;36m0\u001b[0m\u001b[0;34m]\u001b[0m\u001b[0;34m=\u001b[0m\u001b[0;36m3\u001b[0m\u001b[0;34m\u001b[0m\u001b[0;34m\u001b[0m\u001b[0m\n\u001b[0m",
            "\u001b[0;31mTypeError\u001b[0m: 'tuple' object does not support item assignment"
          ]
        }
      ]
    },
    {
      "cell_type": "markdown",
      "source": [
        "### Sequence unpacking\n",
        "\n",
        "Sequence unpacking requires that there are as many variables on the left side of the equals sign as there are elements in the sequence"
      ],
      "metadata": {
        "id": "W7yzMSemO6jf"
      }
    },
    {
      "cell_type": "code",
      "source": [
        "a,b,c = t\n",
        "print(a,b,c)"
      ],
      "metadata": {
        "colab": {
          "base_uri": "https://localhost:8080/"
        },
        "id": "hF075_DCNp9d",
        "outputId": "a766f53f-7b7a-4cab-af59-65086ca7b2ad"
      },
      "execution_count": null,
      "outputs": [
        {
          "output_type": "stream",
          "name": "stdout",
          "text": [
            "1 2 3\n"
          ]
        }
      ]
    },
    {
      "cell_type": "code",
      "source": [
        "x,*y = t\n",
        "print(x,y)"
      ],
      "metadata": {
        "colab": {
          "base_uri": "https://localhost:8080/"
        },
        "id": "Jb28dwHdPOT3",
        "outputId": "44114322-a25d-485a-d8e2-f45024ff85da"
      },
      "execution_count": null,
      "outputs": [
        {
          "output_type": "stream",
          "name": "stdout",
          "text": [
            "1 [2, 3]\n"
          ]
        }
      ]
    },
    {
      "cell_type": "markdown",
      "source": [
        "## Sets\n",
        "\n",
        "* A set is an unordered collection with **no duplicate elements**. \n",
        "* Set objects also support mathematical operations like union, intersection, difference, and symmetric difference.\n",
        "* Sets are **immutable**"
      ],
      "metadata": {
        "id": "TH2bnuVlPqpg"
      }
    },
    {
      "cell_type": "code",
      "source": [
        "my_set = {1,2,3,4,5,6}\n",
        "print(my_set, type(my_set))"
      ],
      "metadata": {
        "colab": {
          "base_uri": "https://localhost:8080/"
        },
        "id": "sG56-yQ4PTGJ",
        "outputId": "7f066304-8218-450e-b594-893c1367a120"
      },
      "execution_count": null,
      "outputs": [
        {
          "output_type": "stream",
          "name": "stdout",
          "text": [
            "{1, 2, 3, 4, 5, 6} <class 'set'>\n"
          ]
        }
      ]
    },
    {
      "cell_type": "code",
      "source": [
        "s = {1,2,1,2}\n",
        "print(s, type(s))"
      ],
      "metadata": {
        "colab": {
          "base_uri": "https://localhost:8080/"
        },
        "id": "Ci_j8U8zRt-P",
        "outputId": "7da61222-aed6-409a-fdea-15d87b79e1ec"
      },
      "execution_count": null,
      "outputs": [
        {
          "output_type": "stream",
          "name": "stdout",
          "text": [
            "{1, 2} <class 'set'>\n"
          ]
        }
      ]
    },
    {
      "cell_type": "markdown",
      "source": [
        "### Access set items\n",
        "\n",
        "You cannot access items in a set by referring to an index or a key.\n",
        "\n",
        "We can check if item is present in the set using **in** operator"
      ],
      "metadata": {
        "id": "DzKvvsaxUMoa"
      }
    },
    {
      "cell_type": "code",
      "source": [
        "4 in my_set "
      ],
      "metadata": {
        "colab": {
          "base_uri": "https://localhost:8080/"
        },
        "id": "gDUHRU0_Tz0A",
        "outputId": "30eb9e36-3d71-4920-daeb-4fc1c71af82a"
      },
      "execution_count": null,
      "outputs": [
        {
          "output_type": "execute_result",
          "data": {
            "text/plain": [
              "True"
            ]
          },
          "metadata": {},
          "execution_count": 129
        }
      ]
    },
    {
      "cell_type": "code",
      "source": [
        "my_set[0]"
      ],
      "metadata": {
        "colab": {
          "base_uri": "https://localhost:8080/",
          "height": 174
        },
        "id": "CT2YG-I9S6n4",
        "outputId": "eef1e8e3-f32d-4206-da6f-348db8e70177"
      },
      "execution_count": null,
      "outputs": [
        {
          "output_type": "error",
          "ename": "TypeError",
          "evalue": "ignored",
          "traceback": [
            "\u001b[0;31m---------------------------------------------------------------------------\u001b[0m",
            "\u001b[0;31mTypeError\u001b[0m                                 Traceback (most recent call last)",
            "\u001b[0;32m<ipython-input-130-158c424478a1>\u001b[0m in \u001b[0;36m<module>\u001b[0;34m()\u001b[0m\n\u001b[0;32m----> 1\u001b[0;31m \u001b[0mmy_set\u001b[0m\u001b[0;34m[\u001b[0m\u001b[0;36m0\u001b[0m\u001b[0;34m]\u001b[0m\u001b[0;34m\u001b[0m\u001b[0;34m\u001b[0m\u001b[0m\n\u001b[0m",
            "\u001b[0;31mTypeError\u001b[0m: 'set' object is not subscriptable"
          ]
        }
      ]
    },
    {
      "cell_type": "markdown",
      "source": [
        "### Add new item\n",
        "\n",
        "Once a set is created, you cannot change its items, but you can add new items."
      ],
      "metadata": {
        "id": "NgbfNl8lUk0d"
      }
    },
    {
      "cell_type": "code",
      "source": [
        "print(my_set)\n",
        "my_set.add(7)\n",
        "print(my_set)"
      ],
      "metadata": {
        "colab": {
          "base_uri": "https://localhost:8080/"
        },
        "id": "zvOxTXs8USml",
        "outputId": "dbddd392-f621-4fc5-b7bb-e09347a53ee4"
      },
      "execution_count": null,
      "outputs": [
        {
          "output_type": "stream",
          "name": "stdout",
          "text": [
            "{1, 2, 3, 4, 5, 6}\n",
            "{1, 2, 3, 4, 5, 6, 7}\n"
          ]
        }
      ]
    },
    {
      "cell_type": "code",
      "source": [
        "my_set.add(4)\n",
        "my_set"
      ],
      "metadata": {
        "colab": {
          "base_uri": "https://localhost:8080/"
        },
        "id": "bh7VjmZlTHsO",
        "outputId": "d9bc519a-0b51-48c6-c043-7923bbf5f19d"
      },
      "execution_count": null,
      "outputs": [
        {
          "output_type": "execute_result",
          "data": {
            "text/plain": [
              "{1, 2, 3, 4, 5, 6, 7}"
            ]
          },
          "metadata": {},
          "execution_count": 132
        }
      ]
    },
    {
      "cell_type": "markdown",
      "source": [
        "### Remove item\n",
        "\n",
        "To remove an item in a set, use the remove(), or the discard() method"
      ],
      "metadata": {
        "id": "vDQ_0cTKVBqM"
      }
    },
    {
      "cell_type": "code",
      "source": [
        "my_set.remove(3)\n",
        "print(my_set)"
      ],
      "metadata": {
        "colab": {
          "base_uri": "https://localhost:8080/"
        },
        "id": "AVDSTeneUufX",
        "outputId": "434c4532-48b8-4926-a75d-160496ca10fc"
      },
      "execution_count": null,
      "outputs": [
        {
          "output_type": "stream",
          "name": "stdout",
          "text": [
            "{1, 2, 4, 5, 6, 7}\n"
          ]
        }
      ]
    },
    {
      "cell_type": "code",
      "source": [
        "my_set.discard(7)\n",
        "print(my_set)"
      ],
      "metadata": {
        "colab": {
          "base_uri": "https://localhost:8080/"
        },
        "id": "sRV1QMO5VJoV",
        "outputId": "79922622-625b-4c09-fc75-b53105eab1db"
      },
      "execution_count": null,
      "outputs": [
        {
          "output_type": "stream",
          "name": "stdout",
          "text": [
            "{1, 2, 4, 5, 6}\n"
          ]
        }
      ]
    },
    {
      "cell_type": "markdown",
      "source": [
        "### Empty set"
      ],
      "metadata": {
        "id": "H8YfLd4WVnJZ"
      }
    },
    {
      "cell_type": "code",
      "source": [
        "my_set.clear()\n",
        "print(my_set)"
      ],
      "metadata": {
        "colab": {
          "base_uri": "https://localhost:8080/"
        },
        "id": "jVFRuNuCVP-7",
        "outputId": "bab50233-9248-4216-b225-ec3ef628631c"
      },
      "execution_count": null,
      "outputs": [
        {
          "output_type": "stream",
          "name": "stdout",
          "text": [
            "set()\n"
          ]
        }
      ]
    },
    {
      "cell_type": "markdown",
      "source": [
        "### union()\n",
        "\n",
        "Returns a set that contains all items from the original set, and all items from the specified set(s)\n",
        "\n",
        "    set.union(set1, set2...)"
      ],
      "metadata": {
        "id": "1TbTFj9sXHIb"
      }
    },
    {
      "cell_type": "code",
      "source": [
        "x = {2,4,8,16,32}\n",
        "y = {1,4,9,16,25}\n",
        "z = {44,55}\n",
        "u = x.union(y,z)  # x U y U z\n",
        "print(u)"
      ],
      "metadata": {
        "colab": {
          "base_uri": "https://localhost:8080/"
        },
        "id": "KMr6ZuxuXK5-",
        "outputId": "5e28e9ba-9a0a-4de3-b3c3-053a6af794f3"
      },
      "execution_count": null,
      "outputs": [
        {
          "output_type": "stream",
          "name": "stdout",
          "text": [
            "{32, 1, 2, 4, 8, 9, 44, 16, 55, 25}\n"
          ]
        }
      ]
    },
    {
      "cell_type": "markdown",
      "source": [
        "### intersection()\n",
        "Returns a set that contains the similarity between two or more sets\n",
        "\n",
        "    set.intersection(set1, set2, ...)"
      ],
      "metadata": {
        "id": "Znutf5MAXa1E"
      }
    },
    {
      "cell_type": "code",
      "source": [
        "intersect = x.intersection(y)\n",
        "print(intersect)"
      ],
      "metadata": {
        "colab": {
          "base_uri": "https://localhost:8080/"
        },
        "id": "k6-MVKPKXv59",
        "outputId": "5ad0a141-a2c6-4f0b-9eaf-dc0b59dbd1c4"
      },
      "execution_count": null,
      "outputs": [
        {
          "output_type": "stream",
          "name": "stdout",
          "text": [
            "{16, 4}\n"
          ]
        }
      ]
    },
    {
      "cell_type": "markdown",
      "source": [
        "## Dictionaries\n",
        "\n",
        "* More generally known as an associative array\n",
        "\n",
        "* Dictionaries are used to store data values in **key:value** pairs.\n",
        "\n",
        "* Keys are unique\n",
        "\n",
        "* It is a collection which is ordered, changeable and do not allow duplicates.\n",
        "\n",
        "* Dictionaries are indexed by keys, which can be any **immutable type**; strings and numbers can always be keys. \n",
        "\n",
        "\n",
        "Note: As of Python version 3.7, dictionaries are ordered. In Python 3.6 and earlier, dictionaries are unordered.\n",
        "\n",
        "    d = { <key>: <value>, <key>: <value>, . . . <key>: <value> }\n"
      ],
      "metadata": {
        "id": "D5h-rOBaW3xl"
      }
    },
    {
      "cell_type": "code",
      "source": [
        "d = {'John':2343, 'Bob': 3422, 'Alice': 9843, 'Lisa': 3423}\n",
        "print(d, type(d))"
      ],
      "metadata": {
        "id": "6bP4o0_FVsXN",
        "colab": {
          "base_uri": "https://localhost:8080/"
        },
        "outputId": "eb7da696-bdce-421b-fee3-b9882ac1d862"
      },
      "execution_count": null,
      "outputs": [
        {
          "output_type": "stream",
          "name": "stdout",
          "text": [
            "{'John': 2343, 'Bob': 3422, 'Alice': 9843, 'Lisa': 3423} <class 'dict'>\n"
          ]
        }
      ]
    },
    {
      "cell_type": "markdown",
      "source": [
        "### Retrieve a value\n",
        "\n",
        "A value is retrieved from a dictionary by specifying its corresponding key in square brackets ([])\n",
        "\n",
        "    d([<key>])"
      ],
      "metadata": {
        "id": "WM8HnnRXmu7Z"
      }
    },
    {
      "cell_type": "code",
      "source": [
        "d['Alice']"
      ],
      "metadata": {
        "colab": {
          "base_uri": "https://localhost:8080/"
        },
        "id": "eRo-u96AmohK",
        "outputId": "d7b3544b-38b6-4187-cee0-76afaa18c67d"
      },
      "execution_count": null,
      "outputs": [
        {
          "output_type": "execute_result",
          "data": {
            "text/plain": [
              "9843"
            ]
          },
          "metadata": {},
          "execution_count": 140
        }
      ]
    },
    {
      "cell_type": "markdown",
      "source": [
        "If you refer to a key that is not in the dictionary, Python raises an exception"
      ],
      "metadata": {
        "id": "X96Gi3tNnIb-"
      }
    },
    {
      "cell_type": "code",
      "source": [
        "d['Mark']"
      ],
      "metadata": {
        "colab": {
          "base_uri": "https://localhost:8080/",
          "height": 174
        },
        "id": "HW4GInzxm_At",
        "outputId": "a841179d-3d34-4d61-c672-0ae2c4bbae8b"
      },
      "execution_count": null,
      "outputs": [
        {
          "output_type": "error",
          "ename": "KeyError",
          "evalue": "ignored",
          "traceback": [
            "\u001b[0;31m---------------------------------------------------------------------------\u001b[0m",
            "\u001b[0;31mKeyError\u001b[0m                                  Traceback (most recent call last)",
            "\u001b[0;32m<ipython-input-141-016f0e3f8080>\u001b[0m in \u001b[0;36m<module>\u001b[0;34m()\u001b[0m\n\u001b[0;32m----> 1\u001b[0;31m \u001b[0md\u001b[0m\u001b[0;34m[\u001b[0m\u001b[0;34m'Mark'\u001b[0m\u001b[0;34m]\u001b[0m\u001b[0;34m\u001b[0m\u001b[0;34m\u001b[0m\u001b[0m\n\u001b[0m",
            "\u001b[0;31mKeyError\u001b[0m: 'Mark'"
          ]
        }
      ]
    },
    {
      "cell_type": "markdown",
      "source": [
        "d.get(<key>) searches dictionary d for <key> and returns the associated value if it is found. If <key> is not found, it returns None"
      ],
      "metadata": {
        "id": "7VhxAKR5vrzH"
      }
    },
    {
      "cell_type": "code",
      "source": [
        "print(d.get('Mark'))\n",
        "print(d.get('Alice'))"
      ],
      "metadata": {
        "colab": {
          "base_uri": "https://localhost:8080/"
        },
        "id": "03cx2WQ5v14p",
        "outputId": "1c1241a5-72b8-403f-c974-85de70cafb49"
      },
      "execution_count": null,
      "outputs": [
        {
          "output_type": "stream",
          "name": "stdout",
          "text": [
            "None\n",
            "9843\n"
          ]
        }
      ]
    },
    {
      "cell_type": "markdown",
      "source": [
        "### Adding new entry"
      ],
      "metadata": {
        "id": "9ENYhJ7inTff"
      }
    },
    {
      "cell_type": "code",
      "source": [
        "d['Mark'] = 2939\n",
        "print(d)"
      ],
      "metadata": {
        "colab": {
          "base_uri": "https://localhost:8080/"
        },
        "id": "lTQQrTkCnNbE",
        "outputId": "bb2103ca-a32b-441d-8886-ed849b20a2b3"
      },
      "execution_count": null,
      "outputs": [
        {
          "output_type": "stream",
          "name": "stdout",
          "text": [
            "{'John': 2343, 'Bob': 3422, 'Alice': 9843, 'Lisa': 3423, 'Mark': 2939}\n"
          ]
        }
      ]
    },
    {
      "cell_type": "markdown",
      "source": [
        "### Update an entry"
      ],
      "metadata": {
        "id": "YEdQC4V9ndKM"
      }
    },
    {
      "cell_type": "code",
      "source": [
        "d['Bob'] = 4329\n",
        "print(d)"
      ],
      "metadata": {
        "colab": {
          "base_uri": "https://localhost:8080/"
        },
        "id": "RCHVNuSKnctm",
        "outputId": "73d1c31f-32a3-418d-d2a1-b9b5fae4eeeb"
      },
      "execution_count": null,
      "outputs": [
        {
          "output_type": "stream",
          "name": "stdout",
          "text": [
            "{'John': 2343, 'Bob': 4329, 'Alice': 9843, 'Lisa': 3423, 'Mark': 2939}\n"
          ]
        }
      ]
    },
    {
      "cell_type": "markdown",
      "source": [
        "### Remove an entry\n",
        "\n",
        "2 ways -\n",
        "\n",
        "1. ```del dict_name[<key>]```\n",
        "2. ```dict_name.pop(<key>)```\n",
        "\n"
      ],
      "metadata": {
        "id": "IP7sRohRns2c"
      }
    },
    {
      "cell_type": "code",
      "source": [
        "del d['John']\n",
        "print(d)"
      ],
      "metadata": {
        "colab": {
          "base_uri": "https://localhost:8080/"
        },
        "id": "Y_YMkkn7n2Wi",
        "outputId": "a8f1229c-1bc2-4dec-c4c1-db254cf55a44"
      },
      "execution_count": null,
      "outputs": [
        {
          "output_type": "stream",
          "name": "stdout",
          "text": [
            "{'Bob': 4329, 'Alice': 9843, 'Lisa': 3423, 'Mark': 2939}\n"
          ]
        }
      ]
    },
    {
      "cell_type": "code",
      "source": [
        "bob = d.pop('Bob')\n",
        "print(d)\n",
        "print(bob)"
      ],
      "metadata": {
        "colab": {
          "base_uri": "https://localhost:8080/"
        },
        "id": "awC78IMMnXvy",
        "outputId": "e597acb5-4e51-40f5-a48d-3314d0b7a450"
      },
      "execution_count": null,
      "outputs": [
        {
          "output_type": "stream",
          "name": "stdout",
          "text": [
            "{'Alice': 9843, 'Lisa': 3423, 'Mark': 2939}\n",
            "4329\n"
          ]
        }
      ]
    },
    {
      "cell_type": "markdown",
      "source": [
        "The del keyword can also delete the dictionary completely"
      ],
      "metadata": {
        "id": "96oxfYQCpJH2"
      }
    },
    {
      "cell_type": "code",
      "source": [
        "del d\n",
        "print(d)"
      ],
      "metadata": {
        "colab": {
          "base_uri": "https://localhost:8080/",
          "height": 193
        },
        "id": "c-Fg_oZtpKBD",
        "outputId": "b118f0f9-e97f-435a-9ddb-428cad589fe2"
      },
      "execution_count": null,
      "outputs": [
        {
          "output_type": "error",
          "ename": "NameError",
          "evalue": "ignored",
          "traceback": [
            "\u001b[0;31m---------------------------------------------------------------------------\u001b[0m",
            "\u001b[0;31mNameError\u001b[0m                                 Traceback (most recent call last)",
            "\u001b[0;32m<ipython-input-147-fae18cb68a55>\u001b[0m in \u001b[0;36m<module>\u001b[0;34m()\u001b[0m\n\u001b[1;32m      1\u001b[0m \u001b[0;32mdel\u001b[0m \u001b[0md\u001b[0m\u001b[0;34m\u001b[0m\u001b[0;34m\u001b[0m\u001b[0m\n\u001b[0;32m----> 2\u001b[0;31m \u001b[0mprint\u001b[0m\u001b[0;34m(\u001b[0m\u001b[0md\u001b[0m\u001b[0;34m)\u001b[0m\u001b[0;34m\u001b[0m\u001b[0;34m\u001b[0m\u001b[0m\n\u001b[0m",
            "\u001b[0;31mNameError\u001b[0m: name 'd' is not defined"
          ]
        }
      ]
    },
    {
      "cell_type": "markdown",
      "source": [
        "Let's create a new dictionary"
      ],
      "metadata": {
        "id": "SgAvQWYhps3g"
      }
    },
    {
      "cell_type": "code",
      "source": [
        "squares = {1:1, 2:4, 3:9, 4:16, 5:25} "
      ],
      "metadata": {
        "id": "HHq-_tb7pL3v"
      },
      "execution_count": null,
      "outputs": []
    },
    {
      "cell_type": "markdown",
      "source": [
        "Let's use a loop to enter items in dictionary"
      ],
      "metadata": {
        "id": "TIvNP4vwp9x3"
      }
    },
    {
      "cell_type": "code",
      "source": [
        "for i in range(6,15):\n",
        "    squares [i] = i**2\n",
        "\n",
        "print(squares)"
      ],
      "metadata": {
        "colab": {
          "base_uri": "https://localhost:8080/"
        },
        "id": "Om3-ef-Gp8qM",
        "outputId": "9286faaf-3b4f-4926-a97c-f23cb2afb3b0"
      },
      "execution_count": null,
      "outputs": [
        {
          "output_type": "stream",
          "name": "stdout",
          "text": [
            "{1: 1, 2: 4, 3: 9, 4: 16, 5: 25, 6: 36, 7: 49, 8: 64, 9: 81, 10: 100, 11: 121, 12: 144, 13: 169, 14: 196}\n"
          ]
        }
      ]
    },
    {
      "cell_type": "code",
      "source": [
        "squares[12]"
      ],
      "metadata": {
        "colab": {
          "base_uri": "https://localhost:8080/"
        },
        "id": "PrWCXLCTqY-d",
        "outputId": "e90d41cb-ea85-4b23-cbe6-f01ffe079d6e"
      },
      "execution_count": null,
      "outputs": [
        {
          "output_type": "execute_result",
          "data": {
            "text/plain": [
              "144"
            ]
          },
          "metadata": {},
          "execution_count": 150
        }
      ]
    },
    {
      "cell_type": "markdown",
      "source": [
        "### Retrieve all key-value pairs"
      ],
      "metadata": {
        "id": "vTTx-6npqvzi"
      }
    },
    {
      "cell_type": "code",
      "source": [
        "squares.items()"
      ],
      "metadata": {
        "colab": {
          "base_uri": "https://localhost:8080/"
        },
        "id": "VQUSceisqduB",
        "outputId": "89135ec2-5c53-43d2-d053-821d889b2b51"
      },
      "execution_count": null,
      "outputs": [
        {
          "output_type": "execute_result",
          "data": {
            "text/plain": [
              "dict_items([(1, 1), (2, 4), (3, 9), (4, 16), (5, 25), (6, 36), (7, 49), (8, 64), (9, 81), (10, 100), (11, 121), (12, 144), (13, 169), (14, 196)])"
            ]
          },
          "metadata": {},
          "execution_count": 151
        }
      ]
    },
    {
      "cell_type": "code",
      "source": [
        "squares.keys()  # Retrieve all keys"
      ],
      "metadata": {
        "colab": {
          "base_uri": "https://localhost:8080/"
        },
        "id": "n-0dWUEGrIir",
        "outputId": "d8048740-4c26-478f-c3bc-b7aa2e6cf2e6"
      },
      "execution_count": null,
      "outputs": [
        {
          "output_type": "execute_result",
          "data": {
            "text/plain": [
              "dict_keys([1, 2, 3, 4, 5, 6, 7, 8, 9, 10, 11, 12, 13, 14])"
            ]
          },
          "metadata": {},
          "execution_count": 152
        }
      ]
    },
    {
      "cell_type": "code",
      "source": [
        "squares.values()    # Retrieve all values"
      ],
      "metadata": {
        "colab": {
          "base_uri": "https://localhost:8080/"
        },
        "id": "SGpw1gAHrT_x",
        "outputId": "a0a93c78-9222-4aed-c387-2a215d83fac4"
      },
      "execution_count": null,
      "outputs": [
        {
          "output_type": "execute_result",
          "data": {
            "text/plain": [
              "dict_values([1, 4, 9, 16, 25, 36, 49, 64, 81, 100, 121, 144, 169, 196])"
            ]
          },
          "metadata": {},
          "execution_count": 153
        }
      ]
    },
    {
      "cell_type": "markdown",
      "source": [
        "### Looping through dictionaries"
      ],
      "metadata": {
        "id": "q9DDEm47Dnz1"
      }
    },
    {
      "cell_type": "markdown",
      "source": [
        "When looping through dictionaries, the key and corresponding value can be retrieved at the same time using the items() method"
      ],
      "metadata": {
        "id": "cDU3GvSdrhie"
      }
    },
    {
      "cell_type": "code",
      "source": [
        "for item in squares.items():\n",
        "    print(item)"
      ],
      "metadata": {
        "colab": {
          "base_uri": "https://localhost:8080/"
        },
        "id": "TuhACXfjq2HB",
        "outputId": "2518712e-1be1-4f8f-e830-dae2a30bcb01"
      },
      "execution_count": null,
      "outputs": [
        {
          "output_type": "stream",
          "name": "stdout",
          "text": [
            "(1, 1)\n",
            "(2, 4)\n",
            "(3, 9)\n",
            "(4, 16)\n",
            "(5, 25)\n",
            "(6, 36)\n",
            "(7, 49)\n",
            "(8, 64)\n",
            "(9, 81)\n",
            "(10, 100)\n",
            "(11, 121)\n",
            "(12, 144)\n",
            "(13, 169)\n",
            "(14, 196)\n"
          ]
        }
      ]
    },
    {
      "cell_type": "code",
      "source": [
        "for k in squares.keys():\n",
        "    print(squares[k])"
      ],
      "metadata": {
        "colab": {
          "base_uri": "https://localhost:8080/"
        },
        "id": "g5qis3erDuZd",
        "outputId": "531ed024-269c-4bd8-d218-e9610dd7edc7"
      },
      "execution_count": null,
      "outputs": [
        {
          "output_type": "stream",
          "name": "stdout",
          "text": [
            "11\n",
            "14\n",
            "19\n",
            "26\n",
            "35\n",
            "46\n",
            "59\n",
            "74\n",
            "91\n",
            "110\n",
            "131\n",
            "154\n",
            "179\n",
            "206\n"
          ]
        }
      ]
    },
    {
      "cell_type": "markdown",
      "source": [
        "There are no restrictions on dictionary values"
      ],
      "metadata": {
        "id": "7N1dtupEvDh7"
      }
    },
    {
      "cell_type": "code",
      "source": [
        "data = {1:['Isha', 34, 'Mumbai'], 2:2, 3:['Sam', 28, 'Delhi']}\n",
        "print(data)"
      ],
      "metadata": {
        "colab": {
          "base_uri": "https://localhost:8080/"
        },
        "id": "YyJGW_7yrWe1",
        "outputId": "13379e7a-c384-4bf5-caab-416ae7b3e5fe"
      },
      "execution_count": null,
      "outputs": [
        {
          "output_type": "stream",
          "name": "stdout",
          "text": [
            "{1: ['Isha', 34, 'Mumbai'], 2: 2, 3: ['Sam', 28, 'Delhi']}\n"
          ]
        }
      ]
    },
    {
      "cell_type": "code",
      "source": [
        "data[3]"
      ],
      "metadata": {
        "colab": {
          "base_uri": "https://localhost:8080/"
        },
        "id": "QQF1KkPBt2PF",
        "outputId": "29881ab4-101f-4c0f-8164-d10930445eac"
      },
      "execution_count": null,
      "outputs": [
        {
          "output_type": "execute_result",
          "data": {
            "text/plain": [
              "['Sam', 28, 'Delhi']"
            ]
          },
          "metadata": {},
          "execution_count": 160
        }
      ]
    },
    {
      "cell_type": "markdown",
      "source": [
        "### Nested Dictionaries\n",
        "\n",
        "A dictionary can contain dictionaries, this is called nested dictionaries."
      ],
      "metadata": {
        "id": "W6Ikyrcpt9AV"
      }
    },
    {
      "cell_type": "code",
      "source": [
        "data = {\n",
        "    1:{\n",
        "        'Name':'Isha',\n",
        "        'Age':34,\n",
        "       'Location':'Mumbai',\n",
        "    },\n",
        "    2:{\n",
        "        'Name':'Raj',\n",
        "       'Age': 35,\n",
        "       'Location': 'Bangalore',\n",
        "    },\n",
        "    3:{\n",
        "        'Name':'Sam',\n",
        "       'Age': 28,\n",
        "       'Location': 'Delhi',\n",
        "    }\n",
        "}"
      ],
      "metadata": {
        "id": "3Ygr8cYOt40t"
      },
      "execution_count": null,
      "outputs": []
    },
    {
      "cell_type": "code",
      "source": [
        "data"
      ],
      "metadata": {
        "colab": {
          "base_uri": "https://localhost:8080/"
        },
        "id": "gVBlOKFdujAx",
        "outputId": "f666caa8-0cdf-4dd1-9fe4-646fb1f2ff6a"
      },
      "execution_count": null,
      "outputs": [
        {
          "output_type": "execute_result",
          "data": {
            "text/plain": [
              "{1: {'Age': 34, 'Location': 'Mumbai', 'Name': 'Isha'},\n",
              " 2: {'Age': 35, 'Location': 'Bangalore', 'Name': 'Raj'},\n",
              " 3: {'Age': 28, 'Location': 'Delhi', 'Name': 'Sam'}}"
            ]
          },
          "metadata": {},
          "execution_count": 162
        }
      ]
    },
    {
      "cell_type": "code",
      "source": [
        "data[1]"
      ],
      "metadata": {
        "colab": {
          "base_uri": "https://localhost:8080/"
        },
        "id": "vp0gZZSAuj6c",
        "outputId": "b366c847-3507-425b-81cb-08ad62ceafd8"
      },
      "execution_count": null,
      "outputs": [
        {
          "output_type": "execute_result",
          "data": {
            "text/plain": [
              "{'Age': 34, 'Location': 'Mumbai', 'Name': 'Isha'}"
            ]
          },
          "metadata": {},
          "execution_count": 163
        }
      ]
    },
    {
      "cell_type": "code",
      "source": [
        "data[1]['Name']"
      ],
      "metadata": {
        "colab": {
          "base_uri": "https://localhost:8080/",
          "height": 36
        },
        "id": "SQA_-Q9gulmx",
        "outputId": "8134aeca-f437-4b86-b2d5-0f68b7070593"
      },
      "execution_count": null,
      "outputs": [
        {
          "output_type": "execute_result",
          "data": {
            "application/vnd.google.colaboratory.intrinsic+json": {
              "type": "string"
            },
            "text/plain": [
              "'Isha'"
            ]
          },
          "metadata": {},
          "execution_count": 164
        }
      ]
    },
    {
      "cell_type": "code",
      "source": [
        "data[2]['Location']"
      ],
      "metadata": {
        "colab": {
          "base_uri": "https://localhost:8080/",
          "height": 36
        },
        "id": "8jlMwYH7uoBm",
        "outputId": "b689f62c-7921-4377-f8b6-0a6fb58b32d0"
      },
      "execution_count": null,
      "outputs": [
        {
          "output_type": "execute_result",
          "data": {
            "application/vnd.google.colaboratory.intrinsic+json": {
              "type": "string"
            },
            "text/plain": [
              "'Bangalore'"
            ]
          },
          "metadata": {},
          "execution_count": 165
        }
      ]
    }
  ]
}