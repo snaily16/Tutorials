{
 "cells": [
  {
   "cell_type": "markdown",
   "id": "b2629260",
   "metadata": {},
   "source": [
    "## What is Docker?\n",
    "\n",
    "Docker is a tool that containerizes your applications, thus providing loose isolation between your application and the host machine\n",
    "\n",
    "A container technology: a tool for creating and managing a container. \n",
    "\n",
    "* Container - A running unit/application\n",
    "* Images - templates/blueprints which contains the code"
   ]
  },
  {
   "cell_type": "markdown",
   "id": "be8e36c4",
   "metadata": {},
   "source": [
    "## Running and Building Docker Images\n",
    "\n",
    "To run external docker image - \n",
    "```\n",
    "$ docker run [OPTIONS] IMAGE [COMMAND] [ARG...]\n",
    "```\n",
    "The docker run command first creates a writeable container layer over the specified image, and then starts it using the specified command."
   ]
  },
  {
   "cell_type": "markdown",
   "id": "b412a127",
   "metadata": {},
   "source": [
    "### To build our own docker image - \n",
    "\n",
    "Docker can build images automatically by reading the instructions from a Dockerfile. A Dockerfile is a text document that contains all the commands a user could call on the command line to assemble an image.\n",
    "\n",
    "1. **Base Image**\n",
    "    - Dockerfile usually starts from a base image. As defined in the Docker documentation, a base image or parent image is where your image is based. It’s your starting point. \n",
    "    - We add the base image to Dockerfile using the **FROM** command, followed by the base image name:\n",
    "        ```FROM ImageName```\n",
    "2. **Copying Source Code** \n",
    "    - First set the working directory using **WORKDIR**. \n",
    "    - Then copy files using the **COPY** command. \n",
    "    ```\n",
    "    WORKDIR path\n",
    "    COPY source_path dest_path\n",
    "    ```\n",
    "3. **Run Command**\n",
    "    - The RUN instruction will execute any commands in a new layer on top of the current image and commit the results.\n",
    "    - RUN has 2 forms:\n",
    "         - ```RUN <command>``` (shell form, the command is run in a shell, which by default is /bin/sh -c on Linux or cmd /S /C on Windows)\n",
    "         - ```RUN [\"executable\", \"param1\", \"param2\"] ``` (exec form)\n",
    "\n",
    "4. **Exposing a Port**\n",
    "    - The EXPOSE instruction informs Docker that the container listens on the specified network ports at runtime.\n",
    "    - Can specify whether the port listens on TCP or UDP, and the default is TCP if the protocol is not specified\n",
    "    - ```EXPOSE <port> [<port>/<protocol>...]```\n",
    "\n",
    "5. **CMD**\n",
    "    - There can only be one **CMD** instruction in a Dockerfile. \n",
    "    - If you list more than one **CMD** then only the last CMD will take effect.\n",
    "    - The main purpose of a **CMD** is to provide defaults for an executing container\n",
    "    - The **CMD** instruction has three forms:\n",
    "        - ```CMD [\"executable\",\"param1\",\"param2\"]``` (exec form, this is the preferred form)\n",
    "        - ```CMD [\"param1\",\"param2\"]```(as default parameters to ENTRYPOINT)\n",
    "        - ```CMD command param1 param2``` (shell form)\n",
    "6. **ADD**\n",
    "    - The **ADD** instruction copies new files, directories or remote file URLs from src and adds them to the filesystem of the image at the path dest.\n",
    "\n",
    "```\n",
    "#Filename: Dockerfile \n",
    "FROM node:10-alpine\n",
    "WORKDIR /usr/src/app\n",
    "COPY package*.json ./\n",
    "RUN npm install\n",
    "COPY . .\n",
    "EXPOSE 3000\n",
    "```"
   ]
  },
  {
   "cell_type": "markdown",
   "id": "724a8fb9",
   "metadata": {},
   "source": [
    "## .dockerignore file\n",
    "- Before the docker CLI sends the context to the docker daemon, it looks for a file named **.dockerignore** in the root directory of the context. \n",
    "- If this file exists, the CLI modifies the context to exclude files and directories that match patterns in it. .\n",
    "- This helps to avoid unnecessarily sending large or sensitive files and directories to the daemon and potentially adding them to images using ADD or COPY."
   ]
  },
  {
   "cell_type": "markdown",
   "id": "d451dd05",
   "metadata": {},
   "source": [
    "To build local image\n",
    "\n",
    "```\n",
    "$ docker build -t yourusername/repository-name\n",
    "```\n",
    "\n",
    "To see built image - \n",
    "\n",
    "``` \n",
    "$ docker images \n",
    "```\n",
    "\n",
    "To list active containers - \n",
    "\n",
    "```\n",
    "$ docker ps\n",
    "```\n",
    "\n",
    "To remove docker image -\n",
    "```\n",
    "$ docker rmi image_name\n",
    "```\n",
    "To remove container -\n",
    "```\n",
    "$ docker rm container_name\n",
    "```"
   ]
  }
 ],
 "metadata": {
  "kernelspec": {
   "display_name": "Python 3 (ipykernel)",
   "language": "python",
   "name": "python3"
  },
  "language_info": {
   "codemirror_mode": {
    "name": "ipython",
    "version": 3
   },
   "file_extension": ".py",
   "mimetype": "text/x-python",
   "name": "python",
   "nbconvert_exporter": "python",
   "pygments_lexer": "ipython3",
   "version": "3.10.5"
  }
 },
 "nbformat": 4,
 "nbformat_minor": 5
}
