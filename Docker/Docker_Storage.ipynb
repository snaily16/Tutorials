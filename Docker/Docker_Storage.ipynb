{
 "cells": [
  {
   "cell_type": "markdown",
   "id": "1ee73d21",
   "metadata": {},
   "source": [
    "# Managing Data and Working with Volumes"
   ]
  },
  {
   "cell_type": "markdown",
   "id": "29e664c6",
   "metadata": {},
   "source": [
    "## Types of Data\n",
    "1. Application (Code + Environment) -\n",
    "    - **Read-only, hence stored in Images**\n",
    "    - Written & provided by developer\n",
    "    - Added to image & container in build phase\n",
    "    - Can't be changed once image is built\n",
    "\n",
    "\n",
    "2. Temporary App data (e.g. user input) -\n",
    "    - **Read + write, temporary, hence stored in Containers**\n",
    "    - Fetched/Produced in running container\n",
    "    - Stored in memory or temporary files\n",
    "    - Dynamic and changing\n",
    "    \n",
    "    \n",
    "3. Permanent App Data (e.g. user accounts) -\n",
    "    - **Read + write, permanent, hence stored with Containers & Volumes**\n",
    "    - Fetched/Produced in running container\n",
    "    - Stored in a database\n",
    "    - Must not be lost if container stops/restarts\n",
    "\n",
    "Docker containers are used to run applications in an isolated environment. By default, all the changes inside the container are lost when the container stops. If we want to keep data between runs, Docker volumes and bind mounts can help."
   ]
  },
  {
   "cell_type": "markdown",
   "id": "7769e556",
   "metadata": {},
   "source": [
    "## Docker File System\n",
    "\n",
    "- Images are made of a set of **read-only** layers that work on a file system called the Union File System. \n",
    "- When we start a new container, Docker adds a **read-write** layer on the top of the image layers allowing the container to run as though on a standard Linux file system.\n",
    "- Any file change inside the container creates a working copy in the **read-write** layer. \n",
    "- However, when the container is stopped or deleted, that read-write layer is lost.\n",
    "\n",
    "\n",
    "### Two Types of External Data Storages\n",
    "\n",
    "1. **Volumes** (Managed by Docker)\n",
    "    - 2 types -\n",
    "        - Anonymous Volumes - only exists when container exists\n",
    "        - Named Volumes - great for persistent data, but which you don't need to edit directly.\n",
    "    - Docker sets up a folder/path on host machine, exact location is unknown to developer. \n",
    "    - Managed via ``` docker volume ``` commands.\n",
    "    \n",
    "    \n",
    "2. **Bind Mounts** (Managed by You)\n",
    "\n",
    "    - You define a folder/path on your host machine\n",
    "    - Great for persistent, editable data.\n",
    "\n",
    "A defined path in the container is mapped to the created volume/mount."
   ]
  },
  {
   "cell_type": "markdown",
   "id": "f38ea495",
   "metadata": {},
   "source": [
    "### Bind Mounts\n",
    "\n",
    "A Bind Mount is a storage area (file or directory) on your local machine available inside your container. So any changes you make to this storage space (file or directory) from the outside container will be reflected inside the docker container and vice-versa.\n",
    "\n",
    "The file or directory is referenced by its absolute path on the host machine. \n",
    "\n",
    "Bind mounts are very performant, but they rely on the host machine’s filesystem having a specific directory structure available.\n",
    "\n",
    "*Please Note: A bind mount will overwrite the content of the docker container.*\n",
    "\n",
    "\n",
    "A practical application of Bind Mounts can be when you want to update the source code of your image and run it inside the container without creating a new image. You can do so by creating a Bind Mount and changing the code from your local machine, which will then reflect in your container.\n",
    "\n",
    "If you use -v or --volume to bind-mount a file or directory that does not yet exist on the Docker host, -v creates the endpoint for you. It is always created as a directory.\n",
    "\n",
    "If you use --mount to bind-mount a file or directory that does not yet exist on the Docker host, Docker does not automatically create it for you, but generates an error."
   ]
  },
  {
   "cell_type": "markdown",
   "id": "02c5e390",
   "metadata": {},
   "source": [
    "**Activity:**\n",
    "1. Create an empty directory on local machine\n",
    "2. Access the conten of this directory at \"/app/example\" from withing container\n",
    "    ``` \n",
    "    docker run -d --name devtest -v \"%cd%\":/app/example image_name\n",
    "    ```\n",
    "    or\n",
    "    ```\n",
    "    docker run -d -it --name devtest --mount type=bind,source=\"%cd%\",target=/app image_name\n",
    "    ```\n",
    "3. Create file in example directory and check if it is available from inside the container\n",
    "    ``` \n",
    "    docker exec -it bind-mount \n",
    "    ```\n",
    "4. Create a file inside container and check if it is available on local machine\n",
    "5. Delete the container and see if data persists on your local machine"
   ]
  },
  {
   "attachments": {
    "image.png": {
     "image/png": "[encoded data removed]"
    }
   },
   "cell_type": "markdown",
   "id": "267f8e2b",
   "metadata": {},
   "source": [
    "### Volumes\n",
    "\n",
    "Volumes are **folders on your host machine** which are **mounted** (\"made available\", mapped) **into containers**.\n",
    "Volumes persist if a container shuts down or restarts.\n",
    "A container can write data into a volume and read data from it.\n",
    "\n",
    "Volumes are the preferred mechanism for persisting data generated by and used by Docker containers. While bind mounts are dependent on the directory structure and OS of the host machine, volumes are completely managed by Docker. \n",
    "\n",
    "Volumes have several advantages over bind mounts:\n",
    "- Volumes are easier to back up or migrate than bind mounts.\n",
    "- You can manage volumes using Docker CLI commands or the Docker API.\n",
    "- Volumes work on both Linux and Windows containers.\n",
    "- Volumes can be more safely shared among multiple containers.\n",
    "- Volume drivers let you store volumes on remote hosts or cloud providers, to encrypt the contents of volumes, or to add other functionality.\n",
    "- New volumes can have their content pre-populated by a container.\n",
    "- Volumes on Docker Desktop have much higher performance than bind mounts from Mac and Windows hosts.\n",
    "\n",
    "In addition, volumes are often a better choice than persisting data in a container’s writable layer, because **a volume does not increase the size of the containers using it, and the volume’s contents exist outside the lifecycle of a given container**.\n",
    "\n",
    "![image.png](attachment:image.png)"
   ]
  },
  {
   "cell_type": "markdown",
   "id": "d3edf12e",
   "metadata": {},
   "source": [
    "#### Create and Manage a Volume\n",
    "\n",
    "Unlike a bind mount, you can create and manage volumes outside the scope of any container.\n",
    "\n",
    "1. Create a Volume\n",
    "```\n",
    "docker volume create my-vol\n",
    "```\n",
    "\n",
    "2. List volumes:\n",
    "```\n",
    "docker volume ls\n",
    "```\n",
    "3. Inspect a volume:\n",
    "``` \n",
    "docker volume inspect my-vol\n",
    "[\n",
    "    {\n",
    "        \"Driver\": \"local\",\n",
    "        \"Labels\": {},\n",
    "        \"Mountpoint\": \"/var/lib/docker/volumes/my-vol/_data\",\n",
    "        \"Name\": \"my-vol\",\n",
    "        \"Options\": {},\n",
    "        \"Scope\": \"local\"\n",
    "    }\n",
    "]\n",
    "```\n",
    "\n",
    "4. Remove a volume:\n",
    "```\n",
    "docker volume rm my-vol\n",
    "```"
   ]
  },
  {
   "cell_type": "markdown",
   "id": "ddd14666",
   "metadata": {},
   "source": [
    "### Start a container with a volume\n",
    "\n",
    "If you start a container with a volume that doesn’t yet exist, Docker creates the volume for you. \n",
    "\n",
    "The following example mounts the volume into /app/ in the container.\n",
    "```\n",
    "docker run -d --name container_name -v volume_name:/app image_name:version\n",
    "```\n",
    "or\n",
    "```\n",
    "docker run -d --name container_name --mount source=volume_name,target=/app  image_name:version\n",
    "```"
   ]
  },
  {
   "cell_type": "markdown",
   "id": "8c349553",
   "metadata": {},
   "source": [
    "### Choose the -v or --mount flag\n",
    "\n",
    "In general, **--mount** is more explicit and verbose. The biggest difference is that the **-v** syntax combines all the options together in one field, while the **--mount** syntax separates them. Here is a comparison of the syntax for each flag.\n",
    "\n",
    "If you need to specify volume driver options, you must use **--mount**.\n",
    "\n",
    "* -v or --volume: \n",
    "    - Consists of three fields, separated by colon characters (:). The fields **must be in the correct order**, and the meaning of each field is not immediately obvious.\n",
    "    - In the case of named volumes, *the first field is the name of the volume*, and is unique on a given host machine. For anonymous volumes, the first field is omitted.\n",
    "    - The *second field is the path* where the file or directory are mounted in the container.\n",
    "    - The third field is optional, and is a *comma-separated list of options, such as ro.*.\n",
    "    \n",
    "* --mount: \n",
    "    - Consists of multiple key-value pairs, separated by commas and each consisting of a <key>=<value> tuple. \n",
    "    - The --mount syntax is more verbose than -v or --volume, but the **order of the keys is not significant**, and the value of the flag is easier to understand.\n",
    "    - The type of the mount, which can be bind, volume, or tmpfs.\n",
    "    - The source of the mount. For named volumes, this is the name of the volume. For anonymous volumes, this field is omitted. May be specified as source or src.\n",
    "    - The destination takes as its value the path where the file or directory is mounted in the container. May be specified as destination, dst, or target.\n",
    "    - The readonly option, if present, causes the bind mount to be mounted into the container as read-only. May be specified as readonly or ro.\n",
    "    - The volume-opt option, which can be specified more than once, takes a key-value pair consisting of the option name and its value."
   ]
  },
  {
   "cell_type": "markdown",
   "id": "1b2c5119",
   "metadata": {},
   "source": [
    "### Read-only volume\n",
    "\n",
    "Multiple containers can mount the same volume. You can simultaneously mount a single volume as read-write for some containers and as read-only for others.\n",
    "\n",
    "The following example modifies the one above but mounts the directory as a read-only volume, by adding ro to the (empty by default) list of options, after the mount point within the container.\n",
    "```\n",
    "docker run -d --name=conatiner_name -v volume_name:/dest/path/to/vol:ro image_name:version\n",
    "```"
   ]
  },
  {
   "attachments": {
    "image.png": {
     "image/png": "[encoded data removed]"
    }
   },
   "cell_type": "markdown",
   "id": "2d3c493f",
   "metadata": {},
   "source": [
    "### Share data between machines\n",
    "\n",
    "When building fault-tolerant applications, you may need to configure multiple replicas of the same service to have access to the same files.\n",
    "\n",
    "![image.png](attachment:image.png)"
   ]
  },
  {
   "cell_type": "code",
   "execution_count": null,
   "id": "9a3b97e2",
   "metadata": {},
   "outputs": [],
   "source": []
  }
 ],
 "metadata": {
  "kernelspec": {
   "display_name": "Python 3 (ipykernel)",
   "language": "python",
   "name": "python3"
  },
  "language_info": {
   "codemirror_mode": {
    "name": "ipython",
    "version": 3
   },
   "file_extension": ".py",
   "mimetype": "text/x-python",
   "name": "python",
   "nbconvert_exporter": "python",
   "pygments_lexer": "ipython3",
   "version": "3.10.5"
  }
 },
 "nbformat": 4,
 "nbformat_minor": 5
}
