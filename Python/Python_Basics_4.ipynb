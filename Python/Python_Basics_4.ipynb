{
  "nbformat": 4,
  "nbformat_minor": 0,
  "metadata": {
    "colab": {
      "name": "Python-Basics-4.ipynb",
      "provenance": [],
      "toc_visible": true,
      "authorship_tag": "ABX9TyP//GDpIBqLYvrMn59OanrG",
      "include_colab_link": true
    },
    "kernelspec": {
      "name": "python3",
      "display_name": "Python 3"
    },
    "language_info": {
      "name": "python"
    }
  },
  "cells": [
    {
      "cell_type": "markdown",
      "metadata": {
        "id": "view-in-github",
        "colab_type": "text"
      },
      "source": [
        "<a href=\"https://colab.research.google.com/github/snaily16/Tutorials/blob/master/Python_Basics_4.ipynb\" target=\"_parent\"><img src=\"https://colab.research.google.com/assets/colab-badge.svg\" alt=\"Open In Colab\"/></a>"
      ]
    },
    {
      "cell_type": "markdown",
      "source": [
        "In this notebook we will cover following concepts -\n",
        "\n",
        "\n",
        "*   Object Oriented Programming in Python\n",
        "*   Python Moduels\n",
        "*   Errors and Exceptions\n",
        "*   File Handling\n",
        "\n"
      ],
      "metadata": {
        "id": "xRklZNdlo00u"
      }
    },
    {
      "cell_type": "markdown",
      "source": [
        "# Object Oriented Programming Concepts in Python\n",
        "\n",
        "\n",
        "Almost everything in Python is an object, with its properties and methods."
      ],
      "metadata": {
        "id": "lgyt3_ZFZ9Qh"
      }
    },
    {
      "cell_type": "markdown",
      "source": [
        "## Classes\n",
        "The simplest form of class definition looks like this\n",
        "\n",
        "```\n",
        "class ClassName:\n",
        "    <statement-1>\n",
        "    .\n",
        "    .\n",
        "    .\n",
        "    <statement-N>\n",
        "```\n",
        "\n"
      ],
      "metadata": {
        "id": "20r5bLde-CBp"
      }
    },
    {
      "cell_type": "code",
      "execution_count": null,
      "metadata": {
        "id": "y2aCAegTXqT2"
      },
      "outputs": [],
      "source": [
        "class MyClass:\n",
        "    var = 10"
      ]
    },
    {
      "cell_type": "markdown",
      "source": [
        "## Class Objects\n",
        "\n",
        "Class objects support two kinds of operations: attribute references and instantiation"
      ],
      "metadata": {
        "id": "7N0LX2Ea-qBT"
      }
    },
    {
      "cell_type": "markdown",
      "source": [
        "**Attribute references** use the standard syntax used for all attribute references in Python: `obj.name`"
      ],
      "metadata": {
        "id": "hrBWWu-v-x2S"
      }
    },
    {
      "cell_type": "code",
      "source": [
        "MyClass.var"
      ],
      "metadata": {
        "colab": {
          "base_uri": "https://localhost:8080/"
        },
        "id": "pJMJaCZC-V7t",
        "outputId": "d8d7e37b-97e6-41d8-ab74-7995cac18b67"
      },
      "execution_count": null,
      "outputs": [
        {
          "output_type": "execute_result",
          "data": {
            "text/plain": [
              "10"
            ]
          },
          "metadata": {},
          "execution_count": 2
        }
      ]
    },
    {
      "cell_type": "markdown",
      "source": [
        "**Class instantiation** uses function notation. Just pretend that the class object is a parameterless function that returns a new instance of the class. \n",
        "\n",
        "This creates a new instance of the class and assigns this object to the local variable **obj**"
      ],
      "metadata": {
        "id": "9W8fYjWY-9eH"
      }
    },
    {
      "cell_type": "code",
      "source": [
        "obj = MyClass()\n",
        "obj.var"
      ],
      "metadata": {
        "colab": {
          "base_uri": "https://localhost:8080/"
        },
        "id": "alo_gzLE-2NK",
        "outputId": "7cd3895a-2eac-4897-f736-4cf26225bd19"
      },
      "execution_count": null,
      "outputs": [
        {
          "output_type": "execute_result",
          "data": {
            "text/plain": [
              "10"
            ]
          },
          "metadata": {},
          "execution_count": 3
        }
      ]
    },
    {
      "cell_type": "markdown",
      "source": [
        "## The __init__() function\n",
        "\n",
        "When a class defines an __init__() method, class instantiation automatically invokes __init__() for the newly-created class instance. \n",
        "\n",
        "Use the __init__() function to assign values to object properties, or other operations that are necessary to do when the object is being created"
      ],
      "metadata": {
        "id": "z3wfJnTb_kxs"
      }
    },
    {
      "cell_type": "code",
      "source": [
        "class ComplexNumbers:\n",
        "    def __init__(self, real, img):\n",
        "        self.real = real\n",
        "        self.img = img"
      ],
      "metadata": {
        "id": "qCqSIHtW_DAl"
      },
      "execution_count": null,
      "outputs": []
    },
    {
      "cell_type": "markdown",
      "source": [
        "The self parameter is a reference to the current instance of the class, and is used to access variables that belongs to the class.\n",
        "\n",
        "It does not have to be named self , you can call it whatever you like, but it has to be the first parameter of any function in the class"
      ],
      "metadata": {
        "id": "1dXg_tL0AusG"
      }
    },
    {
      "cell_type": "code",
      "source": [
        "c = ComplexNumbers(3,10)\n",
        "print(c.real, c.img)"
      ],
      "metadata": {
        "colab": {
          "base_uri": "https://localhost:8080/"
        },
        "id": "iHcIczrfAvKv",
        "outputId": "d2f982db-de9a-45a2-9239-f5345ab75e0d"
      },
      "execution_count": null,
      "outputs": [
        {
          "output_type": "stream",
          "name": "stdout",
          "text": [
            "3 10\n"
          ]
        }
      ]
    },
    {
      "cell_type": "markdown",
      "source": [
        "## Object Method\n",
        "\n",
        "Objects can also contain methods. Methods in objects are functions that belong to the object."
      ],
      "metadata": {
        "id": "Zo2bf-xtBZCK"
      }
    },
    {
      "cell_type": "code",
      "source": [
        "class ComplexNumbers:\n",
        "    def __init__(self, real, img):\n",
        "        self.real = real\n",
        "        self.img = img\n",
        "\n",
        "    def display(self):\n",
        "        print(\"Complex number is: {} + {}i\".format(self.real, self.img))"
      ],
      "metadata": {
        "id": "9LXtZ_uqBIhr"
      },
      "execution_count": null,
      "outputs": []
    },
    {
      "cell_type": "code",
      "source": [
        "c = ComplexNumbers(1,-8)\n",
        "c.display()"
      ],
      "metadata": {
        "colab": {
          "base_uri": "https://localhost:8080/"
        },
        "id": "LaG2kVPEBegN",
        "outputId": "3e22331c-9395-4d21-9199-e1f47966dcb2"
      },
      "execution_count": null,
      "outputs": [
        {
          "output_type": "stream",
          "name": "stdout",
          "text": [
            "Complex number is: 1 + -8i\n"
          ]
        }
      ]
    },
    {
      "cell_type": "markdown",
      "source": [
        "## Modify Object Properties\n",
        "\n",
        "You can modify properties on objects like this -"
      ],
      "metadata": {
        "id": "Z4Rwxhx-B3c8"
      }
    },
    {
      "cell_type": "code",
      "source": [
        "c.real = 7\n",
        "c.display()"
      ],
      "metadata": {
        "colab": {
          "base_uri": "https://localhost:8080/"
        },
        "id": "8QTNX9UYBs2G",
        "outputId": "d5872827-d9db-45bf-fc67-92eff6cb349b"
      },
      "execution_count": null,
      "outputs": [
        {
          "output_type": "stream",
          "name": "stdout",
          "text": [
            "Complex number is: 7 + -8i\n"
          ]
        }
      ]
    },
    {
      "cell_type": "markdown",
      "source": [
        "## Inheritance\n",
        "\n",
        "Inheritance allows us to define a class that inherits all the methods and properties from another class.\n",
        "\n",
        "* Parent class is the class being inherited from, also called base class.\n",
        "\n",
        "* Child class is the class that inherits from another class, also called derived class."
      ],
      "metadata": {
        "id": "MH0xLzpnB_81"
      }
    },
    {
      "cell_type": "markdown",
      "source": [
        "### Create a Child/Derived class\n",
        "\n",
        "To create a class that inherits the functionality from another class, send the parent class as a parameter when creating the child class\n",
        "\n",
        "\n",
        "\n",
        "```\n",
        "class DerivedClassName(BaseClassName):\n",
        "    <statement-1>\n",
        "    .\n",
        "    .\n",
        "    .\n",
        "    <statement-N>\n",
        "```\n",
        "\n"
      ],
      "metadata": {
        "id": "qBfrYKVTCNQ8"
      }
    },
    {
      "cell_type": "code",
      "source": [
        "class Person:\n",
        "    def __init__(self, name, age):\n",
        "        self.name = name\n",
        "        self.age = age\n",
        "\n",
        "    def display(self):\n",
        "        print(\"Name is {} and Age is {}\".format(self.name, self.age))"
      ],
      "metadata": {
        "id": "H5UAL419B1Nz"
      },
      "execution_count": null,
      "outputs": []
    },
    {
      "cell_type": "code",
      "source": [
        "class Student(Person):\n",
        "    pass"
      ],
      "metadata": {
        "id": "shwV_A2SCkAf"
      },
      "execution_count": null,
      "outputs": []
    },
    {
      "cell_type": "code",
      "source": [
        "s = Student('Raj', 18)\n",
        "s.display()"
      ],
      "metadata": {
        "colab": {
          "base_uri": "https://localhost:8080/"
        },
        "id": "FY5XOE89CmzU",
        "outputId": "78b1db32-4fd2-452a-ae2e-b8dedfa8ccc3"
      },
      "execution_count": null,
      "outputs": [
        {
          "output_type": "stream",
          "name": "stdout",
          "text": [
            "Name is Raj and Age is 18\n"
          ]
        }
      ]
    },
    {
      "cell_type": "markdown",
      "source": [
        "### Add the __init__() Function\n",
        "\n",
        "So far we have created a child class that inherits the properties and methods from its parent.\n",
        "\n",
        "We want to add the __init__() function to the child class"
      ],
      "metadata": {
        "id": "OfT4jvsdDB4w"
      }
    },
    {
      "cell_type": "code",
      "source": [
        "class Student(Person):\n",
        "  def __init__(self, name, age, course='CSE'):\n",
        "    Person.__init__(self, name, age)\n",
        "    self.course = course"
      ],
      "metadata": {
        "id": "StzW3tlSDr7k"
      },
      "execution_count": null,
      "outputs": []
    },
    {
      "cell_type": "code",
      "source": [
        "s = Student('Alice', 23)\n",
        "print(s.name, s.age, s.course)"
      ],
      "metadata": {
        "colab": {
          "base_uri": "https://localhost:8080/"
        },
        "id": "V3B0ZTglEVO5",
        "outputId": "58a4c37d-8205-4075-bc94-0de95b7b8c5f"
      },
      "execution_count": null,
      "outputs": [
        {
          "output_type": "stream",
          "name": "stdout",
          "text": [
            "Alice 23 CSE\n"
          ]
        }
      ]
    },
    {
      "cell_type": "markdown",
      "source": [
        "### Use super() function\n",
        "\n",
        "By using the super() function, you do not have to use the name of the parent element, it will automatically inherit the methods and properties from its parent."
      ],
      "metadata": {
        "id": "LTNIhFrOEnEd"
      }
    },
    {
      "cell_type": "code",
      "source": [
        "class Student(Person):\n",
        "  def __init__(self, name, age, course='CSE'):\n",
        "    super().__init__(name, age)\n",
        "    self.course = course"
      ],
      "metadata": {
        "id": "x2Oz-TqkEu-x"
      },
      "execution_count": null,
      "outputs": []
    },
    {
      "cell_type": "code",
      "source": [
        "s = Student('Andy', 19, 'IT')\n",
        "print(s.name, s.age, s.course)"
      ],
      "metadata": {
        "colab": {
          "base_uri": "https://localhost:8080/"
        },
        "id": "3uXfzMi7EyMX",
        "outputId": "4d56be27-983a-4538-b0d1-39f54a0d7148"
      },
      "execution_count": null,
      "outputs": [
        {
          "output_type": "stream",
          "name": "stdout",
          "text": [
            "Andy 19 IT\n"
          ]
        }
      ]
    },
    {
      "cell_type": "markdown",
      "source": [
        "## Multiple Inheritance\n",
        "\n",
        "Python supports multiple inheritance as well\n",
        "\n",
        "```\n",
        "class DerivedClassName(Base1, Base2, Base3):\n",
        "    <statement-1>\n",
        "    .\n",
        "    .\n",
        "    .\n",
        "    <statement-N>\n",
        "```\n",
        "\n"
      ],
      "metadata": {
        "id": "gIJPC9XaDkOd"
      }
    },
    {
      "cell_type": "markdown",
      "source": [
        "# Python Modules"
      ],
      "metadata": {
        "id": "ve92hdVZFQbj"
      }
    },
    {
      "cell_type": "markdown",
      "source": [
        "### Create a module\n",
        "\n",
        "To create a module just save the code you want in a file with the file extension .py"
      ],
      "metadata": {
        "id": "h9au-O4UFytc"
      }
    },
    {
      "cell_type": "markdown",
      "source": [
        "### Use a Module\n",
        "\n",
        "Now we can use the module we just created, by using the import statement"
      ],
      "metadata": {
        "id": "wkbMVJlgF5kQ"
      }
    },
    {
      "cell_type": "code",
      "source": [
        "import my_module"
      ],
      "metadata": {
        "id": "0MYL2lSTEaI4"
      },
      "execution_count": null,
      "outputs": []
    },
    {
      "cell_type": "code",
      "source": [
        "my_module.hello()"
      ],
      "metadata": {
        "colab": {
          "base_uri": "https://localhost:8080/"
        },
        "id": "JSbncWeLFnPl",
        "outputId": "39ea0492-159f-4d3b-db0f-37bd835a5c13"
      },
      "execution_count": null,
      "outputs": [
        {
          "output_type": "stream",
          "name": "stdout",
          "text": [
            "This is my module\n"
          ]
        }
      ]
    },
    {
      "cell_type": "code",
      "source": [
        "my_module.my_var"
      ],
      "metadata": {
        "colab": {
          "base_uri": "https://localhost:8080/"
        },
        "id": "o4Z87xLVFpid",
        "outputId": "db910369-169f-4579-caf8-7cbe3093a992"
      },
      "execution_count": null,
      "outputs": [
        {
          "output_type": "execute_result",
          "data": {
            "text/plain": [
              "16"
            ]
          },
          "metadata": {},
          "execution_count": 30
        }
      ]
    },
    {
      "cell_type": "markdown",
      "source": [
        "## Aliasing Module Name\n",
        "\n",
        "You can create an alias when you import a module, by using the as keyword"
      ],
      "metadata": {
        "id": "X0nAabqaF_ZF"
      }
    },
    {
      "cell_type": "code",
      "source": [
        "import my_module as my\n",
        "my.hello()"
      ],
      "metadata": {
        "colab": {
          "base_uri": "https://localhost:8080/"
        },
        "id": "SOQAKUc-FraK",
        "outputId": "f0138e19-836c-4055-9d34-bf7d3d2ccc8b"
      },
      "execution_count": null,
      "outputs": [
        {
          "output_type": "stream",
          "name": "stdout",
          "text": [
            "This is my module\n"
          ]
        }
      ]
    },
    {
      "cell_type": "markdown",
      "source": [
        "### Import From Module\n",
        "\n",
        "You can choose to import only parts from a module, by using the from keyword."
      ],
      "metadata": {
        "id": "21P11_woGLyh"
      }
    },
    {
      "cell_type": "code",
      "source": [
        "from os import path"
      ],
      "metadata": {
        "id": "1SY4JDMYFvLi"
      },
      "execution_count": null,
      "outputs": []
    },
    {
      "cell_type": "code",
      "source": [
        "path.join('home','user','Documents')"
      ],
      "metadata": {
        "colab": {
          "base_uri": "https://localhost:8080/",
          "height": 36
        },
        "id": "bU_OVDzpGbdM",
        "outputId": "a83d1eb7-0835-4c42-96ee-94e89f7cd6b1"
      },
      "execution_count": null,
      "outputs": [
        {
          "output_type": "execute_result",
          "data": {
            "application/vnd.google.colaboratory.intrinsic+json": {
              "type": "string"
            },
            "text/plain": [
              "'home/user/Documents'"
            ]
          },
          "metadata": {},
          "execution_count": 38
        }
      ]
    },
    {
      "cell_type": "markdown",
      "source": [
        "# Errors and Exceptions\n",
        "\n",
        "There are (at least) two distinguishable kinds of errors: \n",
        "*    Syntax errors\n",
        "*    Exceptions"
      ],
      "metadata": {
        "id": "_-JBZFLDekiX"
      }
    },
    {
      "cell_type": "markdown",
      "source": [
        "## Syntax Errors\n",
        "\n",
        "Syntax errors, also known as parsing errors, are perhaps the most common kind of complaint you get while you are still learning Python\n",
        "\n",
        "The parser repeats the offending line and displays a little ‘arrow’ pointing at the earliest point in the line where the error was detected. \n",
        "\n",
        "File name and line number are printed so you know where to look in case the input came from a script.\n",
        "\n",
        "The error is caused by (or at least detected at) the token preceding the arrow:"
      ],
      "metadata": {
        "id": "UsDhddH906cT"
      }
    },
    {
      "cell_type": "code",
      "source": [
        "if True print('Hi')"
      ],
      "metadata": {
        "colab": {
          "base_uri": "https://localhost:8080/",
          "height": 136
        },
        "id": "0u3eEFXo0oY4",
        "outputId": "52842f9f-1283-4f51-e13b-c3c085986adc"
      },
      "execution_count": 32,
      "outputs": [
        {
          "output_type": "error",
          "ename": "SyntaxError",
          "evalue": "ignored",
          "traceback": [
            "\u001b[0;36m  File \u001b[0;32m\"<ipython-input-32-63604184d793>\"\u001b[0;36m, line \u001b[0;32m1\u001b[0m\n\u001b[0;31m    if True print('Hi')\u001b[0m\n\u001b[0m                ^\u001b[0m\n\u001b[0;31mSyntaxError\u001b[0m\u001b[0;31m:\u001b[0m invalid syntax\n"
          ]
        }
      ]
    },
    {
      "cell_type": "markdown",
      "source": [
        "## Exceptions\n",
        "\n",
        "Even if a statement or expression is syntactically correct, it may cause an error when an attempt is made to execute it. \n",
        "\n",
        "Errors detected during execution are called exceptions and are not unconditionally fatal\n",
        "\n",
        "Most exceptions are not handled by programs, however, and result in error messages as shown below\n",
        "\n",
        "The string printed as the exception type is the name of the built-in exception that occurred. "
      ],
      "metadata": {
        "id": "joLRhOJL1RO_"
      }
    },
    {
      "cell_type": "code",
      "source": [
        "print(9/0)"
      ],
      "metadata": {
        "colab": {
          "base_uri": "https://localhost:8080/",
          "height": 174
        },
        "id": "mxnRhjRk1don",
        "outputId": "df1d94b3-739c-417a-8a3e-266215074eaa"
      },
      "execution_count": 33,
      "outputs": [
        {
          "output_type": "error",
          "ename": "ZeroDivisionError",
          "evalue": "ignored",
          "traceback": [
            "\u001b[0;31m---------------------------------------------------------------------------\u001b[0m",
            "\u001b[0;31mZeroDivisionError\u001b[0m                         Traceback (most recent call last)",
            "\u001b[0;32m<ipython-input-33-ba55ee0f3d4c>\u001b[0m in \u001b[0;36m<module>\u001b[0;34m()\u001b[0m\n\u001b[0;32m----> 1\u001b[0;31m \u001b[0mprint\u001b[0m\u001b[0;34m(\u001b[0m\u001b[0;36m9\u001b[0m\u001b[0;34m/\u001b[0m\u001b[0;36m0\u001b[0m\u001b[0;34m)\u001b[0m\u001b[0;34m\u001b[0m\u001b[0;34m\u001b[0m\u001b[0m\n\u001b[0m",
            "\u001b[0;31mZeroDivisionError\u001b[0m: division by zero"
          ]
        }
      ]
    },
    {
      "cell_type": "code",
      "source": [
        "a+3"
      ],
      "metadata": {
        "colab": {
          "base_uri": "https://localhost:8080/",
          "height": 174
        },
        "id": "J8uqS8fR1fmp",
        "outputId": "33c01c15-9fa6-43fe-cb23-096c77e06c93"
      },
      "execution_count": 34,
      "outputs": [
        {
          "output_type": "error",
          "ename": "NameError",
          "evalue": "ignored",
          "traceback": [
            "\u001b[0;31m---------------------------------------------------------------------------\u001b[0m",
            "\u001b[0;31mNameError\u001b[0m                                 Traceback (most recent call last)",
            "\u001b[0;32m<ipython-input-34-bf58c781999a>\u001b[0m in \u001b[0;36m<module>\u001b[0;34m()\u001b[0m\n\u001b[0;32m----> 1\u001b[0;31m \u001b[0ma\u001b[0m\u001b[0;34m+\u001b[0m\u001b[0;36m3\u001b[0m\u001b[0;34m\u001b[0m\u001b[0;34m\u001b[0m\u001b[0m\n\u001b[0m",
            "\u001b[0;31mNameError\u001b[0m: name 'a' is not defined"
          ]
        }
      ]
    },
    {
      "cell_type": "code",
      "source": [
        "if a>b:\n",
        "    print('hi')\n",
        "     print('bye')"
      ],
      "metadata": {
        "colab": {
          "base_uri": "https://localhost:8080/",
          "height": 136
        },
        "id": "1ilN-Zxq1jUD",
        "outputId": "a3b2509e-1ab1-4d54-8848-c6b00742a3ea"
      },
      "execution_count": 35,
      "outputs": [
        {
          "output_type": "error",
          "ename": "IndentationError",
          "evalue": "ignored",
          "traceback": [
            "\u001b[0;36m  File \u001b[0;32m\"<ipython-input-35-6562177bc8a7>\"\u001b[0;36m, line \u001b[0;32m3\u001b[0m\n\u001b[0;31m    print('bye')\u001b[0m\n\u001b[0m    ^\u001b[0m\n\u001b[0;31mIndentationError\u001b[0m\u001b[0;31m:\u001b[0m unexpected indent\n"
          ]
        }
      ]
    },
    {
      "cell_type": "markdown",
      "source": [
        "## Handling Exceptions\n",
        "\n",
        "The try statement works as follows.\n",
        "\n",
        "* First, the try clause (the statement(s) between the try and except keywords) is executed.\n",
        "* If no exception occurs, the except clause is skipped and execution of the try statement is finished.\n",
        "* If an exception occurs during execution of the try clause, the rest of the clause is skipped. Then, if its type matches the exception named after the except keyword, the except clause is executed, and then execution continues after the try/except block.\n",
        "* If an exception occurs which does not match the exception named in the except clause, it is passed on to outer try statements; if no handler is found, it is an unhandled exception and execution stops with a message"
      ],
      "metadata": {
        "id": "lb_zCTfL6Zq1"
      }
    },
    {
      "cell_type": "code",
      "source": [
        "try:\n",
        "    print(a/0)\n",
        "except Exception as e:\n",
        "    print(e)"
      ],
      "metadata": {
        "colab": {
          "base_uri": "https://localhost:8080/"
        },
        "id": "-EGkvMAW8mXk",
        "outputId": "e163738c-e4bc-43b6-de92-a68915acefcc"
      },
      "execution_count": 49,
      "outputs": [
        {
          "output_type": "stream",
          "name": "stdout",
          "text": [
            "name 'a' is not defined\n"
          ]
        }
      ]
    },
    {
      "cell_type": "code",
      "source": [
        "try:\n",
        "    a=10\n",
        "    print(a/0)\n",
        "except Exception as e:\n",
        "    print(e)"
      ],
      "metadata": {
        "colab": {
          "base_uri": "https://localhost:8080/"
        },
        "id": "DJylurgA8zO3",
        "outputId": "b0a66507-0928-45a1-aea9-7389aae56be6"
      },
      "execution_count": 51,
      "outputs": [
        {
          "output_type": "stream",
          "name": "stdout",
          "text": [
            "division by zero\n"
          ]
        }
      ]
    },
    {
      "cell_type": "code",
      "source": [
        "for i in range(5):\n",
        "    try:\n",
        "        print('99 divided by {} is {}'.format(i, 99/i))\n",
        "    except ZeroDivisionError:\n",
        "        print('Number can\\'t be divided by 0')"
      ],
      "metadata": {
        "colab": {
          "base_uri": "https://localhost:8080/"
        },
        "id": "cDmn211q6tuc",
        "outputId": "fcdf6197-f278-4d98-8c22-91a977b6c3b3"
      },
      "execution_count": 37,
      "outputs": [
        {
          "output_type": "stream",
          "name": "stdout",
          "text": [
            "Number can't be divided by 0\n",
            "99 divided by 1 is 99.0\n",
            "99 divided by 2 is 49.5\n",
            "99 divided by 3 is 33.0\n",
            "99 divided by 4 is 24.75\n"
          ]
        }
      ]
    },
    {
      "cell_type": "markdown",
      "source": [
        "A try statement may have more than one except clause, to specify handlers for different exceptions. \n",
        "\n",
        "At most one handler will be executed. \n",
        "\n",
        "Handlers only handle exceptions that occur in the corresponding try clause, not in other handlers of the same try statement."
      ],
      "metadata": {
        "id": "J2Gj8uno7dQp"
      }
    },
    {
      "cell_type": "code",
      "source": [
        "for i in range(5,-1,-1):\n",
        "    try:\n",
        "        print('99 divided by {} is {}'.format(i, num/i))\n",
        "    except ZeroDivisionError:\n",
        "        print('Number can\\'t be divided by 0')\n",
        "    except NameError:\n",
        "        print('define variable num')\n",
        "        num=99"
      ],
      "metadata": {
        "colab": {
          "base_uri": "https://localhost:8080/"
        },
        "id": "WJsfcGKy7c5R",
        "outputId": "8515a124-0d6f-4fd4-b416-578f5c50d44d"
      },
      "execution_count": 45,
      "outputs": [
        {
          "output_type": "stream",
          "name": "stdout",
          "text": [
            "define variable num\n",
            "99 divided by 4 is 24.75\n",
            "99 divided by 3 is 33.0\n",
            "99 divided by 2 is 49.5\n",
            "99 divided by 1 is 99.0\n",
            "Number can't be divided by 0\n"
          ]
        }
      ]
    },
    {
      "cell_type": "markdown",
      "source": [
        " An except clause may name multiple exceptions as a parenthesized tuple, for example:\n",
        "\n",
        "    except (RuntimeError, TypeError, NameError):\n",
        "        pass\n",
        "\n"
      ],
      "metadata": {
        "id": "K2JryguW8Ij1"
      }
    },
    {
      "cell_type": "markdown",
      "source": [
        "## Raising exception\n",
        "\n",
        "The `raise` statement allows the programmer to force a specified exception to occur. "
      ],
      "metadata": {
        "id": "z7z0ZLkOFglM"
      }
    },
    {
      "cell_type": "code",
      "source": [
        "raise NameError('HiThere')"
      ],
      "metadata": {
        "colab": {
          "base_uri": "https://localhost:8080/",
          "height": 174
        },
        "id": "lp1pIEp_Ej05",
        "outputId": "a8c3e897-2c3c-456b-bf7d-e62ef857ed4a"
      },
      "execution_count": 53,
      "outputs": [
        {
          "output_type": "error",
          "ename": "NameError",
          "evalue": "ignored",
          "traceback": [
            "\u001b[0;31m---------------------------------------------------------------------------\u001b[0m",
            "\u001b[0;31mNameError\u001b[0m                                 Traceback (most recent call last)",
            "\u001b[0;32m<ipython-input-53-72c183edb298>\u001b[0m in \u001b[0;36m<module>\u001b[0;34m()\u001b[0m\n\u001b[0;32m----> 1\u001b[0;31m \u001b[0;32mraise\u001b[0m \u001b[0mNameError\u001b[0m\u001b[0;34m(\u001b[0m\u001b[0;34m'HiThere'\u001b[0m\u001b[0;34m)\u001b[0m\u001b[0;34m\u001b[0m\u001b[0;34m\u001b[0m\u001b[0m\n\u001b[0m",
            "\u001b[0;31mNameError\u001b[0m: HiThere"
          ]
        }
      ]
    },
    {
      "cell_type": "code",
      "source": [
        "raise ValueError "
      ],
      "metadata": {
        "colab": {
          "base_uri": "https://localhost:8080/",
          "height": 174
        },
        "id": "y6kmQTS2F1Xl",
        "outputId": "f15385af-b09c-4416-9cbd-7fc4ef78083c"
      },
      "execution_count": 54,
      "outputs": [
        {
          "output_type": "error",
          "ename": "ValueError",
          "evalue": "ignored",
          "traceback": [
            "\u001b[0;31m---------------------------------------------------------------------------\u001b[0m",
            "\u001b[0;31mValueError\u001b[0m                                Traceback (most recent call last)",
            "\u001b[0;32m<ipython-input-54-f1de81a366dd>\u001b[0m in \u001b[0;36m<module>\u001b[0;34m()\u001b[0m\n\u001b[0;32m----> 1\u001b[0;31m \u001b[0;32mraise\u001b[0m \u001b[0mValueError\u001b[0m\u001b[0;34m\u001b[0m\u001b[0;34m\u001b[0m\u001b[0m\n\u001b[0m",
            "\u001b[0;31mValueError\u001b[0m: "
          ]
        }
      ]
    },
    {
      "cell_type": "markdown",
      "source": [
        "If you need to determine whether an exception was raised but don’t intend to handle it, a simpler form of the raise statement allows you to **re-raise** the exception"
      ],
      "metadata": {
        "id": "wm0CpkQXF_QJ"
      }
    },
    {
      "cell_type": "code",
      "source": [
        "try:\n",
        "    raise NameError('HiThere')\n",
        "except NameError:\n",
        "    print('An exception flew by!')\n",
        "    raise"
      ],
      "metadata": {
        "colab": {
          "base_uri": "https://localhost:8080/",
          "height": 267
        },
        "id": "XM7AalPhGAEE",
        "outputId": "c646dd9e-957b-4808-8c21-9ee7db71972b"
      },
      "execution_count": 57,
      "outputs": [
        {
          "output_type": "stream",
          "name": "stdout",
          "text": [
            "An exception flew by!\n"
          ]
        },
        {
          "output_type": "error",
          "ename": "NameError",
          "evalue": "ignored",
          "traceback": [
            "\u001b[0;31m---------------------------------------------------------------------------\u001b[0m",
            "\u001b[0;31mNameError\u001b[0m                                 Traceback (most recent call last)",
            "\u001b[0;32m<ipython-input-57-bf6ef4926f8c>\u001b[0m in \u001b[0;36m<module>\u001b[0;34m()\u001b[0m\n\u001b[1;32m      1\u001b[0m \u001b[0;32mtry\u001b[0m\u001b[0;34m:\u001b[0m\u001b[0;34m\u001b[0m\u001b[0;34m\u001b[0m\u001b[0m\n\u001b[0;32m----> 2\u001b[0;31m     \u001b[0;32mraise\u001b[0m \u001b[0mNameError\u001b[0m\u001b[0;34m(\u001b[0m\u001b[0;34m'HiThere'\u001b[0m\u001b[0;34m)\u001b[0m\u001b[0;34m\u001b[0m\u001b[0;34m\u001b[0m\u001b[0m\n\u001b[0m\u001b[1;32m      3\u001b[0m \u001b[0;32mexcept\u001b[0m \u001b[0mNameError\u001b[0m\u001b[0;34m:\u001b[0m\u001b[0;34m\u001b[0m\u001b[0;34m\u001b[0m\u001b[0m\n\u001b[1;32m      4\u001b[0m     \u001b[0mprint\u001b[0m\u001b[0;34m(\u001b[0m\u001b[0;34m'An exception flew by!'\u001b[0m\u001b[0;34m)\u001b[0m\u001b[0;34m\u001b[0m\u001b[0;34m\u001b[0m\u001b[0m\n\u001b[1;32m      5\u001b[0m     \u001b[0;32mraise\u001b[0m\u001b[0;34m\u001b[0m\u001b[0;34m\u001b[0m\u001b[0m\n",
            "\u001b[0;31mNameError\u001b[0m: HiThere"
          ]
        }
      ]
    },
    {
      "cell_type": "markdown",
      "source": [
        "## User-defined Exceptions\n",
        "\n",
        "Programs may name their own exceptions by creating a new exception class.\n",
        "\n",
        "Exceptions should typically be derived from the Exception class, either directly or indirectly."
      ],
      "metadata": {
        "id": "wHXr8jykGzv1"
      }
    },
    {
      "cell_type": "code",
      "source": [
        "class MyError(Exception):\n",
        "    def __init__(self, value):\n",
        "        self.value = value\n",
        " \n",
        "    def __str__(self):  #__str__ is to print() the value\n",
        "        return(repr(self.value))\n",
        "\n",
        "try:\n",
        "    raise(MyError(5))\n",
        "except MyError as error:\n",
        "    print('A New Exception occured: ',error.value)"
      ],
      "metadata": {
        "colab": {
          "base_uri": "https://localhost:8080/"
        },
        "id": "1T3ZquMOGzVQ",
        "outputId": "fc802c7e-753b-4355-d3e3-fab8ecda4ed1"
      },
      "execution_count": 61,
      "outputs": [
        {
          "output_type": "stream",
          "name": "stdout",
          "text": [
            "A New Exception occured:  5\n"
          ]
        }
      ]
    },
    {
      "cell_type": "markdown",
      "source": [
        "# File Handling\n",
        "\n",
        "Python has several functions for creating, reading, updating, and deleting files"
      ],
      "metadata": {
        "id": "HIzauCtIW4rc"
      }
    },
    {
      "cell_type": "markdown",
      "source": [
        "## Opening a file\n",
        "\n",
        "Before performing any operation on the file like read or write, first we have to open that file. \n",
        "\n",
        "`open()` returns a file object, and is most commonly used with two arguments: `open(filename, mode)`\n",
        "\n",
        "There are four different methods (modes) for opening a file:\n",
        "\n",
        "    \"r\" - Read - (Default value) Opens a file for reading, error if the file does not exist\n",
        "    \"a\" - Append - Opens a file for appending, creates the file if it does not exist\n",
        "    \"w\" - Write - Opens a file for writing, creates the file if it does not exist\n",
        "    \"x\" - Create - Creates the specified file, returns an error if the file exists\n",
        "    \"r+\" -  To read and write data into the file. The previous data in the file will not be deleted.\n",
        "    \"w+\" - To write and read data. It will override existing data.\n",
        "    \"a+\" - To append and read data from the file. It won’t override existing data\n"
      ],
      "metadata": {
        "id": "ELFE9rgxpKJe"
      }
    },
    {
      "cell_type": "code",
      "source": [
        "f = open('new.txt')"
      ],
      "metadata": {
        "id": "PORmuKuyqxyx"
      },
      "execution_count": 11,
      "outputs": []
    },
    {
      "cell_type": "code",
      "source": [
        "f2 = open('another_file.txt', 'x')"
      ],
      "metadata": {
        "id": "buh__SxGrBUP"
      },
      "execution_count": null,
      "outputs": []
    },
    {
      "cell_type": "markdown",
      "source": [
        "## Reading a file\n",
        "\n",
        "To read a file’s contents, call `f.read(size)`, which reads some quantity of data and returns it as a string (in text mode) or bytes object (in binary mode). \n",
        "\n",
        "`size` is an optional numeric argument. When size is omitted or negative, the entire contents of the file will be read and returned;"
      ],
      "metadata": {
        "id": "ZJEYzKqGrncL"
      }
    },
    {
      "cell_type": "code",
      "source": [
        "f.read()"
      ],
      "metadata": {
        "colab": {
          "base_uri": "https://localhost:8080/",
          "height": 36
        },
        "id": "NU1q0YPCrGtN",
        "outputId": "13293793-454a-43a0-a73b-e23369bc0e32"
      },
      "execution_count": 12,
      "outputs": [
        {
          "output_type": "execute_result",
          "data": {
            "application/vnd.google.colaboratory.intrinsic+json": {
              "type": "string"
            },
            "text/plain": [
              "'some text\\nsecond line\\nthird line'"
            ]
          },
          "metadata": {},
          "execution_count": 12
        }
      ]
    },
    {
      "cell_type": "markdown",
      "source": [
        "You can return one line by using the `readline()` method\n",
        "\n",
        "`f.readline()` reads a single line from the file"
      ],
      "metadata": {
        "id": "0eRjIilhseQU"
      }
    },
    {
      "cell_type": "code",
      "source": [
        "f = open('new.txt', 'r')\n",
        "f.readline()"
      ],
      "metadata": {
        "colab": {
          "base_uri": "https://localhost:8080/",
          "height": 36
        },
        "id": "Fy2_gQnNsHz3",
        "outputId": "b5572189-2bfa-4ca6-ef14-2ead40ea759f"
      },
      "execution_count": 20,
      "outputs": [
        {
          "output_type": "execute_result",
          "data": {
            "application/vnd.google.colaboratory.intrinsic+json": {
              "type": "string"
            },
            "text/plain": [
              "'some text\\n'"
            ]
          },
          "metadata": {},
          "execution_count": 20
        }
      ]
    },
    {
      "cell_type": "code",
      "source": [
        "f.readline()"
      ],
      "metadata": {
        "colab": {
          "base_uri": "https://localhost:8080/",
          "height": 36
        },
        "id": "zA2sTefIsqUe",
        "outputId": "de037371-9a43-44d6-9c9d-f03d2486413f"
      },
      "execution_count": 18,
      "outputs": [
        {
          "output_type": "execute_result",
          "data": {
            "application/vnd.google.colaboratory.intrinsic+json": {
              "type": "string"
            },
            "text/plain": [
              "'second line\\n'"
            ]
          },
          "metadata": {},
          "execution_count": 18
        }
      ]
    },
    {
      "cell_type": "markdown",
      "source": [
        "For reading lines from a file, you can loop over the file object. This is memory efficient, fast, and leads to simple code:"
      ],
      "metadata": {
        "id": "bIg4o7Jzs7ur"
      }
    },
    {
      "cell_type": "code",
      "source": [
        "f = open('new.txt', 'r')\n",
        "for line in f:\n",
        "    print(line, end='')"
      ],
      "metadata": {
        "colab": {
          "base_uri": "https://localhost:8080/"
        },
        "id": "epZ-Y_Cusz4S",
        "outputId": "80cf53cb-33e8-449f-fa29-d4767ca3d0ae"
      },
      "execution_count": 22,
      "outputs": [
        {
          "output_type": "stream",
          "name": "stdout",
          "text": [
            "some text\n",
            "second line\n",
            "third line"
          ]
        }
      ]
    },
    {
      "cell_type": "markdown",
      "source": [
        "## Writing to a file\n",
        "\n",
        "`f.write(string)` writes the contents of string to the file, returning the number of characters written.\n",
        "\n",
        "It will override existing data"
      ],
      "metadata": {
        "id": "v9y16HZ3tTEj"
      }
    },
    {
      "cell_type": "code",
      "source": [
        "f = open('new.txt', 'w')\n",
        "f.write('new line written')\n",
        "f.close()"
      ],
      "metadata": {
        "id": "iHHMhLLfs_x4"
      },
      "execution_count": 26,
      "outputs": []
    },
    {
      "cell_type": "markdown",
      "source": [
        "## Appending to a file"
      ],
      "metadata": {
        "id": "R91fCjXPuCFl"
      }
    },
    {
      "cell_type": "code",
      "source": [
        "f = open('new.txt', 'a')\n",
        "f.write('some line written')\n",
        "f.close()"
      ],
      "metadata": {
        "id": "ei7gXSzRtmHk"
      },
      "execution_count": 27,
      "outputs": []
    },
    {
      "cell_type": "code",
      "source": [
        "f = open('new.txt', 'a')\n",
        "f.write('another line\\n')\n",
        "f.write('one more line\\n')\n",
        "f.close()"
      ],
      "metadata": {
        "id": "btnhGBmxuHJK"
      },
      "execution_count": 28,
      "outputs": []
    },
    {
      "cell_type": "markdown",
      "source": [
        "## Using with statement\n",
        "\n",
        "It is good practice to use the with keyword when dealing with file objects. \n",
        "\n",
        "The advantage is that the file is properly closed after its suite finishes, even if an exception is raised at some point.\n",
        "\n",
        "It is designed to provide much cleaner syntax and exception handling when you are working with code.\n",
        "\n",
        "    with EXPRESSION as TARGET:\n",
        "        SUITE"
      ],
      "metadata": {
        "id": "97IG43rWzm9L"
      }
    },
    {
      "cell_type": "code",
      "source": [
        "with open('another_file.txt', 'w+') as f:\n",
        "    f.write('jst wrote this line')"
      ],
      "metadata": {
        "id": "dcYR7HGHwOEZ"
      },
      "execution_count": 29,
      "outputs": []
    }
  ]
}