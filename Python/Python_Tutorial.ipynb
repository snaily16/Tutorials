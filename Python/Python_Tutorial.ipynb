{
  "nbformat": 4,
  "nbformat_minor": 0,
  "metadata": {
    "colab": {
      "name": "Python-Tutorial.ipynb",
      "provenance": [],
      "toc_visible": true,
      "authorship_tag": "ABX9TyNiuHL5SYtl4t/L4pkjw3V3",
      "include_colab_link": true
    },
    "kernelspec": {
      "name": "python3",
      "display_name": "Python 3"
    },
    "language_info": {
      "name": "python"
    }
  },
  "cells": [
    {
      "cell_type": "markdown",
      "metadata": {
        "id": "view-in-github",
        "colab_type": "text"
      },
      "source": [
        "<a href=\"https://colab.research.google.com/github/snaily16/Tutorials/blob/master/Python_Tutorial.ipynb\" target=\"_parent\"><img src=\"https://colab.research.google.com/assets/colab-badge.svg\" alt=\"Open In Colab\"/></a>"
      ]
    },
    {
      "cell_type": "markdown",
      "source": [
        "# Python Basics"
      ],
      "metadata": {
        "id": "J2qVUPughuOG"
      }
    },
    {
      "cell_type": "markdown",
      "source": [
        "\n",
        "# About Python\n",
        "\n",
        "*   An interpreted high-level general-purpose programming language\n",
        "*   Easy to use syntax\n",
        "*   Cross-platform language\n",
        "*   Used for web development, data science, software development, etc."
      ],
      "metadata": {
        "id": "3xvXHsSUsO1D"
      }
    },
    {
      "cell_type": "markdown",
      "source": [
        "# Simple Helloworld program"
      ],
      "metadata": {
        "id": "nCZuWE8bxN-T"
      }
    },
    {
      "cell_type": "code",
      "execution_count": 1,
      "metadata": {
        "colab": {
          "base_uri": "https://localhost:8080/"
        },
        "id": "a0ceVS0ehf2b",
        "outputId": "b3e0bc3e-1b1f-46bf-a69e-d505a154c6d4"
      },
      "outputs": [
        {
          "output_type": "stream",
          "name": "stdout",
          "text": [
            "Hello World!!!\n"
          ]
        }
      ],
      "source": [
        "print('Hello World!!!')"
      ]
    },
    {
      "cell_type": "markdown",
      "source": [
        "# Installation\n",
        "\n",
        "* Python comes pre-installed in Linux platforms and Mac OS, you can check it by typing - ``` python --version ```\n",
        "\n",
        "\n",
        "\n",
        "*   **For Windows** \n",
        "\n",
        "\n",
        "> 1.   Download the [latest version from here](https://www.python.org/downloads/)\n",
        "2.   Run the installer file.\n",
        "3.   During the install process, check **Add Python to environment variables.** This will add Python to environment variables, and you can run Python from any part of the computer.\n",
        "4.   Once you finish the installation process, you can run Python.\n",
        "\n",
        "\n",
        "*   **To install [Jupyter notebook](https://jupyter.org/install)**\n",
        "\n",
        "> 1.   Open cmd and type - ```pip install notebook```\n",
        "2. To start the notebook - type ```jupyter notebook ``` or ```python -m notebook ```\n"
      ],
      "metadata": {
        "id": "QtlIdnz1saIW"
      }
    },
    {
      "cell_type": "markdown",
      "source": [
        "## Run Python\n",
        "So now that python is installed we can run it in 3 ways -\n",
        "1. Python Command Line \n",
        "  * To run or test a short code without writing in a file we can use this command line python interpreter tool. \n",
        " * Open CMD and type ```python```\n",
        "\n",
        "2. Python Script\n",
        "  * To run a python code written in a file, save the file by **.py** extension\n",
        "  * Run it in CMD - ``` python filename.py```\n",
        "\n",
        "3. Jupyter Notebook \n",
        "  * Start jupyter notebook - ```jupyter notebook ``` or ```python -m notebook ```\n",
        "  * You should see the notebook open in your browser.\n",
        "\n"
      ],
      "metadata": {
        "id": "tEibfB8rs-QB"
      }
    },
    {
      "cell_type": "markdown",
      "source": [
        "# Python Syntax"
      ],
      "metadata": {
        "id": "U_68whIFxph3"
      }
    },
    {
      "cell_type": "code",
      "source": [
        "print(\"any message\")\n",
        "print('hello')"
      ],
      "metadata": {
        "colab": {
          "base_uri": "https://localhost:8080/"
        },
        "id": "voq7_UT2DaQ1",
        "outputId": "364b23d8-a73c-4d75-a936-5712406c89cf"
      },
      "execution_count": 2,
      "outputs": [
        {
          "output_type": "stream",
          "name": "stdout",
          "text": [
            "any message\n",
            "hello\n"
          ]
        }
      ]
    },
    {
      "cell_type": "code",
      "source": [
        "print('hi', end=', ')\n",
        "print('hello')"
      ],
      "metadata": {
        "colab": {
          "base_uri": "https://localhost:8080/"
        },
        "id": "imGDiRt3Deqs",
        "outputId": "d77bb644-9394-4f9b-f894-a7b843d36eee"
      },
      "execution_count": 4,
      "outputs": [
        {
          "output_type": "stream",
          "name": "stdout",
          "text": [
            "hi, hello\n"
          ]
        }
      ]
    },
    {
      "cell_type": "markdown",
      "source": [
        "## Comments in Python"
      ],
      "metadata": {
        "id": "AURhvOZpyy19"
      }
    },
    {
      "cell_type": "code",
      "source": [
        "# This is single line comment\n",
        "\n",
        "# Python don't \n",
        "# have seperate\n",
        "# syntax for \n",
        "# multiline comments"
      ],
      "metadata": {
        "id": "j6RYG1j-y1Tv"
      },
      "execution_count": 5,
      "outputs": []
    },
    {
      "cell_type": "code",
      "source": [
        "'''\n",
        "a\n",
        "b\n",
        "c\n",
        "'''"
      ],
      "metadata": {
        "colab": {
          "base_uri": "https://localhost:8080/",
          "height": 36
        },
        "id": "fZESwNEWG0rs",
        "outputId": "d955fc27-bffb-463f-e57d-53f22284c497"
      },
      "execution_count": 6,
      "outputs": [
        {
          "output_type": "execute_result",
          "data": {
            "application/vnd.google.colaboratory.intrinsic+json": {
              "type": "string"
            },
            "text/plain": [
              "'\\na\\nb\\nc\\n'"
            ]
          },
          "metadata": {},
          "execution_count": 6
        }
      ]
    },
    {
      "cell_type": "markdown",
      "source": [
        "## Assigning Variables\n",
        "Python has no command for declaring a variable.\n",
        "\n",
        "A variable is created the moment you first assign a value to it."
      ],
      "metadata": {
        "id": "Ja0av68fyAi-"
      }
    },
    {
      "cell_type": "code",
      "source": [
        "a = 400\n",
        "b = 'Python' # String variables can be declared either by using single or double quotes\n",
        "c = 3 + 4.0 + 5\n",
        "d = 3+2j\n",
        "print(a, b, c, d)"
      ],
      "metadata": {
        "colab": {
          "base_uri": "https://localhost:8080/"
        },
        "id": "h2w4w4jexTFj",
        "outputId": "8bb90251-958f-4880-ee1e-23d201f2c25e"
      },
      "execution_count": 7,
      "outputs": [
        {
          "output_type": "stream",
          "name": "stdout",
          "text": [
            "400 Python 12.0 (3+2j)\n"
          ]
        }
      ]
    },
    {
      "cell_type": "markdown",
      "source": [
        "### Assigning values to multiple variables in single line"
      ],
      "metadata": {
        "id": "5CUxuj7J4Xmh"
      }
    },
    {
      "cell_type": "code",
      "source": [
        "x,y,z = 3, 4.0, 'some string' # multiple values to multiple variables"
      ],
      "metadata": {
        "id": "LYfpIubSHa_g"
      },
      "execution_count": 8,
      "outputs": []
    },
    {
      "cell_type": "code",
      "source": [
        "print(x, y, z)"
      ],
      "metadata": {
        "colab": {
          "base_uri": "https://localhost:8080/"
        },
        "id": "Po9IkKxnHexr",
        "outputId": "429e9659-b7a8-4f0e-bd45-8102f5027646"
      },
      "execution_count": 9,
      "outputs": [
        {
          "output_type": "stream",
          "name": "stdout",
          "text": [
            "3 4.0 some string\n"
          ]
        }
      ]
    },
    {
      "cell_type": "code",
      "source": [
        "m = n = \"same\"    # same value to multiple variables\n",
        "print(x,y,z)\n",
        "print(m,n)"
      ],
      "metadata": {
        "colab": {
          "base_uri": "https://localhost:8080/"
        },
        "id": "ixTlnPLl4bac",
        "outputId": "33457644-f5dd-49aa-9156-5c0f7508b3f5"
      },
      "execution_count": 10,
      "outputs": [
        {
          "output_type": "stream",
          "name": "stdout",
          "text": [
            "3 4.0 some string\n",
            "same same\n"
          ]
        }
      ]
    },
    {
      "cell_type": "markdown",
      "source": [
        "You can see here that each print statement automatically creates a new line."
      ],
      "metadata": {
        "id": "cnvft-Rx0n8d"
      }
    },
    {
      "cell_type": "markdown",
      "source": [
        "### Get Variable Type\n",
        "\n",
        "You can get the data type of a variable with the type() function."
      ],
      "metadata": {
        "id": "2wV1pDPiyj6Z"
      }
    },
    {
      "cell_type": "code",
      "source": [
        "a = 400\n",
        "b = 'Python' # String variables can be declared either by using single or double quotes\n",
        "c = 3 + 4.0 + 5\n",
        "d = 3+2j\n",
        "print(a, b, c, d)"
      ],
      "metadata": {
        "colab": {
          "base_uri": "https://localhost:8080/"
        },
        "id": "_evSZKB3HubU",
        "outputId": "a2fa3fe1-a73e-4d96-b5e3-4530a8965d5e"
      },
      "execution_count": 11,
      "outputs": [
        {
          "output_type": "stream",
          "name": "stdout",
          "text": [
            "400 Python 12.0 (3+2j)\n"
          ]
        }
      ]
    },
    {
      "cell_type": "code",
      "source": [
        "print(type(a))\n",
        "print(type(b))\n",
        "print(type(c))\n",
        "print(type(d))"
      ],
      "metadata": {
        "colab": {
          "base_uri": "https://localhost:8080/"
        },
        "id": "TnnJwsf-yNgM",
        "outputId": "7c6e2f06-b806-4c4b-c824-36d7c948c8f4"
      },
      "execution_count": 12,
      "outputs": [
        {
          "output_type": "stream",
          "name": "stdout",
          "text": [
            "<class 'int'>\n",
            "<class 'str'>\n",
            "<class 'float'>\n",
            "<class 'complex'>\n"
          ]
        }
      ]
    },
    {
      "cell_type": "markdown",
      "source": [
        "### Casting\n",
        "If you want to specify the data type of a variable, this can be done with casting."
      ],
      "metadata": {
        "id": "dn0myeDi0_Dw"
      }
    },
    {
      "cell_type": "code",
      "source": [
        "num = 3\n",
        "str_num = str(num)\n",
        "float_num = float(num)\n",
        "\n",
        "print(num, type(num))\n",
        "print(str_num, type(str_num))\n",
        "print(float_num, type(float_num))"
      ],
      "metadata": {
        "colab": {
          "base_uri": "https://localhost:8080/"
        },
        "id": "9jjkHQ6t0WD5",
        "outputId": "66773e0e-13be-44fc-ed43-26c487112b39"
      },
      "execution_count": 13,
      "outputs": [
        {
          "output_type": "stream",
          "name": "stdout",
          "text": [
            "3 <class 'int'>\n",
            "3 <class 'str'>\n",
            "3.0 <class 'float'>\n"
          ]
        }
      ]
    },
    {
      "cell_type": "markdown",
      "source": [
        "## Indentation\n",
        "\n",
        "Indentation refers to the spaces at the beginning of a code line. It is very important in Python. \n",
        "\n",
        "It uses indentation to indicate a block of code."
      ],
      "metadata": {
        "id": "9AvjSJaN19op"
      }
    },
    {
      "cell_type": "code",
      "source": [
        "a=10\n",
        "if a>5:\n",
        "  print('Inside 1st if statement')\n",
        "\n",
        "if a>15:\n",
        "  print('Inside 2nd if statement')\n",
        "\n",
        "print('Outside the if statement')"
      ],
      "metadata": {
        "colab": {
          "base_uri": "https://localhost:8080/"
        },
        "id": "5-BkXNmK1NCq",
        "outputId": "bb708e74-4dac-46d6-fa37-7617899f9e30"
      },
      "execution_count": 14,
      "outputs": [
        {
          "output_type": "stream",
          "name": "stdout",
          "text": [
            "Inside 1st if statement\n",
            "Outside the if statement\n"
          ]
        }
      ]
    },
    {
      "cell_type": "code",
      "source": [
        "if a>5:\n",
        "    print('a is greater than 5')"
      ],
      "metadata": {
        "colab": {
          "base_uri": "https://localhost:8080/"
        },
        "id": "0J4-pvvn2mjt",
        "outputId": "47839b4a-a2ea-43de-8171-6ee60de84bc8"
      },
      "execution_count": 16,
      "outputs": [
        {
          "output_type": "stream",
          "name": "stdout",
          "text": [
            "a is greater than 5\n"
          ]
        }
      ]
    },
    {
      "cell_type": "code",
      "source": [
        "if a>5:\n",
        "  print('a is greater than 5')\n",
        "        print('Extra indentation')"
      ],
      "metadata": {
        "colab": {
          "base_uri": "https://localhost:8080/",
          "height": 136
        },
        "id": "5e9G1x_-21Gz",
        "outputId": "7dcb7b0a-eb3f-4a55-96ee-504cbcc8332f"
      },
      "execution_count": 17,
      "outputs": [
        {
          "output_type": "error",
          "ename": "IndentationError",
          "evalue": "ignored",
          "traceback": [
            "\u001b[0;36m  File \u001b[0;32m\"<ipython-input-17-d4ba3160c6d4>\"\u001b[0;36m, line \u001b[0;32m3\u001b[0m\n\u001b[0;31m    print('Extra indentation')\u001b[0m\n\u001b[0m    ^\u001b[0m\n\u001b[0;31mIndentationError\u001b[0m\u001b[0;31m:\u001b[0m unexpected indent\n"
          ]
        }
      ]
    },
    {
      "cell_type": "markdown",
      "source": [
        "## User Inputs\n",
        "Syntax: ```input(\"prompt_msg\")```\n",
        "where prompt_msg is the string we wish to display on the screen. It is optional"
      ],
      "metadata": {
        "id": "4AEe1olZi5wE"
      }
    },
    {
      "cell_type": "code",
      "source": [
        "x=input()"
      ],
      "metadata": {
        "colab": {
          "base_uri": "https://localhost:8080/"
        },
        "id": "hHwNghQVJMrv",
        "outputId": "e53fd487-720e-40d1-e411-b754fcb943f6"
      },
      "execution_count": 18,
      "outputs": [
        {
          "name": "stdout",
          "output_type": "stream",
          "text": [
            "400\n"
          ]
        }
      ]
    },
    {
      "cell_type": "code",
      "source": [
        "x"
      ],
      "metadata": {
        "colab": {
          "base_uri": "https://localhost:8080/",
          "height": 36
        },
        "id": "fSU3u1bMJSPq",
        "outputId": "9472f3e5-3d17-4024-a09e-bf5d75dd3405"
      },
      "execution_count": 19,
      "outputs": [
        {
          "output_type": "execute_result",
          "data": {
            "application/vnd.google.colaboratory.intrinsic+json": {
              "type": "string"
            },
            "text/plain": [
              "'400'"
            ]
          },
          "metadata": {},
          "execution_count": 19
        }
      ]
    },
    {
      "cell_type": "code",
      "source": [
        "a = input('Enter a number: ')\n",
        "print(a, type(a))\n",
        "b = int(input('Enter a number: '))\n",
        "print(b, type(b))"
      ],
      "metadata": {
        "colab": {
          "base_uri": "https://localhost:8080/"
        },
        "id": "AoeT96lijmzo",
        "outputId": "9f77de3c-1256-4763-ef27-b514d1c805c8"
      },
      "execution_count": 20,
      "outputs": [
        {
          "output_type": "stream",
          "name": "stdout",
          "text": [
            "Enter a number: 199\n",
            "199 <class 'str'>\n",
            "Enter a number: 388\n",
            "388 <class 'int'>\n"
          ]
        }
      ]
    },
    {
      "cell_type": "markdown",
      "source": [
        "# Operators"
      ],
      "metadata": {
        "id": "OMNg8YsWmf6C"
      }
    },
    {
      "cell_type": "markdown",
      "source": [
        "### Arithmetic Operators\n",
        "To perform common mathematical operations:\n",
        "\n",
        "    + \tAddition \tx + y \t\n",
        "    - \tSubtraction \tx - y \t\n",
        "    * \tMultiplication \tx * y \t\n",
        "    / \tDivision \tx / y \t\n",
        "    % \tModulus \tx % y \t\n",
        "    ** \tExponentiation \tx ** y \t\n",
        "    // \tFloor division \tx // y"
      ],
      "metadata": {
        "id": "sCjrw7OFmhlu"
      }
    },
    {
      "cell_type": "code",
      "source": [
        "399/4"
      ],
      "metadata": {
        "colab": {
          "base_uri": "https://localhost:8080/"
        },
        "id": "2KSH_idUmvg6",
        "outputId": "5160e7ab-b79f-497d-c790-26df897bde07"
      },
      "execution_count": 22,
      "outputs": [
        {
          "output_type": "execute_result",
          "data": {
            "text/plain": [
              "99.75"
            ]
          },
          "metadata": {},
          "execution_count": 22
        }
      ]
    },
    {
      "cell_type": "code",
      "source": [
        "399//4 "
      ],
      "metadata": {
        "colab": {
          "base_uri": "https://localhost:8080/"
        },
        "id": "PFHsF6b3nBB3",
        "outputId": "b5c6ac61-1590-464a-e462-55aaf44f7526"
      },
      "execution_count": 23,
      "outputs": [
        {
          "output_type": "execute_result",
          "data": {
            "text/plain": [
              "99"
            ]
          },
          "metadata": {},
          "execution_count": 23
        }
      ]
    },
    {
      "cell_type": "code",
      "source": [
        "40%3"
      ],
      "metadata": {
        "colab": {
          "base_uri": "https://localhost:8080/"
        },
        "id": "qBNRca8-nDYU",
        "outputId": "3563a8c8-972b-4dd9-846a-141a821209c4"
      },
      "execution_count": 24,
      "outputs": [
        {
          "output_type": "execute_result",
          "data": {
            "text/plain": [
              "1"
            ]
          },
          "metadata": {},
          "execution_count": 24
        }
      ]
    },
    {
      "cell_type": "code",
      "source": [
        "2**10   # prints 2^10"
      ],
      "metadata": {
        "colab": {
          "base_uri": "https://localhost:8080/"
        },
        "id": "r02NM42zm5eg",
        "outputId": "66f8f3b7-e914-4a82-bdec-73c6322aa028"
      },
      "execution_count": 21,
      "outputs": [
        {
          "output_type": "execute_result",
          "data": {
            "text/plain": [
              "1024"
            ]
          },
          "metadata": {},
          "execution_count": 21
        }
      ]
    },
    {
      "cell_type": "markdown",
      "source": [
        "\n",
        "### Comparison Operators\n",
        "Python supports the usual comparison operators as:\n",
        "\n",
        "    Equals: a == b\n",
        "    Not Equals: a != b\n",
        "    Less than: a < b\n",
        "    Less than or equal to: a <= b\n",
        "    Greater than: a > b\n",
        "    Greater than or equal to: a >= b\n",
        "\n"
      ],
      "metadata": {
        "id": "e1YV-JPG3ue5"
      }
    },
    {
      "cell_type": "code",
      "source": [
        "a=10 \n",
        "b=30\n",
        "a==b"
      ],
      "metadata": {
        "colab": {
          "base_uri": "https://localhost:8080/"
        },
        "id": "LbCUHIsBmJWE",
        "outputId": "8975df0a-548e-4646-cb40-45d5f5b0fd36"
      },
      "execution_count": 25,
      "outputs": [
        {
          "output_type": "execute_result",
          "data": {
            "text/plain": [
              "False"
            ]
          },
          "metadata": {},
          "execution_count": 25
        }
      ]
    },
    {
      "cell_type": "code",
      "source": [
        "a<b"
      ],
      "metadata": {
        "colab": {
          "base_uri": "https://localhost:8080/"
        },
        "id": "G87xz7pVmOn9",
        "outputId": "66890216-d1be-4070-a686-347994296243"
      },
      "execution_count": 26,
      "outputs": [
        {
          "output_type": "execute_result",
          "data": {
            "text/plain": [
              "True"
            ]
          },
          "metadata": {},
          "execution_count": 26
        }
      ]
    },
    {
      "cell_type": "markdown",
      "source": [
        "### Logical Operators\n",
        "Logical operators are used to combine conditional statements\n",
        "\n",
        "    and, or, not "
      ],
      "metadata": {
        "id": "eCNMBTjemIBh"
      }
    },
    {
      "cell_type": "code",
      "source": [
        "a=10\n",
        "b=20\n",
        "a==10 and b==20"
      ],
      "metadata": {
        "colab": {
          "base_uri": "https://localhost:8080/"
        },
        "id": "6mJekukZmSBZ",
        "outputId": "6eea3d96-0f6d-4044-c11b-5ef209fa958f"
      },
      "execution_count": 27,
      "outputs": [
        {
          "output_type": "execute_result",
          "data": {
            "text/plain": [
              "True"
            ]
          },
          "metadata": {},
          "execution_count": 27
        }
      ]
    },
    {
      "cell_type": "code",
      "source": [
        "a!=10 or b==20"
      ],
      "metadata": {
        "colab": {
          "base_uri": "https://localhost:8080/"
        },
        "id": "qQ6Xkq0sK8Zw",
        "outputId": "a92886d1-77a9-4766-ffb3-928f1f06fcca"
      },
      "execution_count": 28,
      "outputs": [
        {
          "output_type": "execute_result",
          "data": {
            "text/plain": [
              "True"
            ]
          },
          "metadata": {},
          "execution_count": 28
        }
      ]
    },
    {
      "cell_type": "code",
      "source": [
        "x = True\n",
        "not x"
      ],
      "metadata": {
        "colab": {
          "base_uri": "https://localhost:8080/"
        },
        "id": "pBao-6f1mW45",
        "outputId": "fcb2a2b5-98a7-45a0-f49b-d5f66b3e4615"
      },
      "execution_count": 29,
      "outputs": [
        {
          "output_type": "execute_result",
          "data": {
            "text/plain": [
              "False"
            ]
          },
          "metadata": {},
          "execution_count": 29
        }
      ]
    },
    {
      "cell_type": "markdown",
      "source": [
        "### Assignment Operators\n",
        "\n",
        "Used to assign values to variables\n",
        "\n",
        "    = \tx = 5 \tx = 5 \t\n",
        "    += \tx += 3 \tx = x + 3 \t\n",
        "    -= \tx -= 3 \tx = x - 3 \t\n",
        "    *= \tx *= 3 \tx = x * 3 \t\n",
        "    /= \tx /= 3 \tx = x / 3 \t\n",
        "    %= \tx %= 3 \tx = x % 3"
      ],
      "metadata": {
        "id": "CsvFuC28-T4c"
      }
    },
    {
      "cell_type": "code",
      "source": [
        "a=1\n",
        "a+=1\n",
        "a"
      ],
      "metadata": {
        "colab": {
          "base_uri": "https://localhost:8080/"
        },
        "id": "wAk3QsTZLVoy",
        "outputId": "9486eefd-d58f-47eb-faa4-8121373ad2a4"
      },
      "execution_count": 30,
      "outputs": [
        {
          "output_type": "execute_result",
          "data": {
            "text/plain": [
              "2"
            ]
          },
          "metadata": {},
          "execution_count": 30
        }
      ]
    },
    {
      "cell_type": "code",
      "source": [
        "x=3\n",
        "x/=3 # x = x/3\n",
        "x"
      ],
      "metadata": {
        "colab": {
          "base_uri": "https://localhost:8080/"
        },
        "id": "DWwvBY1g-e6X",
        "outputId": "f51f8154-c81a-4efc-c397-304a79c745ee"
      },
      "execution_count": 31,
      "outputs": [
        {
          "output_type": "execute_result",
          "data": {
            "text/plain": [
              "1.0"
            ]
          },
          "metadata": {},
          "execution_count": 31
        }
      ]
    },
    {
      "cell_type": "markdown",
      "source": [
        "### Bitwise Operators\n",
        "\n",
        "Used to compare (binary) numbers:\n",
        "\n",
        "    &   AND\n",
        "    |   OR\n",
        "    ^   XOR \n",
        "    ~   NOT \n",
        "    <<  Zero fill left shift\n",
        "    >>  Signed right shift"
      ],
      "metadata": {
        "id": "Sd26Fy989CCK"
      }
    },
    {
      "cell_type": "code",
      "source": [
        "10 & 13"
      ],
      "metadata": {
        "colab": {
          "base_uri": "https://localhost:8080/"
        },
        "id": "_-_II_4E9T9V",
        "outputId": "e0e4e17b-9439-41a7-f959-32fb4da5b650"
      },
      "execution_count": 33,
      "outputs": [
        {
          "output_type": "execute_result",
          "data": {
            "text/plain": [
              "8"
            ]
          },
          "metadata": {},
          "execution_count": 33
        }
      ]
    },
    {
      "cell_type": "code",
      "source": [
        "print(bin(10))\n",
        "print(bin(13))"
      ],
      "metadata": {
        "colab": {
          "base_uri": "https://localhost:8080/"
        },
        "id": "8-Go0jFN9YbV",
        "outputId": "de80868d-c493-4414-c941-772bb624a456"
      },
      "execution_count": 32,
      "outputs": [
        {
          "output_type": "stream",
          "name": "stdout",
          "text": [
            "0b1010\n",
            "0b1101\n"
          ]
        }
      ]
    },
    {
      "cell_type": "code",
      "source": [
        "3 << 1\n",
        "print(bin(3))\n",
        "print(bin(3<<1))\n",
        "print(bin(3<<3))"
      ],
      "metadata": {
        "colab": {
          "base_uri": "https://localhost:8080/"
        },
        "id": "hYZMs12x91jt",
        "outputId": "16bfa790-5857-4718-fa4c-5c1df36127b4"
      },
      "execution_count": 34,
      "outputs": [
        {
          "output_type": "stream",
          "name": "stdout",
          "text": [
            "0b11\n",
            "0b110\n",
            "0b11000\n"
          ]
        }
      ]
    },
    {
      "cell_type": "markdown",
      "source": [
        "### Membership operators\n",
        "\n",
        "Used to test whether a value or variable is found in a sequence "
      ],
      "metadata": {
        "id": "zuyHQZXtq4jo"
      }
    },
    {
      "cell_type": "code",
      "source": [
        "string='Hello World'\n",
        "print('e' in string)"
      ],
      "metadata": {
        "colab": {
          "base_uri": "https://localhost:8080/"
        },
        "id": "Kc2ZFKHUrTJF",
        "outputId": "bb4ea789-d194-4f0e-c137-911ec22d1c69"
      },
      "execution_count": 35,
      "outputs": [
        {
          "output_type": "stream",
          "name": "stdout",
          "text": [
            "True\n"
          ]
        }
      ]
    },
    {
      "cell_type": "code",
      "source": [
        "print('h' not in string)\n",
        "print('H' not in string)"
      ],
      "metadata": {
        "colab": {
          "base_uri": "https://localhost:8080/"
        },
        "id": "X5yAHdPjMfuH",
        "outputId": "90d0f831-8177-40f8-9c44-37391409d15c"
      },
      "execution_count": 36,
      "outputs": [
        {
          "output_type": "stream",
          "name": "stdout",
          "text": [
            "True\n",
            "False\n"
          ]
        }
      ]
    },
    {
      "cell_type": "markdown",
      "source": [
        "### Identity Operators\n",
        "\n",
        "Used to compare the objects, not if they are equal, but if they are actually the same object, with the same memory location\n",
        "\n",
        "\n",
        "    is and is not"
      ],
      "metadata": {
        "id": "b5U5bLYi7sjD"
      }
    },
    {
      "cell_type": "code",
      "source": [
        "x = z = 'hello'\n",
        "y = 'Hello'\n",
        "print(x is y)\n",
        "print(x is z)\n",
        "print(z is not y)"
      ],
      "metadata": {
        "colab": {
          "base_uri": "https://localhost:8080/"
        },
        "id": "RgEFgiM670pQ",
        "outputId": "b88be018-631b-45c5-f0ca-8477360243e3"
      },
      "execution_count": 37,
      "outputs": [
        {
          "output_type": "stream",
          "name": "stdout",
          "text": [
            "False\n",
            "True\n",
            "True\n"
          ]
        }
      ]
    },
    {
      "cell_type": "markdown",
      "source": [
        "## Conditions statement (if...else)"
      ],
      "metadata": {
        "id": "ZEh6nuqHlhJk"
      }
    },
    {
      "cell_type": "code",
      "source": [
        "# find the largest number \n",
        "a = int(input('num1: '))\n",
        "b = int(input('num2: '))\n",
        "\n",
        "if (a > b):\n",
        "    print('num1 is largest')\n",
        "elif a < b: # else if\n",
        "    print('num2 is largest')\n",
        "else:\n",
        "    print('Both are equal')\n",
        "print('End')"
      ],
      "metadata": {
        "colab": {
          "base_uri": "https://localhost:8080/"
        },
        "id": "TxnLZ2YSitBd",
        "outputId": "81d442b4-d0b6-4d8a-8653-3ef1bdf3987b"
      },
      "execution_count": 42,
      "outputs": [
        {
          "output_type": "stream",
          "name": "stdout",
          "text": [
            "num1: 87\n",
            "num2: 98\n",
            "num2 is largest\n",
            "End\n"
          ]
        }
      ]
    },
    {
      "cell_type": "code",
      "source": [
        "# short hand if else\n",
        "a=10\n",
        "b=20\n",
        "print(\"num1 is largest\") if a > b else print(\"num2 is largest\") "
      ],
      "metadata": {
        "colab": {
          "base_uri": "https://localhost:8080/"
        },
        "id": "ffKxRpjJ3UgN",
        "outputId": "63779c52-bdcd-46bc-8ea7-67c47cb8358a"
      },
      "execution_count": 40,
      "outputs": [
        {
          "output_type": "stream",
          "name": "stdout",
          "text": [
            "num2 is largest\n"
          ]
        }
      ]
    },
    {
      "cell_type": "code",
      "source": [
        "if a > b: print('A is largest')"
      ],
      "metadata": {
        "id": "UOnTHTPxikce"
      },
      "execution_count": 43,
      "outputs": []
    },
    {
      "cell_type": "markdown",
      "source": [
        "## Loops"
      ],
      "metadata": {
        "id": "9qRYflS_n92y"
      }
    },
    {
      "cell_type": "markdown",
      "source": [
        "###The while Loop\n",
        "\n",
        "With the while loop we can execute a set of statements as long as a condition is true."
      ],
      "metadata": {
        "id": "Pq8SxQQNoDWC"
      }
    },
    {
      "cell_type": "code",
      "source": [
        "i=1\n",
        "while (i<10):\n",
        "    print (i)\n",
        "    i += 1"
      ],
      "metadata": {
        "colab": {
          "base_uri": "https://localhost:8080/"
        },
        "id": "oOVieJqonjIO",
        "outputId": "51be6e27-ae02-48a0-a284-1f31c63f4ef8"
      },
      "execution_count": 44,
      "outputs": [
        {
          "output_type": "stream",
          "name": "stdout",
          "text": [
            "1\n",
            "2\n",
            "3\n",
            "4\n",
            "5\n",
            "6\n",
            "7\n",
            "8\n",
            "9\n"
          ]
        }
      ]
    },
    {
      "cell_type": "markdown",
      "source": [
        "#### Break Statement\n",
        "With the break statement we can stop the loop even if the while condition is true"
      ],
      "metadata": {
        "id": "n40Iw-4RqC1V"
      }
    },
    {
      "cell_type": "code",
      "source": [
        "# break statement\n",
        "i = 1\n",
        "while i < 6:\n",
        "  print(i)\n",
        "  if i == 3:\n",
        "    break\n",
        "  i += 1 "
      ],
      "metadata": {
        "colab": {
          "base_uri": "https://localhost:8080/"
        },
        "id": "CJTelTBVoYCE",
        "outputId": "f9b32a54-7443-4bb2-931e-0514c0a69c20"
      },
      "execution_count": 45,
      "outputs": [
        {
          "output_type": "stream",
          "name": "stdout",
          "text": [
            "1\n",
            "2\n",
            "3\n"
          ]
        }
      ]
    },
    {
      "cell_type": "markdown",
      "source": [
        "#### Continue statement\n",
        "With the continue statement we can stop the current iteration, and continue with the next"
      ],
      "metadata": {
        "id": "FK8rcyiLp1rP"
      }
    },
    {
      "cell_type": "code",
      "source": [
        "# continue statement\n",
        "i = 0\n",
        "while i < 6:\n",
        "  i += 1 # i=i+1\n",
        "  if i == 3:\n",
        "    continue\n",
        "  print(i)"
      ],
      "metadata": {
        "colab": {
          "base_uri": "https://localhost:8080/"
        },
        "id": "la37xpDrpvDa",
        "outputId": "325112b8-59ba-4283-876f-b9bfd65861e5"
      },
      "execution_count": 46,
      "outputs": [
        {
          "output_type": "stream",
          "name": "stdout",
          "text": [
            "1\n",
            "2\n",
            "4\n",
            "5\n",
            "6\n"
          ]
        }
      ]
    },
    {
      "cell_type": "code",
      "source": [
        "i=0\n",
        "while i<3:\n",
        "    print(i)\n",
        "    i+=1\n",
        "else:\n",
        "    print('End of while loop')"
      ],
      "metadata": {
        "colab": {
          "base_uri": "https://localhost:8080/"
        },
        "id": "zHDlFIBiQ4mR",
        "outputId": "3820f195-2efc-4595-96b4-4a7d6d0e48e6"
      },
      "execution_count": 47,
      "outputs": [
        {
          "output_type": "stream",
          "name": "stdout",
          "text": [
            "0\n",
            "1\n",
            "2\n",
            "End of while loop\n"
          ]
        }
      ]
    },
    {
      "cell_type": "markdown",
      "source": [
        "### The For Loop"
      ],
      "metadata": {
        "id": "v16Rx6RDqbEb"
      }
    },
    {
      "cell_type": "code",
      "source": [
        "for i in 'abcdefgh':\n",
        "    print(i, end = ' ')"
      ],
      "metadata": {
        "colab": {
          "base_uri": "https://localhost:8080/"
        },
        "id": "y7TtdvxSqcep",
        "outputId": "7e2f6c3d-8eac-4aca-c949-06cef1d70b21"
      },
      "execution_count": 54,
      "outputs": [
        {
          "output_type": "stream",
          "name": "stdout",
          "text": [
            "a b c d e f g h "
          ]
        }
      ]
    },
    {
      "cell_type": "markdown",
      "source": [
        "### Range function\n",
        "\n",
        "The range() function returns a sequence of numbers, starting from 0 by default, and increments by 1 (by default), and stops before a specified number.\n",
        "\n",
        "    Syntax: range(start, stop, step)\n"
      ],
      "metadata": {
        "id": "afxODahcC75C"
      }
    },
    {
      "cell_type": "code",
      "source": [
        "range(0,10,-1)"
      ],
      "metadata": {
        "colab": {
          "base_uri": "https://localhost:8080/"
        },
        "id": "wuJoaFSMRixG",
        "outputId": "134e19b9-24f3-45c7-9820-142705ba18e0"
      },
      "execution_count": 55,
      "outputs": [
        {
          "output_type": "execute_result",
          "data": {
            "text/plain": [
              "range(0, 10, -1)"
            ]
          },
          "metadata": {},
          "execution_count": 55
        }
      ]
    },
    {
      "cell_type": "code",
      "source": [
        "range(1,10,2)"
      ],
      "metadata": {
        "colab": {
          "base_uri": "https://localhost:8080/"
        },
        "id": "NKSc86h3B_yG",
        "outputId": "0a6852d0-5174-4ea7-b029-33c1e4cf8b04"
      },
      "execution_count": 52,
      "outputs": [
        {
          "output_type": "execute_result",
          "data": {
            "text/plain": [
              "range(1, 10, 2)"
            ]
          },
          "metadata": {},
          "execution_count": 52
        }
      ]
    },
    {
      "cell_type": "code",
      "source": [
        "for i in range(4,0,-1):  # i=0 ; i<4\n",
        "    print(i)"
      ],
      "metadata": {
        "colab": {
          "base_uri": "https://localhost:8080/"
        },
        "id": "rOzybYjkDVXa",
        "outputId": "787aa528-4cba-418a-9414-ac628f49d798"
      },
      "execution_count": 57,
      "outputs": [
        {
          "output_type": "stream",
          "name": "stdout",
          "text": [
            "4\n",
            "3\n",
            "2\n",
            "1\n"
          ]
        }
      ]
    },
    {
      "cell_type": "code",
      "source": [
        "for i in range(1, 10, 2):\n",
        "    print(i)"
      ],
      "metadata": {
        "colab": {
          "base_uri": "https://localhost:8080/"
        },
        "id": "r4UGdj-yCwFL",
        "outputId": "db98b2d7-388c-4c3f-c692-2c731eed2274"
      },
      "execution_count": 53,
      "outputs": [
        {
          "output_type": "stream",
          "name": "stdout",
          "text": [
            "1\n",
            "3\n",
            "5\n",
            "7\n",
            "9\n"
          ]
        }
      ]
    }
  ]
}