{
  "nbformat": 4,
  "nbformat_minor": 0,
  "metadata": {
    "colab": {
      "name": "Python-Basics-3.ipynb",
      "provenance": [],
      "toc_visible": true,
      "authorship_tag": "ABX9TyML2Qlk+0DY3f1MC9+uz5A0",
      "include_colab_link": true
    },
    "kernelspec": {
      "name": "python3",
      "display_name": "Python 3"
    },
    "language_info": {
      "name": "python"
    }
  },
  "cells": [
    {
      "cell_type": "markdown",
      "metadata": {
        "id": "view-in-github",
        "colab_type": "text"
      },
      "source": [
        "<a href=\"https://colab.research.google.com/github/snaily16/Tutorials/blob/master/Python_Basics_3.ipynb\" target=\"_parent\"><img src=\"https://colab.research.google.com/assets/colab-badge.svg\" alt=\"Open In Colab\"/></a>"
      ]
    },
    {
      "cell_type": "markdown",
      "source": [
        "# Output Formatting in Python\n",
        "\n",
        "There are several ways to present the output of a program; data can be printed in a human-readable form, or written to a file for future use.\n"
      ],
      "metadata": {
        "id": "3L95mjcIgRMO"
      }
    },
    {
      "cell_type": "markdown",
      "source": [
        "print() takes a few additional arguments that provide modest control over the format of the output. \n",
        "\n",
        "By default, print() separates objects by a single space and appends a newline to the end of the output"
      ],
      "metadata": {
        "id": "t11RQaDriz_D"
      }
    },
    {
      "cell_type": "code",
      "source": [
        "a,b,c=1,2,3\n",
        "print(a,b,c)"
      ],
      "metadata": {
        "colab": {
          "base_uri": "https://localhost:8080/"
        },
        "id": "TZhXsSBngVe2",
        "outputId": "ab796fe9-a9f3-41fb-8e69-c93c547b140a"
      },
      "execution_count": 38,
      "outputs": [
        {
          "output_type": "stream",
          "name": "stdout",
          "text": [
            "1 2 3\n"
          ]
        }
      ]
    },
    {
      "cell_type": "markdown",
      "source": [
        "### Seperating Printed Values\n",
        "\n",
        "Adding the keyword argument sep=<str> causes Python to separate objects by instead of by the default single space"
      ],
      "metadata": {
        "id": "vI_N8yD2jFQT"
      }
    },
    {
      "cell_type": "code",
      "source": [
        "print(a,b,c,sep=',',end='!!!')\n",
        "print('Hello')"
      ],
      "metadata": {
        "colab": {
          "base_uri": "https://localhost:8080/"
        },
        "id": "0IDs-GMBi8LL",
        "outputId": "6590a9b9-e90c-45db-d23b-5e2b00de377c"
      },
      "execution_count": 41,
      "outputs": [
        {
          "output_type": "stream",
          "name": "stdout",
          "text": [
            "1,2,3!!!Hello\n"
          ]
        }
      ]
    },
    {
      "cell_type": "code",
      "source": [
        "print('Hello', a, b, c, sep='...')"
      ],
      "metadata": {
        "colab": {
          "base_uri": "https://localhost:8080/"
        },
        "id": "tdHVxMi-jPJm",
        "outputId": "46749dfc-3e68-4662-a546-5f85e3b5fede"
      },
      "execution_count": 40,
      "outputs": [
        {
          "output_type": "stream",
          "name": "stdout",
          "text": [
            "Hello...1...2...3\n"
          ]
        }
      ]
    },
    {
      "cell_type": "markdown",
      "source": [
        "## Formatted String Literals\n",
        "\n",
        "Also called f-strings.\n",
        "\n",
        "Let you include the value of Python expressions inside a string by prefixing the string with **f or F** and writing expressions as `{expression}`"
      ],
      "metadata": {
        "id": "Lfgq1r_HkKiA"
      }
    },
    {
      "cell_type": "code",
      "source": [
        "353/15"
      ],
      "metadata": {
        "colab": {
          "base_uri": "https://localhost:8080/"
        },
        "id": "P8qn5lwNSslq",
        "outputId": "92723ca6-414f-4a04-e12d-c437635f4dbd"
      },
      "execution_count": 42,
      "outputs": [
        {
          "output_type": "execute_result",
          "data": {
            "text/plain": [
              "23.533333333333335"
            ]
          },
          "metadata": {},
          "execution_count": 42
        }
      ]
    },
    {
      "cell_type": "code",
      "source": [
        "n=15\n",
        "sum=353\n",
        "print(f'The average is {sum/n:.3f}')    #.3f rounds the result to 3 decimal places"
      ],
      "metadata": {
        "colab": {
          "base_uri": "https://localhost:8080/"
        },
        "id": "gaB3BR0ekcIi",
        "outputId": "9f89ed01-5bb4-43d0-ad75-e067ee8d6834"
      },
      "execution_count": 43,
      "outputs": [
        {
          "output_type": "stream",
          "name": "stdout",
          "text": [
            "The average is 23.533\n"
          ]
        }
      ]
    },
    {
      "cell_type": "markdown",
      "source": [
        "Passing an integer after the ':' will cause that field to be a minimum number of characters wide. This is useful for making columns line up."
      ],
      "metadata": {
        "id": "XkexA1_vmR23"
      }
    },
    {
      "cell_type": "code",
      "source": [
        "for i in range(5):\n",
        "    print(f'{i : 5} {i**2 : 5} {i**3 : 5}')"
      ],
      "metadata": {
        "colab": {
          "base_uri": "https://localhost:8080/"
        },
        "id": "F4ns4ZfSmS7C",
        "outputId": "0421d7d7-74bc-47a8-8584-6e13ebd4e70b"
      },
      "execution_count": 44,
      "outputs": [
        {
          "output_type": "stream",
          "name": "stdout",
          "text": [
            "    0     0     0\n",
            "    1     1     1\n",
            "    2     4     8\n",
            "    3     9    27\n",
            "    4    16    64\n"
          ]
        }
      ]
    },
    {
      "cell_type": "markdown",
      "source": [
        "## The String format() Method\n",
        "\n",
        "Basic usage of the str.format() method looks like this:\n",
        "\n",
        "    print('{} and {}'.format('burger', 'pizza'))\n",
        "    \n",
        "The brackets are replaced with the objects passed into the str.format() method."
      ],
      "metadata": {
        "id": "XrYYFk3AmxYH"
      }
    },
    {
      "cell_type": "code",
      "source": [
        "print('{} and {}'.format('Burger', 'Pizza'))"
      ],
      "metadata": {
        "colab": {
          "base_uri": "https://localhost:8080/"
        },
        "id": "LsNYVyyPnSGW",
        "outputId": "d38e513f-6366-4626-f571-92414715483a"
      },
      "execution_count": 45,
      "outputs": [
        {
          "output_type": "stream",
          "name": "stdout",
          "text": [
            "Burger and Pizza\n"
          ]
        }
      ]
    },
    {
      "cell_type": "markdown",
      "source": [
        "A number in the brackets can be used to refer to the position of the object passed into the str.format() method"
      ],
      "metadata": {
        "id": "ILjfr6avnYTs"
      }
    },
    {
      "cell_type": "code",
      "source": [
        "print('I like {0} and hate {1}'.format('icecream', 'vegetables'))"
      ],
      "metadata": {
        "colab": {
          "base_uri": "https://localhost:8080/"
        },
        "id": "jTPUAFl_nZRJ",
        "outputId": "3058a87c-1eed-4569-9660-6592494e6bfb"
      },
      "execution_count": 46,
      "outputs": [
        {
          "output_type": "stream",
          "name": "stdout",
          "text": [
            "I like icecream and hate vegetables\n"
          ]
        }
      ]
    },
    {
      "cell_type": "code",
      "source": [
        "print('I like {1} and hate {0}'.format('icecream', 'vegetables'))"
      ],
      "metadata": {
        "colab": {
          "base_uri": "https://localhost:8080/"
        },
        "id": "KdK1Zi6RoU-u",
        "outputId": "66535bfa-5156-41c0-c765-6fa092d0d624"
      },
      "execution_count": 48,
      "outputs": [
        {
          "output_type": "stream",
          "name": "stdout",
          "text": [
            "I like vegetables and hate icecream\n"
          ]
        }
      ]
    },
    {
      "cell_type": "markdown",
      "source": [
        "If keyword arguments are used in the str.format() method, their values are referred to by using the name of the argument."
      ],
      "metadata": {
        "id": "bQYZHkNVomoW"
      }
    },
    {
      "cell_type": "code",
      "source": [
        "print('This {food} is {adjective}!!!'.format(food='pizza', adjective='tasty'))"
      ],
      "metadata": {
        "colab": {
          "base_uri": "https://localhost:8080/"
        },
        "id": "sK4-s5TzonyG",
        "outputId": "79d58171-dd4f-48b3-bedf-9134144686d9"
      },
      "execution_count": 47,
      "outputs": [
        {
          "output_type": "stream",
          "name": "stdout",
          "text": [
            "This pizza is tasty!!!\n"
          ]
        }
      ]
    },
    {
      "cell_type": "markdown",
      "source": [
        "## Old string formatting\n",
        "\n",
        "The % operator (modulo) can also be used for string formatting. \n",
        "\n",
        "Given `'string' % values`, instances of % in `string` are replaced with zero or more elements of values"
      ],
      "metadata": {
        "id": "lymw61XVsnb4"
      }
    },
    {
      "cell_type": "markdown",
      "source": [
        "Floating-point numbers use the format **%a.bf**. \n",
        "\n",
        "* **a** - the minimum number of digits to be present in the string; these might be padded with white space if the whole number doesn’t have this many digits.\n",
        "* **bf** - how many digits are to be displayed after the decimal point. "
      ],
      "metadata": {
        "id": "cuL_oaR0vmf2"
      }
    },
    {
      "cell_type": "code",
      "source": [
        "ans = 50/3\n",
        "print('The answer is %5.2f.' % ans)       # .2 rounds the result to 2 decimal places"
      ],
      "metadata": {
        "colab": {
          "base_uri": "https://localhost:8080/"
        },
        "id": "wJNxymbts8Wx",
        "outputId": "8627924e-a9fd-4739-bb1d-677bc08a03e3"
      },
      "execution_count": 49,
      "outputs": [
        {
          "output_type": "stream",
          "name": "stdout",
          "text": [
            "The answer is 16.67.\n"
          ]
        }
      ]
    },
    {
      "cell_type": "markdown",
      "source": [
        "# Functions in Python\n",
        "\n",
        "**What is a function?**\n",
        "\n",
        "\n",
        "*   A function is a block of code which only runs when it is called.\n",
        "*   You can pass data, known as parameters, into a function.\n",
        "*   A function can return data as a result.\n",
        "\n",
        "\n",
        "\n",
        "\n",
        "\n"
      ],
      "metadata": {
        "id": "A7_DRYu8Jbw_"
      }
    },
    {
      "cell_type": "markdown",
      "source": [
        "## Creating/Defining a function\n",
        "\n",
        "The keyword ***def*** introduces a function definition. \n",
        "\n",
        "It must be followed by the function name and the parenthesized list of formal parameters."
      ],
      "metadata": {
        "id": "D4XpeYkNKAxt"
      }
    },
    {
      "cell_type": "code",
      "execution_count": 50,
      "metadata": {
        "id": "LKEzsenqFwCE"
      },
      "outputs": [],
      "source": [
        "def myFunc():\n",
        "    print('This is myFunc')"
      ]
    },
    {
      "cell_type": "code",
      "source": [
        "myFunc()    # calling the function created"
      ],
      "metadata": {
        "colab": {
          "base_uri": "https://localhost:8080/"
        },
        "id": "CyCDlaN3Kb9h",
        "outputId": "93a9a26a-fec3-4892-c009-960d8b2cb121"
      },
      "execution_count": 51,
      "outputs": [
        {
          "output_type": "stream",
          "name": "stdout",
          "text": [
            "This is myFunc\n"
          ]
        }
      ]
    },
    {
      "cell_type": "markdown",
      "source": [
        "## Passing Arguments or Parameters\n",
        "\n",
        "Information can be passed into functions as arguments.\n",
        "\n",
        "Arguments are passed using call by value (where the value is always an object reference, not the value of the object)."
      ],
      "metadata": {
        "id": "x06tuCjsfGHv"
      }
    },
    {
      "cell_type": "code",
      "source": [
        "def func(a, b):\n",
        "    print(\"Function parameters are: \",a,b)\n",
        "    print(\"Parameter types are: \", type(a), type(b))"
      ],
      "metadata": {
        "id": "jmmvl-lZfyXg"
      },
      "execution_count": 52,
      "outputs": []
    },
    {
      "cell_type": "code",
      "source": [
        "func(3,5.9)"
      ],
      "metadata": {
        "colab": {
          "base_uri": "https://localhost:8080/"
        },
        "id": "CvhRFyxhf_hA",
        "outputId": "3fa525a2-d8d9-4e8d-ed32-26041f400fa6"
      },
      "execution_count": 53,
      "outputs": [
        {
          "output_type": "stream",
          "name": "stdout",
          "text": [
            "Function parameters are:  3 5.9\n",
            "Parameter types are:  <class 'int'> <class 'float'>\n"
          ]
        }
      ]
    },
    {
      "cell_type": "code",
      "source": [
        "func('string', [4,3])"
      ],
      "metadata": {
        "colab": {
          "base_uri": "https://localhost:8080/"
        },
        "id": "exPZ18JVgDMw",
        "outputId": "fc2008b8-7f03-4d7c-9275-ddbc56537fd0"
      },
      "execution_count": 54,
      "outputs": [
        {
          "output_type": "stream",
          "name": "stdout",
          "text": [
            "Function parameters are:  string [4, 3]\n",
            "Parameter types are:  <class 'str'> <class 'list'>\n"
          ]
        }
      ]
    },
    {
      "cell_type": "code",
      "source": [
        "print(func)"
      ],
      "metadata": {
        "colab": {
          "base_uri": "https://localhost:8080/"
        },
        "id": "FX1matiTyL7z",
        "outputId": "6bb052e6-3efa-4fdf-fd21-cd3c19505524"
      },
      "execution_count": 55,
      "outputs": [
        {
          "output_type": "stream",
          "name": "stdout",
          "text": [
            "<function func at 0x7f62e8a20b90>\n"
          ]
        }
      ]
    },
    {
      "cell_type": "markdown",
      "source": [
        "Other variables can also point to that same function object and can also be used to access the function"
      ],
      "metadata": {
        "id": "8OQfD_1cyaeW"
      }
    },
    {
      "cell_type": "code",
      "source": [
        "f = func\n",
        "print(f)\n",
        "f(1,2)"
      ],
      "metadata": {
        "colab": {
          "base_uri": "https://localhost:8080/"
        },
        "id": "V7gPFzPkyj0u",
        "outputId": "8fa0fc3a-1245-499d-a4be-e9c33f09ff40"
      },
      "execution_count": 56,
      "outputs": [
        {
          "output_type": "stream",
          "name": "stdout",
          "text": [
            "<function func at 0x7f62e8a20b90>\n",
            "Function parameters are:  1 2\n",
            "Parameter types are:  <class 'int'> <class 'int'>\n"
          ]
        }
      ]
    },
    {
      "cell_type": "markdown",
      "source": [
        "## Default Argument Values\n",
        "\n",
        "The most useful form is to specify a default value for one or more arguments. This creates a function that can be called with fewer arguments than it is defined to allow."
      ],
      "metadata": {
        "id": "hXrKMm2fzA2P"
      }
    },
    {
      "cell_type": "code",
      "source": [
        "def get_details(name, country='India'):\n",
        "    print('Name: {}, country: {}'.format(name, country))"
      ],
      "metadata": {
        "id": "OXen2ZFkz2Zj"
      },
      "execution_count": 57,
      "outputs": []
    },
    {
      "cell_type": "code",
      "source": [
        "get_details('Alice', 'UK')\n",
        "get_details('Raj')"
      ],
      "metadata": {
        "colab": {
          "base_uri": "https://localhost:8080/"
        },
        "id": "3zJE3xGQ0hK8",
        "outputId": "56326832-bff8-47e9-8cf8-8a19626fc70d"
      },
      "execution_count": 58,
      "outputs": [
        {
          "output_type": "stream",
          "name": "stdout",
          "text": [
            "Name: Alice, country: UK\n",
            "Name: Raj, country: India\n"
          ]
        }
      ]
    },
    {
      "cell_type": "markdown",
      "source": [
        "## Keyword Argument\n",
        "\n",
        "Functions can also be called using keyword arguments of the form `kwarg=value`\n",
        "\n",
        "All the keyword arguments passed must match one of the arguments accepted by the function, and their order is not important.\n",
        "\n",
        "Note: In a function call, keyword arguments must follow positional arguments."
      ],
      "metadata": {
        "id": "qTiurInG1SJ7"
      }
    },
    {
      "cell_type": "code",
      "source": [
        "def vehicle(name, color='red', type='car'):\n",
        "    print('I have a {0} {2}, it is {1} in color'.format(name, color, type))"
      ],
      "metadata": {
        "id": "0K0X8BjB1UWe"
      },
      "execution_count": 60,
      "outputs": []
    },
    {
      "cell_type": "code",
      "source": [
        "vehicle('Honda')                    # 1 positional argument\n",
        "vehicle(color='blue', name='Hyundai')             # 2 keyword argument\n",
        "vehicle(name='Royal Enfield', color='black', type='bike')   # 3 keyword argument\n",
        "vehicle('Royal Enfield', type='bike')       # 1 positional 1 keyword argument"
      ],
      "metadata": {
        "colab": {
          "base_uri": "https://localhost:8080/"
        },
        "id": "gG9RMIdNVDMP",
        "outputId": "b64d8e4f-db92-409c-d241-42c1e4ca1f41"
      },
      "execution_count": 61,
      "outputs": [
        {
          "output_type": "stream",
          "name": "stdout",
          "text": [
            "I have a Honda car, it is red in color\n",
            "I have a Hyundai car, it is blue in color\n",
            "I have a Royal Enfield bike, it is black in color\n",
            "I have a Royal Enfield bike, it is red in color\n"
          ]
        }
      ]
    },
    {
      "cell_type": "markdown",
      "source": [
        "## Return Value\n",
        "\n",
        "To let a function return a value, use the return statement"
      ],
      "metadata": {
        "id": "rqsxEWJWWjOz"
      }
    },
    {
      "cell_type": "code",
      "source": [
        "def is_even(num):\n",
        "    if num % 2==0:\n",
        "        return True\n",
        "    else:\n",
        "        return False"
      ],
      "metadata": {
        "id": "N57ph7kGWuRI"
      },
      "execution_count": 64,
      "outputs": []
    },
    {
      "cell_type": "code",
      "source": [
        "a = is_even(45)\n",
        "print(a)"
      ],
      "metadata": {
        "colab": {
          "base_uri": "https://localhost:8080/"
        },
        "id": "lzXnVGEIXxnt",
        "outputId": "29641891-af01-459d-d5de-e1d9c46b0e42"
      },
      "execution_count": 65,
      "outputs": [
        {
          "output_type": "stream",
          "name": "stdout",
          "text": [
            "0\n"
          ]
        }
      ]
    },
    {
      "cell_type": "markdown",
      "source": [
        "### Return multiple values"
      ],
      "metadata": {
        "id": "PHKtoocXX4iO"
      }
    },
    {
      "cell_type": "code",
      "source": [
        "def fun():\n",
        "    name='Alice'\n",
        "    age = 30\n",
        "    return name, age"
      ],
      "metadata": {
        "id": "X2p9X3y-X8Zq"
      },
      "execution_count": 66,
      "outputs": []
    },
    {
      "cell_type": "code",
      "source": [
        "f = fun()\n",
        "print(f, type(f))"
      ],
      "metadata": {
        "colab": {
          "base_uri": "https://localhost:8080/"
        },
        "id": "4RcM9QY-Ym_T",
        "outputId": "56197772-667e-41f0-d51d-5cd571941844"
      },
      "execution_count": 67,
      "outputs": [
        {
          "output_type": "stream",
          "name": "stdout",
          "text": [
            "('Alice', 30) <class 'tuple'>\n"
          ]
        }
      ]
    },
    {
      "cell_type": "code",
      "source": [
        "n,a = fun()\n",
        "print(n, a)"
      ],
      "metadata": {
        "colab": {
          "base_uri": "https://localhost:8080/"
        },
        "id": "q7m0gOkoYsWJ",
        "outputId": "8cc44bd6-4747-44f9-fe7f-e2d3bcf6efda"
      },
      "execution_count": 68,
      "outputs": [
        {
          "output_type": "stream",
          "name": "stdout",
          "text": [
            "Alice 30\n"
          ]
        }
      ]
    },
    {
      "cell_type": "markdown",
      "source": [
        "## Arbitrary Argument Lists\n",
        "\n",
        "Finally, the least frequently used option is to specify that a function can be called with an arbitrary number of arguments.\n",
        "\n",
        "These arguments will be wrapped up in a tuple "
      ],
      "metadata": {
        "id": "cQbqElmgY1Rs"
      }
    },
    {
      "cell_type": "code",
      "source": [
        "def multiple_items(*args):\n",
        "    print('Arbitary arguments are: ', args)\n",
        "    print(args[0])"
      ],
      "metadata": {
        "id": "pyj9qGlBZPtD"
      },
      "execution_count": 73,
      "outputs": []
    },
    {
      "cell_type": "code",
      "source": [
        "multiple_items(1,2,'hello')\n",
        "multiple_items(1)\n",
        "multiple_items(1,2,3,4,5,6,7,8)"
      ],
      "metadata": {
        "colab": {
          "base_uri": "https://localhost:8080/"
        },
        "id": "Ytp1V4IVZXbK",
        "outputId": "1729ef14-14da-404f-ae68-a899a2a2e617"
      },
      "execution_count": 74,
      "outputs": [
        {
          "output_type": "stream",
          "name": "stdout",
          "text": [
            "Arbitary arguments are:  (1, 2, 'hello')\n",
            "1\n",
            "Arbitary arguments are:  (1,)\n",
            "1\n",
            "Arbitary arguments are:  (1, 2, 3, 4, 5, 6, 7, 8)\n",
            "1\n"
          ]
        }
      ]
    },
    {
      "cell_type": "markdown",
      "source": [
        "Any formal parameters which occur after the *args parameter are ‘keyword-only’ arguments, meaning that they can only be used as keywords rather than positional arguments."
      ],
      "metadata": {
        "id": "O1Q0n9mVaJkH"
      }
    },
    {
      "cell_type": "code",
      "source": [
        "def some_fun(*args, id='None'):\n",
        "    print(args, id)"
      ],
      "metadata": {
        "id": "t2YzAeaqaKla"
      },
      "execution_count": 75,
      "outputs": []
    },
    {
      "cell_type": "code",
      "source": [
        "some_fun(1,2,3,4,5,6,id=123)\n",
        "some_fun(id=90)"
      ],
      "metadata": {
        "colab": {
          "base_uri": "https://localhost:8080/"
        },
        "id": "ncyL6eDLbBlu",
        "outputId": "49c40794-50f8-4d16-b661-23e9c8425bb3"
      },
      "execution_count": 78,
      "outputs": [
        {
          "output_type": "stream",
          "name": "stdout",
          "text": [
            "(1, 2, 3, 4, 5, 6) 123\n",
            "() 90\n"
          ]
        }
      ]
    },
    {
      "cell_type": "markdown",
      "source": [
        "# Lambda Function \n",
        "\n",
        "A lambda function is a small anonymous function.\n",
        "\n",
        "A lambda function can take any number of arguments, but can only have one expression.\n",
        "\n",
        "    lambda arguments : expression"
      ],
      "metadata": {
        "id": "dALZXpVT12TY"
      }
    },
    {
      "cell_type": "code",
      "source": [
        "x = lambda a : a + 10\n",
        "print(x)"
      ],
      "metadata": {
        "colab": {
          "base_uri": "https://localhost:8080/"
        },
        "id": "a7PtoANJbuZc",
        "outputId": "8216d649-1579-4c4e-b831-da2657b50645"
      },
      "execution_count": 79,
      "outputs": [
        {
          "output_type": "stream",
          "name": "stdout",
          "text": [
            "<function <lambda> at 0x7f62e6bbf170>\n"
          ]
        }
      ]
    },
    {
      "cell_type": "code",
      "source": [
        "x(5)"
      ],
      "metadata": {
        "colab": {
          "base_uri": "https://localhost:8080/"
        },
        "id": "5I2bD2FpbwwI",
        "outputId": "d91de4d2-dc4a-4b37-80dc-a9c87d231928"
      },
      "execution_count": 80,
      "outputs": [
        {
          "output_type": "execute_result",
          "data": {
            "text/plain": [
              "15"
            ]
          },
          "metadata": {},
          "execution_count": 80
        }
      ]
    },
    {
      "cell_type": "markdown",
      "source": [
        "Lambda functions can take any number of arguments"
      ],
      "metadata": {
        "id": "lqu1ybd5b2cL"
      }
    },
    {
      "cell_type": "code",
      "source": [
        "x = lambda a, b, c : a + b + c\n",
        "print(x(5, 6, 2)) "
      ],
      "metadata": {
        "id": "Opdzkh8Ab6wh",
        "outputId": "ff811817-fdcb-4eda-9f6e-d95f71beff3d",
        "colab": {
          "base_uri": "https://localhost:8080/"
        }
      },
      "execution_count": 81,
      "outputs": [
        {
          "output_type": "stream",
          "name": "stdout",
          "text": [
            "13\n"
          ]
        }
      ]
    },
    {
      "cell_type": "markdown",
      "source": [
        "## Lambda vs def\n",
        "\n",
        "* Lambda definition does not include a “return” statement, it always contains an expression that is returned"
      ],
      "metadata": {
        "id": "Jh4vyGoWIysE"
      }
    },
    {
      "cell_type": "code",
      "source": [
        "def cube(y):\n",
        "    return y**3\n",
        " \n",
        "lambda_cube = lambda y: y**3\n",
        "\n",
        "print(cube(5))  # using the normally defined function\n",
        "print(lambda_cube(5))   # using the lambda function"
      ],
      "metadata": {
        "colab": {
          "base_uri": "https://localhost:8080/"
        },
        "id": "Zw9n7uDPI07k",
        "outputId": "4e1c0968-8d12-4605-82ba-bcecc9aae756"
      },
      "execution_count": 82,
      "outputs": [
        {
          "output_type": "stream",
          "name": "stdout",
          "text": [
            "125\n",
            "125\n"
          ]
        }
      ]
    },
    {
      "cell_type": "markdown",
      "source": [
        "## Use of Lambda Function in python\n",
        "\n",
        "We use lambda functions when we require a nameless function for a short period of time.\n",
        "\n",
        "In Python, we generally use it as an argument to a higher-order function (a function that takes in other functions as arguments). "
      ],
      "metadata": {
        "id": "HRkgQt6oKf9H"
      }
    },
    {
      "cell_type": "code",
      "source": [
        "List = [[2,5,4],[1, 14, 186, 64],[3, 6, 90, 12]]\n",
        " \n",
        "# Sort each sublist\n",
        "sortList = lambda x: (sorted(i) for i in x)\n",
        " \n",
        "# Get the second largest element\n",
        "secondLargest = lambda x, f : [y[-2] for y in f(x)]\n",
        "res = secondLargest(List, sortList)\n",
        " \n",
        "print(res)"
      ],
      "metadata": {
        "colab": {
          "base_uri": "https://localhost:8080/"
        },
        "id": "Hh6EXkQvKso0",
        "outputId": "157cc1fa-fcf3-4c9d-d5c8-b303a984baa7"
      },
      "execution_count": 83,
      "outputs": [
        {
          "output_type": "stream",
          "name": "stdout",
          "text": [
            "[4, 64, 12]\n"
          ]
        }
      ]
    },
    {
      "cell_type": "markdown",
      "source": [
        "In the above example, we have created a lambda function that sorts each sublist of the given list. Then this list is passed as the parameter to the second lambda function which returns the n-2 element from the sorted list where n is the length of the sublist."
      ],
      "metadata": {
        "id": "eoUZe18YLFEM"
      }
    },
    {
      "cell_type": "markdown",
      "source": [
        "# Python Math Module\n"
      ],
      "metadata": {
        "id": "cbjDOo4YyqSb"
      }
    },
    {
      "cell_type": "markdown",
      "source": [
        "Python has a set of built-in math functions, including an extensive math module, that allows you to perform mathematical tasks on numbers."
      ],
      "metadata": {
        "id": "f3ItSN1MyuYK"
      }
    },
    {
      "cell_type": "markdown",
      "source": [
        "## Built-in Math module "
      ],
      "metadata": {
        "id": "YPWSFkfPy0AH"
      }
    },
    {
      "cell_type": "code",
      "source": [
        "arr = [23,332,12,43,5232,43]\n",
        "print(min(arr), max(arr))"
      ],
      "metadata": {
        "id": "zCx4Ei_oyttV",
        "colab": {
          "base_uri": "https://localhost:8080/"
        },
        "outputId": "e627e5a3-9110-4961-972b-a37f571d233e"
      },
      "execution_count": 84,
      "outputs": [
        {
          "output_type": "stream",
          "name": "stdout",
          "text": [
            "12 5232\n"
          ]
        }
      ]
    },
    {
      "cell_type": "code",
      "source": [
        "abs(-4.32)"
      ],
      "metadata": {
        "id": "GP_Sl4Qly6xd",
        "colab": {
          "base_uri": "https://localhost:8080/"
        },
        "outputId": "c28d4bcc-25a7-4858-9359-32168d75ecd2"
      },
      "execution_count": 85,
      "outputs": [
        {
          "output_type": "execute_result",
          "data": {
            "text/plain": [
              "4.32"
            ]
          },
          "metadata": {},
          "execution_count": 85
        }
      ]
    },
    {
      "cell_type": "code",
      "source": [
        "pow(4,2)    # similar to 4**2"
      ],
      "metadata": {
        "id": "sYIu9PMPzB6k",
        "colab": {
          "base_uri": "https://localhost:8080/"
        },
        "outputId": "0053866e-4681-489c-8529-dbb94279ee12"
      },
      "execution_count": 86,
      "outputs": [
        {
          "output_type": "execute_result",
          "data": {
            "text/plain": [
              "16"
            ]
          },
          "metadata": {},
          "execution_count": 86
        }
      ]
    },
    {
      "cell_type": "markdown",
      "source": [
        "## The Math Module"
      ],
      "metadata": {
        "id": "1erxaFVhzLWZ"
      }
    },
    {
      "cell_type": "code",
      "source": [
        "import math"
      ],
      "metadata": {
        "id": "Sf2WKY9OzEEE"
      },
      "execution_count": 87,
      "outputs": []
    },
    {
      "cell_type": "code",
      "source": [
        "math.sqrt(900)"
      ],
      "metadata": {
        "id": "eqd92Ta9zOEI",
        "colab": {
          "base_uri": "https://localhost:8080/"
        },
        "outputId": "839f2096-9f68-4ab7-efa3-a27e2ced891d"
      },
      "execution_count": 88,
      "outputs": [
        {
          "output_type": "execute_result",
          "data": {
            "text/plain": [
              "30.0"
            ]
          },
          "metadata": {},
          "execution_count": 88
        }
      ]
    },
    {
      "cell_type": "code",
      "source": [
        "math.pi"
      ],
      "metadata": {
        "id": "pXF0EU-lzTQ0",
        "colab": {
          "base_uri": "https://localhost:8080/"
        },
        "outputId": "7a4ea069-7091-4eb4-e642-5b41253dc012"
      },
      "execution_count": 89,
      "outputs": [
        {
          "output_type": "execute_result",
          "data": {
            "text/plain": [
              "3.141592653589793"
            ]
          },
          "metadata": {},
          "execution_count": 89
        }
      ]
    },
    {
      "cell_type": "code",
      "source": [
        "math.factorial(5)"
      ],
      "metadata": {
        "colab": {
          "base_uri": "https://localhost:8080/"
        },
        "id": "SCwatzPfaEP3",
        "outputId": "8df3d822-0976-41f1-8bba-d9c266e137c7"
      },
      "execution_count": 91,
      "outputs": [
        {
          "output_type": "execute_result",
          "data": {
            "text/plain": [
              "120"
            ]
          },
          "metadata": {},
          "execution_count": 91
        }
      ]
    },
    {
      "cell_type": "markdown",
      "source": [
        "# Python OS Module\n",
        "\n",
        "The OS module in Python provides functions for interacting with the operating system\n",
        "\n",
        "This module provides a portable way of using operating system-dependent functionality."
      ],
      "metadata": {
        "id": "X-L-bK8gL3nU"
      }
    },
    {
      "cell_type": "code",
      "source": [
        "import os"
      ],
      "metadata": {
        "id": "o8Iwzvt9MBKV"
      },
      "execution_count": 92,
      "outputs": []
    },
    {
      "cell_type": "markdown",
      "source": [
        "## Handling Directories"
      ],
      "metadata": {
        "id": "opsqxyxJMSt1"
      }
    },
    {
      "cell_type": "markdown",
      "source": [
        "### To get current directory"
      ],
      "metadata": {
        "id": "xe32WDXTNGYf"
      }
    },
    {
      "cell_type": "code",
      "source": [
        "os.getcwd()     # similar to linux pwd command"
      ],
      "metadata": {
        "colab": {
          "base_uri": "https://localhost:8080/",
          "height": 36
        },
        "id": "pmLzSkt1MSKK",
        "outputId": "6bffda5d-ef37-4d96-c74d-ca9bfe428914"
      },
      "execution_count": 93,
      "outputs": [
        {
          "output_type": "execute_result",
          "data": {
            "application/vnd.google.colaboratory.intrinsic+json": {
              "type": "string"
            },
            "text/plain": [
              "'/content'"
            ]
          },
          "metadata": {},
          "execution_count": 93
        }
      ]
    },
    {
      "cell_type": "markdown",
      "source": [
        "### Changing the Current working directory"
      ],
      "metadata": {
        "id": "YqHApk0xMfIH"
      }
    },
    {
      "cell_type": "code",
      "source": [
        "os.chdir('sample_data')   # similar to cd command\n",
        "os.getcwd()"
      ],
      "metadata": {
        "colab": {
          "base_uri": "https://localhost:8080/",
          "height": 36
        },
        "id": "Kg_HES2AMMN8",
        "outputId": "63c68f3f-090f-4694-ec40-2ade2d514de8"
      },
      "execution_count": 94,
      "outputs": [
        {
          "output_type": "execute_result",
          "data": {
            "application/vnd.google.colaboratory.intrinsic+json": {
              "type": "string"
            },
            "text/plain": [
              "'/content/sample_data'"
            ]
          },
          "metadata": {},
          "execution_count": 94
        }
      ]
    },
    {
      "cell_type": "code",
      "source": [
        "os.chdir('../') # get back to previous directory\n",
        "os.getcwd()"
      ],
      "metadata": {
        "colab": {
          "base_uri": "https://localhost:8080/",
          "height": 36
        },
        "id": "s6_o8BGlMqRO",
        "outputId": "592f8861-4ea9-429b-df1f-0010652d612a"
      },
      "execution_count": 95,
      "outputs": [
        {
          "output_type": "execute_result",
          "data": {
            "application/vnd.google.colaboratory.intrinsic+json": {
              "type": "string"
            },
            "text/plain": [
              "'/content'"
            ]
          },
          "metadata": {},
          "execution_count": 95
        }
      ]
    },
    {
      "cell_type": "markdown",
      "source": [
        "### List Files and Directory"
      ],
      "metadata": {
        "id": "QI3FZkCnNeLX"
      }
    },
    {
      "cell_type": "markdown",
      "source": [
        "If we don’t specify any directory, then the list of files and directories in the current working directory will be returned\n",
        "\n",
        "    os.listdir(path)"
      ],
      "metadata": {
        "id": "rV0t-sclOR4m"
      }
    },
    {
      "cell_type": "code",
      "source": [
        "os.listdir()    # similar to ls command"
      ],
      "metadata": {
        "colab": {
          "base_uri": "https://localhost:8080/"
        },
        "id": "cC-Yz6MpNiB7",
        "outputId": "8c956180-1fd1-4e85-98fa-5470f675ca8f"
      },
      "execution_count": 96,
      "outputs": [
        {
          "output_type": "execute_result",
          "data": {
            "text/plain": [
              "['.config', '.ipynb_checkpoints', 'sample_data']"
            ]
          },
          "metadata": {},
          "execution_count": 96
        }
      ]
    },
    {
      "cell_type": "code",
      "source": [
        "os.listdir('sample_data')"
      ],
      "metadata": {
        "colab": {
          "base_uri": "https://localhost:8080/"
        },
        "id": "xzIuyN4ya1ob",
        "outputId": "8eb754b3-d262-4e0a-c54c-8ba1ba8fda94"
      },
      "execution_count": 97,
      "outputs": [
        {
          "output_type": "execute_result",
          "data": {
            "text/plain": [
              "['anscombe.json',\n",
              " 'README.md',\n",
              " 'mnist_train_small.csv',\n",
              " 'california_housing_test.csv',\n",
              " 'california_housing_train.csv',\n",
              " 'mnist_test.csv']"
            ]
          },
          "metadata": {},
          "execution_count": 97
        }
      ]
    },
    {
      "cell_type": "markdown",
      "source": [
        "### Create new directory\n",
        "\n",
        "There are different methods available in the OS module for creating a directory.\n",
        "\n",
        "    os.mkdir()\n",
        "    os.makedirs()"
      ],
      "metadata": {
        "id": "nDnO1Dp5NJSA"
      }
    },
    {
      "cell_type": "markdown",
      "source": [
        "os.mkdir() method in Python is used to create a directory named path with the specified numeric mode. \n",
        "\n",
        "This method raises FileExistsError if the directory to be created already exists"
      ],
      "metadata": {
        "id": "Letx4rDbN8Vv"
      }
    },
    {
      "cell_type": "code",
      "source": [
        "os.mkdir('MyNewDir')\n",
        "os.listdir()"
      ],
      "metadata": {
        "colab": {
          "base_uri": "https://localhost:8080/"
        },
        "id": "Ui2os9anM75d",
        "outputId": "3560f479-26d1-48bc-bf14-baa60b0a2634"
      },
      "execution_count": 98,
      "outputs": [
        {
          "output_type": "execute_result",
          "data": {
            "text/plain": [
              "['.config', 'MyNewDir', '.ipynb_checkpoints', 'sample_data']"
            ]
          },
          "metadata": {},
          "execution_count": 98
        }
      ]
    },
    {
      "cell_type": "markdown",
      "source": [
        "os.makedirs() method in Python is used to create a directory recursively. \n",
        "\n",
        "That means while making leaf directory if any intermediate-level directory is missing, os.makedirs() method will create them all."
      ],
      "metadata": {
        "id": "BKoZffnsN13P"
      }
    },
    {
      "cell_type": "code",
      "source": [
        "os.makedirs('MyNewDir/MyDir/Another')\n",
        "os.listdir()"
      ],
      "metadata": {
        "colab": {
          "base_uri": "https://localhost:8080/"
        },
        "id": "NUseIav8NlrN",
        "outputId": "6292545c-dfdd-49cc-db5d-833d8ece1805"
      },
      "execution_count": 99,
      "outputs": [
        {
          "output_type": "execute_result",
          "data": {
            "text/plain": [
              "['.config', 'MyNewDir', '.ipynb_checkpoints', 'sample_data']"
            ]
          },
          "metadata": {},
          "execution_count": 99
        }
      ]
    },
    {
      "cell_type": "markdown",
      "source": [
        "### Deleting Directory or Files \n",
        "\n",
        "OS module provides 2 different methods for removing directories and files in Python.\n",
        "\n",
        "    Using os.remove()\n",
        "    Using os.rmdir()"
      ],
      "metadata": {
        "id": "7zqaSZC2Otw8"
      }
    },
    {
      "cell_type": "markdown",
      "source": [
        "os.remove() method in Python is used to remove or delete a file path. \n",
        "\n",
        "This method can not remove or delete a directory. \n",
        "\n",
        "If the specified path is a directory then OSError will be raised by the method."
      ],
      "metadata": {
        "id": "SVMglxHxO4lj"
      }
    },
    {
      "cell_type": "code",
      "source": [
        "open('MyNewDir/abc.txt', 'w')"
      ],
      "metadata": {
        "colab": {
          "base_uri": "https://localhost:8080/"
        },
        "id": "6f-lmd1qblO-",
        "outputId": "b6f1f446-7057-4ebd-f6a0-7af4d00aa6ef"
      },
      "execution_count": 102,
      "outputs": [
        {
          "output_type": "execute_result",
          "data": {
            "text/plain": [
              "<_io.TextIOWrapper name='MyNewDir/abc.txt' mode='w' encoding='UTF-8'>"
            ]
          },
          "metadata": {},
          "execution_count": 102
        }
      ]
    },
    {
      "cell_type": "code",
      "source": [
        "print(os.listdir('MyNewDir'))\n",
        "os.remove('MyNewDir/abc.txt')\n",
        "print(os.listdir('MyNewDir'))"
      ],
      "metadata": {
        "colab": {
          "base_uri": "https://localhost:8080/"
        },
        "id": "RawOsCvYOH42",
        "outputId": "620e30bc-b91f-4ad8-b7df-5f59c4062048"
      },
      "execution_count": 103,
      "outputs": [
        {
          "output_type": "stream",
          "name": "stdout",
          "text": [
            "['MyDir', 'abc.txt']\n",
            "['MyDir']\n"
          ]
        }
      ]
    },
    {
      "cell_type": "markdown",
      "source": [
        "os.rmdir() method in Python is used to remove or delete an empty directory. \n",
        "\n",
        "OSError will be raised if the specified path is not an empty directory."
      ],
      "metadata": {
        "id": "HYXygTnOPTow"
      }
    },
    {
      "cell_type": "code",
      "source": [
        "os.listdir('MyNewDir/MyDir/Another') \n",
        "os.rmdir('MyNewDir/MyDir/Another')\n",
        "os.listdir('MyNewDir/MyDir/')"
      ],
      "metadata": {
        "id": "_u4obKLbPDOP"
      },
      "execution_count": null,
      "outputs": []
    },
    {
      "cell_type": "code",
      "source": [
        "os.path.join('MyNewDir','MyDir')"
      ],
      "metadata": {
        "colab": {
          "base_uri": "https://localhost:8080/",
          "height": 36
        },
        "id": "Ae6qJx1XcVBO",
        "outputId": "2e32ff41-12f3-4aa8-ed7f-087abf687daf"
      },
      "execution_count": 105,
      "outputs": [
        {
          "output_type": "execute_result",
          "data": {
            "application/vnd.google.colaboratory.intrinsic+json": {
              "type": "string"
            },
            "text/plain": [
              "'MyNewDir/MyDir'"
            ]
          },
          "metadata": {},
          "execution_count": 105
        }
      ]
    },
    {
      "cell_type": "markdown",
      "source": [
        "### Rename a file"
      ],
      "metadata": {
        "id": "l-x9qUUwPxWK"
      }
    },
    {
      "cell_type": "code",
      "source": [
        "os.rename('MyNewDir', 'Old')"
      ],
      "metadata": {
        "id": "PDOko-K4PzW-"
      },
      "execution_count": 106,
      "outputs": []
    },
    {
      "cell_type": "markdown",
      "source": [
        "### Check if path exists"
      ],
      "metadata": {
        "id": "DqnuUDSkPuGi"
      }
    },
    {
      "cell_type": "code",
      "source": [
        "os.path.exists('New')"
      ],
      "metadata": {
        "colab": {
          "base_uri": "https://localhost:8080/"
        },
        "id": "5RLwp03HPXKD",
        "outputId": "8d1c633f-15c9-46db-d4af-86d9ab3f4fd8"
      },
      "execution_count": 108,
      "outputs": [
        {
          "output_type": "execute_result",
          "data": {
            "text/plain": [
              "False"
            ]
          },
          "metadata": {},
          "execution_count": 108
        }
      ]
    },
    {
      "cell_type": "code",
      "source": [
        "os.path.exists('Old/MyDir')"
      ],
      "metadata": {
        "colab": {
          "base_uri": "https://localhost:8080/"
        },
        "id": "fyJDilmhctv6",
        "outputId": "31455341-10ff-4691-84cc-c5d1b153923a"
      },
      "execution_count": 109,
      "outputs": [
        {
          "output_type": "execute_result",
          "data": {
            "text/plain": [
              "True"
            ]
          },
          "metadata": {},
          "execution_count": 109
        }
      ]
    }
  ]
}